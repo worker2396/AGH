{
  "cells": [
    {
      "cell_type": "markdown",
      "metadata": {
        "colab_type": "text",
        "id": "view-in-github"
      },
      "source": [
        "<a href=\"https://colab.research.google.com/github/worker2396/uni/blob/main/Copy_of_Czesc1_2022_Odkrywanie_modeli.ipynb\" target=\"_parent\"><img src=\"https://colab.research.google.com/assets/colab-badge.svg\" alt=\"Open In Colab\"/></a>"
      ]
    },
    {
      "cell_type": "markdown",
      "metadata": {
        "id": "8NnZ8lDR1n-k"
      },
      "source": [
        "# Wprowadzenie do eksploracji procesów (*process mining*)\n",
        "\n",
        "Główną klasą problemów z dziedziny eksploracji procesów jest odkrywanie procesów na podstawie dzienników zdarzeń. \n",
        "Metody odkrywania procesów biznesowych z danych pozwalają na budowę modeli procesów biznesowych i zobrazowanie rzeczywistych działań zachodzących w organizacjach, a nie jedynie hipotetycznego modelu opracowanego przez analityków.\n",
        "\n",
        "W celu odkrycia modelu potrzebujemy dziennik zdarzeń (*event log*). Taki dziennik może być dostępny bezpośrednio w systemie (wiele systemów w dzisiejszych czasach loguje zachodzące w nich zdarzenia w specjalnych formatach dzienników zdarzeń) lub może być być utworzony z danych dostępnych w naszych bazach danych:\n",
        "  * w prosty sposób np. z danych o transakcjach w sklepie internetowym, czy zachowaniu użytkowników systemu (kiedy, co i przez kogo zostało kliknięte w systemie), lub \n",
        "  * w nieco bardziej skomplikowany sposób z danych nieustrukturyzowanych, takich jak np. e-maile, obraz z kamery itp. "
      ]
    },
    {
      "cell_type": "markdown",
      "metadata": {
        "id": "-7lUlLXk6ypu"
      },
      "source": [
        "## Konfiguracja środowiska\n"
      ]
    },
    {
      "cell_type": "code",
      "execution_count": 256,
      "metadata": {
        "colab": {
          "base_uri": "https://localhost:8080/"
        },
        "id": "mlg0xIAI6Om8",
        "outputId": "8885ffbc-fb7c-4cf0-c760-823f114eaa06"
      },
      "outputs": [
        {
          "name": "stderr",
          "output_type": "stream",
          "text": [
            "'apt' is not recognized as an internal or external command,\n",
            "operable program or batch file.\n"
          ]
        }
      ],
      "source": [
        "!apt install libgraphviz-dev"
      ]
    },
    {
      "cell_type": "markdown",
      "metadata": {
        "id": "jYW1Pkhp7Srb"
      },
      "source": [
        "## Pobranie przykładowych danych dla naszego logu\n",
        "\n",
        "Aby móc odkryć model procesu potrzebujemy danych, na bazie których będziemy próbowali ten model skonstruować. Dane możemy albo wczytywać bezpośrednio z serwera albo pobrać je i wczytywać z lokalnego pliku. \n",
        "\n",
        "Ponieważ plik z naszymi danymi dot. procesu napraw telefonów nie jest bardzo duży spróbujmy go pobrać w celu późniejszego przetwarzania. "
      ]
    },
    {
      "cell_type": "code",
      "execution_count": 257,
      "metadata": {
        "colab": {
          "base_uri": "https://localhost:8080/"
        },
        "id": "4X6t8hEt7Lzx",
        "outputId": "422e4943-e80e-4db6-c93e-41656a7e8b8c"
      },
      "outputs": [
        {
          "name": "stderr",
          "output_type": "stream",
          "text": [
            "'wget' is not recognized as an internal or external command,\n",
            "operable program or batch file.\n"
          ]
        }
      ],
      "source": [
        "!wget http://home.agh.edu.pl/~kluza/repairExample.csv"
      ]
    },
    {
      "cell_type": "markdown",
      "metadata": {
        "id": "vuIlFNon99Od"
      },
      "source": [
        "## Importowanie modułów\n",
        "\n",
        "W celu odkrycia napisania prostego programu odkrywającego prototyp modelu procesu skorzystamy z kilku dostępnych modułów dla języka Python:"
      ]
    },
    {
      "cell_type": "code",
      "execution_count": 258,
      "metadata": {
        "id": "9A8axS-V99qU"
      },
      "outputs": [],
      "source": [
        "import pandas as pd\n",
        "from functools import reduce\n",
        "from itertools import groupby\n",
        "from itertools import chain\n",
        "from more_itertools import pairwise\n",
        "from collections import Counter\n",
        "import pygraphviz as pgv\n",
        "from IPython.display import Image, display\n",
        "import ipywidgets as widgets\n",
        "from ipywidgets import interact, interactive, fixed, interact_manual"
      ]
    },
    {
      "cell_type": "code",
      "execution_count": 259,
      "metadata": {},
      "outputs": [],
      "source": [
        "\n",
        "slider1 = widgets.IntSlider(\n",
        "    value=700,\n",
        "    min=350,\n",
        "    max=1400,\n",
        "    step=1,\n",
        "    description='Test:',\n",
        "    readout_format='d'\n",
        ")\n"
      ]
    },
    {
      "cell_type": "code",
      "execution_count": 260,
      "metadata": {},
      "outputs": [],
      "source": [
        "slider2 = widgets.IntSlider(\n",
        "    value=70,\n",
        "    min=0,\n",
        "    max=500,\n",
        "    step=1,\n",
        "    description='Test:',\n",
        "    readout_format='d'\n",
        ")"
      ]
    },
    {
      "cell_type": "code",
      "execution_count": 282,
      "metadata": {},
      "outputs": [
        {
          "data": {
            "application/vnd.jupyter.widget-view+json": {
              "model_id": "f645c691efb6422b90ad1c9803e0ff7b",
              "version_major": 2,
              "version_minor": 0
            },
            "text/plain": [
              "IntSlider(value=1028, description='Test:', max=1400, min=350)"
            ]
          },
          "metadata": {},
          "output_type": "display_data"
        },
        {
          "name": "stdout",
          "output_type": "stream",
          "text": [
            "1028\n"
          ]
        }
      ],
      "source": [
        "display(slider1)\n",
        "print(slider1.value)\n",
        "filter1 = slider1.value\n"
      ]
    },
    {
      "cell_type": "markdown",
      "metadata": {
        "id": "9tXPC3vKjcwW"
      },
      "source": [
        "##Wczytanie danych\n",
        "\n",
        "Wczytaj dane z pliku csv i przejrzyj je, a następnie używając funkcji z narzędzia pandas spróbuj odpowiedzieć na pytania związane z dziennikiem zdarzeń."
      ]
    },
    {
      "cell_type": "code",
      "execution_count": 284,
      "metadata": {
        "colab": {
          "base_uri": "https://localhost:8080/",
          "height": 635
        },
        "id": "IGo2-mhP7Ti2",
        "outputId": "91268c2f-14cf-47c7-a49e-329d11335aef"
      },
      "outputs": [
        {
          "data": {
            "text/html": [
              "<div>\n",
              "<style scoped>\n",
              "    .dataframe tbody tr th:only-of-type {\n",
              "        vertical-align: middle;\n",
              "    }\n",
              "\n",
              "    .dataframe tbody tr th {\n",
              "        vertical-align: top;\n",
              "    }\n",
              "\n",
              "    .dataframe thead th {\n",
              "        text-align: right;\n",
              "    }\n",
              "</style>\n",
              "<table border=\"1\" class=\"dataframe\">\n",
              "  <thead>\n",
              "    <tr style=\"text-align: right;\">\n",
              "      <th></th>\n",
              "      <th>Case ID</th>\n",
              "      <th>Activity</th>\n",
              "      <th>Resource</th>\n",
              "      <th>Start Timestamp</th>\n",
              "      <th>Complete Timestamp</th>\n",
              "      <th>Variant</th>\n",
              "      <th>Variant index</th>\n",
              "      <th>(case) creator</th>\n",
              "      <th>(case) variant</th>\n",
              "      <th>(case) variant-index</th>\n",
              "      <th>concept:name</th>\n",
              "      <th>defectFixed</th>\n",
              "      <th>defectType</th>\n",
              "      <th>lifecycle:transition</th>\n",
              "      <th>numberRepairs</th>\n",
              "      <th>org:resource</th>\n",
              "      <th>phoneType</th>\n",
              "    </tr>\n",
              "  </thead>\n",
              "  <tbody>\n",
              "    <tr>\n",
              "      <th>0</th>\n",
              "      <td>1</td>\n",
              "      <td>Register</td>\n",
              "      <td>System</td>\n",
              "      <td>1970/01/02 12:23:00.000</td>\n",
              "      <td>1970/01/02 12:23:00.000</td>\n",
              "      <td>Variant 2</td>\n",
              "      <td>2</td>\n",
              "      <td>Fluxicon Disco</td>\n",
              "      <td>Variant 2</td>\n",
              "      <td>2</td>\n",
              "      <td>Register</td>\n",
              "      <td>NaN</td>\n",
              "      <td>NaN</td>\n",
              "      <td>complete</td>\n",
              "      <td>NaN</td>\n",
              "      <td>System</td>\n",
              "      <td>NaN</td>\n",
              "    </tr>\n",
              "    <tr>\n",
              "      <th>1</th>\n",
              "      <td>1</td>\n",
              "      <td>Analyze Defect</td>\n",
              "      <td>Tester3</td>\n",
              "      <td>1970/01/02 12:23:00.000</td>\n",
              "      <td>1970/01/02 12:30:00.000</td>\n",
              "      <td>Variant 2</td>\n",
              "      <td>2</td>\n",
              "      <td>Fluxicon Disco</td>\n",
              "      <td>Variant 2</td>\n",
              "      <td>2</td>\n",
              "      <td>Analyze Defect</td>\n",
              "      <td>NaN</td>\n",
              "      <td>6</td>\n",
              "      <td>complete</td>\n",
              "      <td>NaN</td>\n",
              "      <td>Tester3</td>\n",
              "      <td>T2</td>\n",
              "    </tr>\n",
              "    <tr>\n",
              "      <th>2</th>\n",
              "      <td>1</td>\n",
              "      <td>Repair (Complex)</td>\n",
              "      <td>SolverC1</td>\n",
              "      <td>1970/01/02 12:31:00.000</td>\n",
              "      <td>1970/01/02 12:49:00.000</td>\n",
              "      <td>Variant 2</td>\n",
              "      <td>2</td>\n",
              "      <td>Fluxicon Disco</td>\n",
              "      <td>Variant 2</td>\n",
              "      <td>2</td>\n",
              "      <td>Repair (Complex)</td>\n",
              "      <td>NaN</td>\n",
              "      <td>NaN</td>\n",
              "      <td>complete</td>\n",
              "      <td>NaN</td>\n",
              "      <td>SolverC1</td>\n",
              "      <td>NaN</td>\n",
              "    </tr>\n",
              "    <tr>\n",
              "      <th>3</th>\n",
              "      <td>1</td>\n",
              "      <td>Test Repair</td>\n",
              "      <td>Tester3</td>\n",
              "      <td>1970/01/02 12:49:00.000</td>\n",
              "      <td>1970/01/02 12:55:00.000</td>\n",
              "      <td>Variant 2</td>\n",
              "      <td>2</td>\n",
              "      <td>Fluxicon Disco</td>\n",
              "      <td>Variant 2</td>\n",
              "      <td>2</td>\n",
              "      <td>Test Repair</td>\n",
              "      <td>true</td>\n",
              "      <td>NaN</td>\n",
              "      <td>complete</td>\n",
              "      <td>0</td>\n",
              "      <td>Tester3</td>\n",
              "      <td>NaN</td>\n",
              "    </tr>\n",
              "    <tr>\n",
              "      <th>4</th>\n",
              "      <td>1</td>\n",
              "      <td>Inform User</td>\n",
              "      <td>System</td>\n",
              "      <td>1970/01/02 13:10:00.000</td>\n",
              "      <td>1970/01/02 13:10:00.000</td>\n",
              "      <td>Variant 2</td>\n",
              "      <td>2</td>\n",
              "      <td>Fluxicon Disco</td>\n",
              "      <td>Variant 2</td>\n",
              "      <td>2</td>\n",
              "      <td>Inform User</td>\n",
              "      <td>NaN</td>\n",
              "      <td>NaN</td>\n",
              "      <td>complete</td>\n",
              "      <td>NaN</td>\n",
              "      <td>System</td>\n",
              "      <td>NaN</td>\n",
              "    </tr>\n",
              "    <tr>\n",
              "      <th>5</th>\n",
              "      <td>1</td>\n",
              "      <td>Archive Repair</td>\n",
              "      <td>System</td>\n",
              "      <td>1970/01/02 13:10:00.000</td>\n",
              "      <td>1970/01/02 13:10:00.000</td>\n",
              "      <td>Variant 2</td>\n",
              "      <td>2</td>\n",
              "      <td>Fluxicon Disco</td>\n",
              "      <td>Variant 2</td>\n",
              "      <td>2</td>\n",
              "      <td>Archive Repair</td>\n",
              "      <td>true</td>\n",
              "      <td>NaN</td>\n",
              "      <td>complete</td>\n",
              "      <td>0</td>\n",
              "      <td>System</td>\n",
              "      <td>NaN</td>\n",
              "    </tr>\n",
              "    <tr>\n",
              "      <th>6</th>\n",
              "      <td>1</td>\n",
              "      <td>End</td>\n",
              "      <td>End</td>\n",
              "      <td>1970/01/02 13:10:00.000</td>\n",
              "      <td>1970/01/02 13:10:00.000</td>\n",
              "      <td>Variant 2</td>\n",
              "      <td>2</td>\n",
              "      <td>Fluxicon Disco</td>\n",
              "      <td>Variant 2</td>\n",
              "      <td>2</td>\n",
              "      <td>End</td>\n",
              "      <td>End</td>\n",
              "      <td>End</td>\n",
              "      <td>complete</td>\n",
              "      <td>End</td>\n",
              "      <td>End</td>\n",
              "      <td>End</td>\n",
              "    </tr>\n",
              "    <tr>\n",
              "      <th>7</th>\n",
              "      <td>10</td>\n",
              "      <td>Register</td>\n",
              "      <td>System</td>\n",
              "      <td>1970/01/01 11:09:00.000</td>\n",
              "      <td>1970/01/01 11:09:00.000</td>\n",
              "      <td>Variant 8</td>\n",
              "      <td>8</td>\n",
              "      <td>Fluxicon Disco</td>\n",
              "      <td>Variant 8</td>\n",
              "      <td>8</td>\n",
              "      <td>Register</td>\n",
              "      <td>NaN</td>\n",
              "      <td>NaN</td>\n",
              "      <td>complete</td>\n",
              "      <td>NaN</td>\n",
              "      <td>System</td>\n",
              "      <td>NaN</td>\n",
              "    </tr>\n",
              "    <tr>\n",
              "      <th>8</th>\n",
              "      <td>10</td>\n",
              "      <td>Analyze Defect</td>\n",
              "      <td>Tester2</td>\n",
              "      <td>1970/01/01 11:09:00.000</td>\n",
              "      <td>1970/01/01 11:15:00.000</td>\n",
              "      <td>Variant 8</td>\n",
              "      <td>8</td>\n",
              "      <td>Fluxicon Disco</td>\n",
              "      <td>Variant 8</td>\n",
              "      <td>8</td>\n",
              "      <td>Analyze Defect</td>\n",
              "      <td>NaN</td>\n",
              "      <td>3</td>\n",
              "      <td>complete</td>\n",
              "      <td>NaN</td>\n",
              "      <td>Tester2</td>\n",
              "      <td>T1</td>\n",
              "    </tr>\n",
              "    <tr>\n",
              "      <th>9</th>\n",
              "      <td>10</td>\n",
              "      <td>Repair (Simple)</td>\n",
              "      <td>SolverS1</td>\n",
              "      <td>1970/01/01 11:35:00.000</td>\n",
              "      <td>1970/01/01 11:42:00.000</td>\n",
              "      <td>Variant 8</td>\n",
              "      <td>8</td>\n",
              "      <td>Fluxicon Disco</td>\n",
              "      <td>Variant 8</td>\n",
              "      <td>8</td>\n",
              "      <td>Repair (Simple)</td>\n",
              "      <td>NaN</td>\n",
              "      <td>NaN</td>\n",
              "      <td>complete</td>\n",
              "      <td>NaN</td>\n",
              "      <td>SolverS1</td>\n",
              "      <td>NaN</td>\n",
              "    </tr>\n",
              "  </tbody>\n",
              "</table>\n",
              "</div>"
            ],
            "text/plain": [
              "   Case ID          Activity  Resource          Start Timestamp  \\\n",
              "0        1          Register    System  1970/01/02 12:23:00.000   \n",
              "1        1    Analyze Defect   Tester3  1970/01/02 12:23:00.000   \n",
              "2        1  Repair (Complex)  SolverC1  1970/01/02 12:31:00.000   \n",
              "3        1       Test Repair   Tester3  1970/01/02 12:49:00.000   \n",
              "4        1       Inform User    System  1970/01/02 13:10:00.000   \n",
              "5        1    Archive Repair    System  1970/01/02 13:10:00.000   \n",
              "6        1               End       End  1970/01/02 13:10:00.000   \n",
              "7       10          Register    System  1970/01/01 11:09:00.000   \n",
              "8       10    Analyze Defect   Tester2  1970/01/01 11:09:00.000   \n",
              "9       10   Repair (Simple)  SolverS1  1970/01/01 11:35:00.000   \n",
              "\n",
              "        Complete Timestamp    Variant  Variant index  (case) creator  \\\n",
              "0  1970/01/02 12:23:00.000  Variant 2              2  Fluxicon Disco   \n",
              "1  1970/01/02 12:30:00.000  Variant 2              2  Fluxicon Disco   \n",
              "2  1970/01/02 12:49:00.000  Variant 2              2  Fluxicon Disco   \n",
              "3  1970/01/02 12:55:00.000  Variant 2              2  Fluxicon Disco   \n",
              "4  1970/01/02 13:10:00.000  Variant 2              2  Fluxicon Disco   \n",
              "5  1970/01/02 13:10:00.000  Variant 2              2  Fluxicon Disco   \n",
              "6  1970/01/02 13:10:00.000  Variant 2              2  Fluxicon Disco   \n",
              "7  1970/01/01 11:09:00.000  Variant 8              8  Fluxicon Disco   \n",
              "8  1970/01/01 11:15:00.000  Variant 8              8  Fluxicon Disco   \n",
              "9  1970/01/01 11:42:00.000  Variant 8              8  Fluxicon Disco   \n",
              "\n",
              "  (case) variant  (case) variant-index      concept:name defectFixed  \\\n",
              "0      Variant 2                     2          Register         NaN   \n",
              "1      Variant 2                     2    Analyze Defect         NaN   \n",
              "2      Variant 2                     2  Repair (Complex)         NaN   \n",
              "3      Variant 2                     2       Test Repair        true   \n",
              "4      Variant 2                     2       Inform User         NaN   \n",
              "5      Variant 2                     2    Archive Repair        true   \n",
              "6      Variant 2                     2               End         End   \n",
              "7      Variant 8                     8          Register         NaN   \n",
              "8      Variant 8                     8    Analyze Defect         NaN   \n",
              "9      Variant 8                     8   Repair (Simple)         NaN   \n",
              "\n",
              "  defectType lifecycle:transition numberRepairs org:resource phoneType  \n",
              "0        NaN             complete           NaN       System       NaN  \n",
              "1          6             complete           NaN      Tester3        T2  \n",
              "2        NaN             complete           NaN     SolverC1       NaN  \n",
              "3        NaN             complete             0      Tester3       NaN  \n",
              "4        NaN             complete           NaN       System       NaN  \n",
              "5        NaN             complete             0       System       NaN  \n",
              "6        End             complete           End          End       End  \n",
              "7        NaN             complete           NaN       System       NaN  \n",
              "8          3             complete           NaN      Tester2        T1  \n",
              "9        NaN             complete           NaN     SolverS1       NaN  "
            ]
          },
          "execution_count": 284,
          "metadata": {},
          "output_type": "execute_result"
        }
      ],
      "source": [
        "df = pd.read_csv('repairExample.csv')\n",
        "df.head(10)"
      ]
    },
    {
      "cell_type": "markdown",
      "metadata": {
        "id": "HjBEQbCskzzJ"
      },
      "source": [
        "* Ile jest wszystkich zdarzeń w logu? "
      ]
    },
    {
      "cell_type": "markdown",
      "metadata": {
        "id": "4YPyDtV6lVX-"
      },
      "source": [
        "*   Wśród pracowników (*Resource*) możemy wyróżnić m.in. testerów i solverów. Ilu różnych testerów oraz solverów jest zaangażowanych w proces?\n",
        "\n"
      ]
    },
    {
      "cell_type": "markdown",
      "metadata": {
        "id": "w0IowrablsP7"
      },
      "source": [
        "* Które zadanie (*Activity*) zajmuje najwięcej czasu? \\\\\n",
        "(sposród wszystkich zadań, które w jakiejkolwiek instancji procesu trwało najdłużej)\n",
        "\n",
        "Podpowiedź: Przekształć kolumny czasowe do typu `datetime`, tak aby móc wykonać stosowne obliczenia czasu."
      ]
    },
    {
      "cell_type": "code",
      "execution_count": 285,
      "metadata": {
        "colab": {
          "base_uri": "https://localhost:8080/"
        },
        "id": "7Ukv479ImRFQ",
        "outputId": "aba5615c-28de-47bd-d690-c33cdc5ef355"
      },
      "outputs": [
        {
          "data": {
            "text/plain": [
              "Case ID                          int64\n",
              "Activity                        object\n",
              "Resource                        object\n",
              "Start Timestamp                 object\n",
              "Complete Timestamp              object\n",
              "Variant                         object\n",
              "Variant index                    int64\n",
              "(case) creator                  object\n",
              "(case) variant                  object\n",
              "(case) variant-index             int64\n",
              "concept:name                    object\n",
              "defectFixed                     object\n",
              "defectType                      object\n",
              "lifecycle:transition            object\n",
              "numberRepairs                   object\n",
              "org:resource                    object\n",
              "phoneType                       object\n",
              "start                   datetime64[ns]\n",
              "dtype: object"
            ]
          },
          "execution_count": 285,
          "metadata": {},
          "output_type": "execute_result"
        }
      ],
      "source": [
        "df['start'] = pd.to_datetime(df['Start Timestamp'])\n",
        "df.dtypes"
      ]
    },
    {
      "cell_type": "markdown",
      "metadata": {
        "id": "-NfQxzTYmojx"
      },
      "source": [
        "## Przygotowanie danych\n",
        "\n",
        "W zależności od tego, w jaki sposób przygotujemy dane do odkrywania modelu, może to znacznie uprościć nam przetwarzanie. Na początek spróbujmy określić, w jakiej kolejności występowały zdarzenia w poszczególnych przypadkach, a zatem określimy jakie mamy w logu ślady/ścieżki (*traces*).  \n",
        "\n",
        "Uprośćmy nieco nasz log, aby łatwiej przetwarzać dane:"
      ]
    },
    {
      "cell_type": "code",
      "execution_count": 286,
      "metadata": {
        "colab": {
          "base_uri": "https://localhost:8080/",
          "height": 206
        },
        "id": "aCgaurbAl9Mz",
        "outputId": "c50f38d8-77b3-47ef-d7c3-f57b7e1c3be0"
      },
      "outputs": [
        {
          "data": {
            "text/html": [
              "<div>\n",
              "<style scoped>\n",
              "    .dataframe tbody tr th:only-of-type {\n",
              "        vertical-align: middle;\n",
              "    }\n",
              "\n",
              "    .dataframe tbody tr th {\n",
              "        vertical-align: top;\n",
              "    }\n",
              "\n",
              "    .dataframe thead th {\n",
              "        text-align: right;\n",
              "    }\n",
              "</style>\n",
              "<table border=\"1\" class=\"dataframe\">\n",
              "  <thead>\n",
              "    <tr style=\"text-align: right;\">\n",
              "      <th></th>\n",
              "      <th>Case ID</th>\n",
              "      <th>Activity</th>\n",
              "      <th>start</th>\n",
              "    </tr>\n",
              "  </thead>\n",
              "  <tbody>\n",
              "    <tr>\n",
              "      <th>0</th>\n",
              "      <td>1</td>\n",
              "      <td>Register</td>\n",
              "      <td>1970-01-02 12:23:00</td>\n",
              "    </tr>\n",
              "    <tr>\n",
              "      <th>1</th>\n",
              "      <td>1</td>\n",
              "      <td>Analyze Defect</td>\n",
              "      <td>1970-01-02 12:23:00</td>\n",
              "    </tr>\n",
              "    <tr>\n",
              "      <th>2</th>\n",
              "      <td>1</td>\n",
              "      <td>Repair (Complex)</td>\n",
              "      <td>1970-01-02 12:31:00</td>\n",
              "    </tr>\n",
              "    <tr>\n",
              "      <th>3</th>\n",
              "      <td>1</td>\n",
              "      <td>Test Repair</td>\n",
              "      <td>1970-01-02 12:49:00</td>\n",
              "    </tr>\n",
              "    <tr>\n",
              "      <th>4</th>\n",
              "      <td>1</td>\n",
              "      <td>Inform User</td>\n",
              "      <td>1970-01-02 13:10:00</td>\n",
              "    </tr>\n",
              "  </tbody>\n",
              "</table>\n",
              "</div>"
            ],
            "text/plain": [
              "   Case ID          Activity               start\n",
              "0        1          Register 1970-01-02 12:23:00\n",
              "1        1    Analyze Defect 1970-01-02 12:23:00\n",
              "2        1  Repair (Complex) 1970-01-02 12:31:00\n",
              "3        1       Test Repair 1970-01-02 12:49:00\n",
              "4        1       Inform User 1970-01-02 13:10:00"
            ]
          },
          "execution_count": 286,
          "metadata": {},
          "output_type": "execute_result"
        }
      ],
      "source": [
        "dfs = df[['Case ID', 'Activity', 'start']]\n",
        "dfs.head()"
      ]
    },
    {
      "cell_type": "markdown",
      "metadata": {
        "id": "oxeyk5_YSg7p"
      },
      "source": [
        "Następnie zobaczmy, jak często wykonywane były poszczególne zadania:"
      ]
    },
    {
      "cell_type": "code",
      "execution_count": 287,
      "metadata": {
        "colab": {
          "base_uri": "https://localhost:8080/",
          "height": 130
        },
        "id": "a0YKubt4rXeG",
        "outputId": "51e0abf0-a89e-4d31-8377-2546ea7aab57"
      },
      "outputs": [
        {
          "name": "stdout",
          "output_type": "stream",
          "text": [
            "Archive Repair\n",
            "1000\n",
            "Repair (Simple)\n",
            "785\n",
            "Repair (Complex)\n",
            "725\n",
            "Restart Repair\n",
            "406\n"
          ]
        },
        {
          "name": "stderr",
          "output_type": "stream",
          "text": [
            "C:\\Users\\Filip\\AppData\\Local\\Temp\\ipykernel_22540\\4210719888.py:9: SettingWithCopyWarning: \n",
            "A value is trying to be set on a copy of a slice from a DataFrame\n",
            "\n",
            "See the caveats in the documentation: https://pandas.pydata.org/pandas-docs/stable/user_guide/indexing.html#returning-a-view-versus-a-copy\n",
            "  dfs.drop(dfs[dfs['Activity'] == event].index, inplace=True)\n"
          ]
        },
        {
          "data": {
            "text/plain": [
              "Test Repair       1508\n",
              "Register          1104\n",
              "Analyze Defect    1104\n",
              "End               1104\n",
              "Inform User       1102\n",
              "Name: Activity, dtype: int64"
            ]
          },
          "execution_count": 287,
          "metadata": {},
          "output_type": "execute_result"
        }
      ],
      "source": [
        "ev_counter = dfs.Activity.value_counts()\n",
        "\n",
        "def threshold_filter(threshold, counter_dict):\n",
        "  for event, count in counter_dict.items():\n",
        "    if count < threshold:\n",
        "      print(event)\n",
        "      print(count)\n",
        "      counter_dict.pop(event)\n",
        "      dfs.drop(dfs[dfs['Activity'] == event].index, inplace=True)\n",
        "\n",
        "\n",
        "threshold_filter(filter1, ev_counter)\n",
        "ev_counter = dfs.Activity.value_counts()\n",
        "dfs.Activity.value_counts()\n"
      ]
    },
    {
      "cell_type": "markdown",
      "metadata": {
        "id": "ZtkuqLmQS-dA"
      },
      "source": [
        "Na bazie identyfikatora przypadu (*Case ID*) pogrupujemy wszystkie zadania w ślady (*traces*):"
      ]
    },
    {
      "cell_type": "code",
      "execution_count": 288,
      "metadata": {
        "id": "YzKClaKEnBpg"
      },
      "outputs": [],
      "source": [
        "dfs = (dfs\n",
        "    .sort_values(by=['Case ID','start'])\n",
        "    .groupby(['Case ID'])\n",
        "    .agg({'Activity': ';'.join})\n",
        ")"
      ]
    },
    {
      "cell_type": "markdown",
      "metadata": {
        "id": "ecYLVK6dTqQw"
      },
      "source": [
        "Zobaczmy zatem, jakie przykładowe ślady (instancje procesów) są w naszym logu:"
      ]
    },
    {
      "cell_type": "code",
      "execution_count": 289,
      "metadata": {
        "colab": {
          "base_uri": "https://localhost:8080/",
          "height": 238
        },
        "id": "_H72Rbc6nx9-",
        "outputId": "85dcadd3-43f3-47c8-be49-c92f39607ecf"
      },
      "outputs": [
        {
          "data": {
            "text/html": [
              "<div>\n",
              "<style scoped>\n",
              "    .dataframe tbody tr th:only-of-type {\n",
              "        vertical-align: middle;\n",
              "    }\n",
              "\n",
              "    .dataframe tbody tr th {\n",
              "        vertical-align: top;\n",
              "    }\n",
              "\n",
              "    .dataframe thead th {\n",
              "        text-align: right;\n",
              "    }\n",
              "</style>\n",
              "<table border=\"1\" class=\"dataframe\">\n",
              "  <thead>\n",
              "    <tr style=\"text-align: right;\">\n",
              "      <th></th>\n",
              "      <th>Activity</th>\n",
              "    </tr>\n",
              "    <tr>\n",
              "      <th>Case ID</th>\n",
              "      <th></th>\n",
              "    </tr>\n",
              "  </thead>\n",
              "  <tbody>\n",
              "    <tr>\n",
              "      <th>1</th>\n",
              "      <td>Register;Analyze Defect;Test Repair;Inform Use...</td>\n",
              "    </tr>\n",
              "    <tr>\n",
              "      <th>2</th>\n",
              "      <td>Register;Analyze Defect;Inform User;Test Repai...</td>\n",
              "    </tr>\n",
              "    <tr>\n",
              "      <th>3</th>\n",
              "      <td>Register;Analyze Defect;Inform User;Test Repai...</td>\n",
              "    </tr>\n",
              "    <tr>\n",
              "      <th>4</th>\n",
              "      <td>Register;Analyze Defect;Inform User;Test Repai...</td>\n",
              "    </tr>\n",
              "    <tr>\n",
              "      <th>5</th>\n",
              "      <td>Register;Analyze Defect;Test Repair;Inform Use...</td>\n",
              "    </tr>\n",
              "  </tbody>\n",
              "</table>\n",
              "</div>"
            ],
            "text/plain": [
              "                                                  Activity\n",
              "Case ID                                                   \n",
              "1        Register;Analyze Defect;Test Repair;Inform Use...\n",
              "2        Register;Analyze Defect;Inform User;Test Repai...\n",
              "3        Register;Analyze Defect;Inform User;Test Repai...\n",
              "4        Register;Analyze Defect;Inform User;Test Repai...\n",
              "5        Register;Analyze Defect;Test Repair;Inform Use..."
            ]
          },
          "execution_count": 289,
          "metadata": {},
          "output_type": "execute_result"
        }
      ],
      "source": [
        "dfs.head()\n"
      ]
    },
    {
      "cell_type": "markdown",
      "metadata": {
        "id": "WByot2ciVyjw"
      },
      "source": [
        "Aby zobaczyć, jak dokładniej wygląda taki ślad, obejrzyjmy dowolny z takich śladów:"
      ]
    },
    {
      "cell_type": "code",
      "execution_count": 290,
      "metadata": {
        "colab": {
          "base_uri": "https://localhost:8080/",
          "height": 35
        },
        "id": "wGoEkI29Ua_m",
        "outputId": "66def60e-52c3-4ab4-a3e9-b9f63e90f417"
      },
      "outputs": [
        {
          "data": {
            "text/plain": [
              "'Register;Analyze Defect;Test Repair;Inform User;End'"
            ]
          },
          "execution_count": 290,
          "metadata": {},
          "output_type": "execute_result"
        }
      ],
      "source": [
        "dfs.iloc[145]['Activity']"
      ]
    },
    {
      "cell_type": "markdown",
      "metadata": {
        "id": "YNDtFeodWSRh"
      },
      "source": [
        "Ponieważ ślady w logu mogą się powtarzać, zgrupujmy je zatem w warianty i policzmy ile jest śladów każdego typu:"
      ]
    },
    {
      "cell_type": "code",
      "execution_count": 291,
      "metadata": {
        "id": "Vd95LnySFCGn"
      },
      "outputs": [],
      "source": [
        "dfs['count'] = 0\n",
        "dfs = (\n",
        "    dfs.groupby('Activity', as_index=False).count()\n",
        "    .sort_values(['count'], ascending=False)\n",
        "    .reset_index(drop=True)\n",
        "    )"
      ]
    },
    {
      "cell_type": "code",
      "execution_count": 292,
      "metadata": {
        "colab": {
          "base_uri": "https://localhost:8080/",
          "height": 215
        },
        "id": "9v1SMeUfW-FS",
        "outputId": "bbf7b9e3-f2c2-454c-9ac0-604e1755f5e8"
      },
      "outputs": [
        {
          "data": {
            "text/html": [
              "<div>\n",
              "<style scoped>\n",
              "    .dataframe tbody tr th:only-of-type {\n",
              "        vertical-align: middle;\n",
              "    }\n",
              "\n",
              "    .dataframe tbody tr th {\n",
              "        vertical-align: top;\n",
              "    }\n",
              "\n",
              "    .dataframe thead th {\n",
              "        text-align: right;\n",
              "    }\n",
              "</style>\n",
              "<table border=\"1\" class=\"dataframe\">\n",
              "  <thead>\n",
              "    <tr style=\"text-align: right;\">\n",
              "      <th></th>\n",
              "      <th>Activity</th>\n",
              "      <th>count</th>\n",
              "    </tr>\n",
              "  </thead>\n",
              "  <tbody>\n",
              "    <tr>\n",
              "      <th>0</th>\n",
              "      <td>Register;Analyze Defect;Inform User;Test Repai...</td>\n",
              "      <td>475</td>\n",
              "    </tr>\n",
              "    <tr>\n",
              "      <th>1</th>\n",
              "      <td>Register;Analyze Defect;Test Repair;Inform Use...</td>\n",
              "      <td>334</td>\n",
              "    </tr>\n",
              "    <tr>\n",
              "      <th>2</th>\n",
              "      <td>Register;Analyze Defect;Test Repair;Inform Use...</td>\n",
              "      <td>107</td>\n",
              "    </tr>\n",
              "  </tbody>\n",
              "</table>\n",
              "</div>"
            ],
            "text/plain": [
              "                                            Activity  count\n",
              "0  Register;Analyze Defect;Inform User;Test Repai...    475\n",
              "1  Register;Analyze Defect;Test Repair;Inform Use...    334\n",
              "2  Register;Analyze Defect;Test Repair;Inform Use...    107"
            ]
          },
          "execution_count": 292,
          "metadata": {},
          "output_type": "execute_result"
        }
      ],
      "source": [
        "\n",
        "def trace_filter(traceNO, trace_counter):\n",
        "  for count in trace_counter:\n",
        "    if count < traceNO:\n",
        "      dfs.drop(dfs[dfs['count'] == count].index, inplace=True)\n",
        "\n",
        "trace_filter(filter2, dfs['count'])\n",
        "dfs"
      ]
    },
    {
      "cell_type": "markdown",
      "metadata": {
        "id": "Q89wtd3yXMIO"
      },
      "source": [
        "Jak wygląda najczęstszy ślad (najczęstsza ścieżka zdarzeń w procesie, czyli najpopularniejszy wariant)? "
      ]
    },
    {
      "cell_type": "markdown",
      "metadata": {
        "id": "bB-WfzCQX_zK"
      },
      "source": [
        "Ponieważ w dalszej części wygodniej będzie nam operować na wariantach w formie listy, \\\\\n",
        "dodamy nową kolumnę, która przechowa wariant w formie listy:"
      ]
    },
    {
      "cell_type": "code",
      "execution_count": 293,
      "metadata": {
        "id": "50YW9bw2FD2T"
      },
      "outputs": [],
      "source": [
        "dfs['trace'] = [trace.split(';') for trace in dfs['Activity']]"
      ]
    },
    {
      "cell_type": "code",
      "execution_count": 294,
      "metadata": {
        "colab": {
          "base_uri": "https://localhost:8080/",
          "height": 298
        },
        "id": "gvzMeiz8rs2p",
        "outputId": "3ed0b344-c4a2-4426-a76a-9ea2e6a013f1"
      },
      "outputs": [
        {
          "data": {
            "text/html": [
              "<div>\n",
              "<style scoped>\n",
              "    .dataframe tbody tr th:only-of-type {\n",
              "        vertical-align: middle;\n",
              "    }\n",
              "\n",
              "    .dataframe tbody tr th {\n",
              "        vertical-align: top;\n",
              "    }\n",
              "\n",
              "    .dataframe thead th {\n",
              "        text-align: right;\n",
              "    }\n",
              "</style>\n",
              "<table border=\"1\" class=\"dataframe\">\n",
              "  <thead>\n",
              "    <tr style=\"text-align: right;\">\n",
              "      <th></th>\n",
              "      <th>Activity</th>\n",
              "      <th>count</th>\n",
              "      <th>trace</th>\n",
              "    </tr>\n",
              "  </thead>\n",
              "  <tbody>\n",
              "    <tr>\n",
              "      <th>0</th>\n",
              "      <td>Register;Analyze Defect;Inform User;Test Repai...</td>\n",
              "      <td>475</td>\n",
              "      <td>[Register, Analyze Defect, Inform User, Test R...</td>\n",
              "    </tr>\n",
              "    <tr>\n",
              "      <th>1</th>\n",
              "      <td>Register;Analyze Defect;Test Repair;Inform Use...</td>\n",
              "      <td>334</td>\n",
              "      <td>[Register, Analyze Defect, Test Repair, Inform...</td>\n",
              "    </tr>\n",
              "    <tr>\n",
              "      <th>2</th>\n",
              "      <td>Register;Analyze Defect;Test Repair;Inform Use...</td>\n",
              "      <td>107</td>\n",
              "      <td>[Register, Analyze Defect, Test Repair, Inform...</td>\n",
              "    </tr>\n",
              "  </tbody>\n",
              "</table>\n",
              "</div>"
            ],
            "text/plain": [
              "                                            Activity  count  \\\n",
              "0  Register;Analyze Defect;Inform User;Test Repai...    475   \n",
              "1  Register;Analyze Defect;Test Repair;Inform Use...    334   \n",
              "2  Register;Analyze Defect;Test Repair;Inform Use...    107   \n",
              "\n",
              "                                               trace  \n",
              "0  [Register, Analyze Defect, Inform User, Test R...  \n",
              "1  [Register, Analyze Defect, Test Repair, Inform...  \n",
              "2  [Register, Analyze Defect, Test Repair, Inform...  "
            ]
          },
          "execution_count": 294,
          "metadata": {},
          "output_type": "execute_result"
        }
      ],
      "source": [
        "dfs.head()"
      ]
    },
    {
      "cell_type": "markdown",
      "metadata": {
        "id": "rOUN49gsZYwn"
      },
      "source": [
        "Na tak przygotowanych danych prościej będzie nam przygotować graf, który zobrazuje model procesu. \\\\\n",
        "W tym celu potrzebujemy pobrać dane z naszego obiektu `Dataframe`:"
      ]
    },
    {
      "cell_type": "code",
      "execution_count": 295,
      "metadata": {
        "colab": {
          "base_uri": "https://localhost:8080/"
        },
        "id": "FrFaUnsi_Umc",
        "outputId": "f367ae9d-45ac-4e86-9440-aa45a8290923"
      },
      "outputs": [
        {
          "name": "stdout",
          "output_type": "stream",
          "text": [
            "0 475 ['Register', 'Analyze Defect', 'Inform User', 'Test Repair', 'End']\n",
            "1 334 ['Register', 'Analyze Defect', 'Test Repair', 'Inform User', 'End']\n",
            "2 107 ['Register', 'Analyze Defect', 'Test Repair', 'Inform User', 'Test Repair', 'End']\n"
          ]
        }
      ],
      "source": [
        "for i, row in dfs[['trace','count']].iterrows():\n",
        "  print(i, row['count'], row['trace'])\n",
        "  if i > 8: break # przerwanie, aby nie wyswietlalo wszystkich wierszy"
      ]
    },
    {
      "cell_type": "markdown",
      "metadata": {
        "id": "bSR2rJf_aXL6"
      },
      "source": [
        "## Odkrywanie modelu procesu\n",
        "\n",
        "Na bazie tak przygotowanych wariantów, możemy dość szybko przygotować odpowiedni graf, \\\\\n",
        "który zobrazuje nam model procesu. Graf przechowamy w słowniku `w_net` (workflow net):"
      ]
    },
    {
      "cell_type": "code",
      "execution_count": 296,
      "metadata": {
        "id": "fQo7khd8OR3b"
      },
      "outputs": [],
      "source": [
        "w_net = dict()\n",
        "ev_start_set = set()\n",
        "ev_end_set = set()\n",
        "for index, row in dfs[['trace','count']].iterrows():\n",
        "  if row['trace'][0] not in ev_start_set:\n",
        "    ev_start_set.add(row['trace'][0])\n",
        "  if row['trace'][-1] not in ev_end_set:\n",
        "    ev_end_set.add(row['trace'][-1])\n",
        "  for ev_i, ev_j in pairwise(row['trace']):\n",
        "    if ev_i not in w_net.keys():\n",
        "      w_net[ev_i] = Counter()\n",
        "    w_net[ev_i][ev_j] += row['count']"
      ]
    },
    {
      "cell_type": "code",
      "execution_count": 297,
      "metadata": {
        "colab": {
          "base_uri": "https://localhost:8080/"
        },
        "id": "OwIj0SaQOnip",
        "outputId": "f855850d-69d1-4e3d-ff6f-34f6fb23ea2c"
      },
      "outputs": [
        {
          "data": {
            "text/plain": [
              "{'Register': Counter({'Analyze Defect': 916}),\n",
              " 'Analyze Defect': Counter({'Inform User': 475, 'Test Repair': 441}),\n",
              " 'Inform User': Counter({'Test Repair': 582, 'End': 334}),\n",
              " 'Test Repair': Counter({'End': 582, 'Inform User': 441})}"
            ]
          },
          "execution_count": 297,
          "metadata": {},
          "output_type": "execute_result"
        }
      ],
      "source": [
        "w_net"
      ]
    },
    {
      "cell_type": "code",
      "execution_count": 298,
      "metadata": {
        "colab": {
          "base_uri": "https://localhost:8080/"
        },
        "id": "vaDvnteUyCaa",
        "outputId": "22d5781f-a8a4-403a-ecbd-39fa76190c2c"
      },
      "outputs": [
        {
          "data": {
            "text/plain": [
              "{'Register'}"
            ]
          },
          "execution_count": 298,
          "metadata": {},
          "output_type": "execute_result"
        }
      ],
      "source": [
        "ev_start_set"
      ]
    },
    {
      "cell_type": "code",
      "execution_count": 299,
      "metadata": {
        "colab": {
          "base_uri": "https://localhost:8080/"
        },
        "id": "_6x4nbmbyD-z",
        "outputId": "0e545184-e889-4045-dcb6-4d1b558132b9"
      },
      "outputs": [
        {
          "data": {
            "text/plain": [
              "{'End'}"
            ]
          },
          "execution_count": 299,
          "metadata": {},
          "output_type": "execute_result"
        }
      ],
      "source": [
        "ev_end_set"
      ]
    },
    {
      "cell_type": "markdown",
      "metadata": {
        "id": "fJeosaNLbkko"
      },
      "source": [
        "Mając tak przygotowany słownik, możemy zilustrować nasz proces przy użyciu `pygraphviz`:"
      ]
    },
    {
      "cell_type": "code",
      "execution_count": 300,
      "metadata": {
        "colab": {
          "base_uri": "https://localhost:8080/",
          "height": 334
        },
        "id": "AJ3AzCQ4Ooki",
        "outputId": "9308edb8-957e-49e1-8be6-8040e1558653"
      },
      "outputs": [
        {
          "name": "stderr",
          "output_type": "stream",
          "text": [
            "C:\\Users\\Filip\\anaconda3\\envs\\Modelowanie\\lib\\site-packages\\pygraphviz\\agraph.py:1402: RuntimeWarning: Warning: Could not load \"C:\\Users\\Filip\\anaconda3\\envs\\Modelowanie\\Library\\bin\\gvplugin_pango.dll\" - It was found, so perhaps one of its dependents was not.  Try ldd.\n",
            "Warning: Could not load \"C:\\Users\\Filip\\anaconda3\\envs\\Modelowanie\\Library\\bin\\gvplugin_pango.dll\" - It was found, so perhaps one of its dependents was not.  Try ldd.\n",
            "Warning: Could not load \"C:\\Users\\Filip\\anaconda3\\envs\\Modelowanie\\Library\\bin\\gvplugin_pango.dll\" - It was found, so perhaps one of its dependents was not.  Try ldd.\n",
            "Warning: Could not load \"C:\\Users\\Filip\\anaconda3\\envs\\Modelowanie\\Library\\bin\\gvplugin_pango.dll\" - It was found, so perhaps one of its dependents was not.  Try ldd.\n",
            "Warning: Could not load \"C:\\Users\\Filip\\anaconda3\\envs\\Modelowanie\\Library\\bin\\gvplugin_pango.dll\" - It was found, so perhaps one of its dependents was not.  Try ldd.\n",
            "\n",
            "  warnings.warn(b\"\".join(errors).decode(self.encoding), RuntimeWarning)\n"
          ]
        },
        {
          "data": {
            "image/png": "[encoded data removed]",
            "text/plain": [
              "<IPython.core.display.Image object>"
            ]
          },
          "metadata": {},
          "output_type": "display_data"
        }
      ],
      "source": [
        "G = pgv.AGraph(strict=False, directed=True)\n",
        "G.graph_attr['rankdir'] = 'LR'\n",
        "G.node_attr['shape'] = 'Mrecord'\n",
        "for event, succesors in w_net.items():\n",
        "  G.add_node(event, style=\"rounded,filled\", fillcolor=\"#ffcccc\")\n",
        "  G.add_edges_from([(event, sc) for sc in succesors])\n",
        "G.draw('simple_heuristic_net.png', prog='dot')\n",
        "display(Image('simple_heuristic_net.png'))"
      ]
    },
    {
      "cell_type": "markdown",
      "metadata": {
        "id": "wrxG9Sp4dCXY"
      },
      "source": [
        "## Udoskonalanie modelu procesu \n",
        "\n",
        "Aby lepiej zobrazować proces warto dodać odpowiednie kolory dla zadań \\\\\n",
        "i zróżnicować grubości przepływów, w zależności od tego, \\\\\n",
        "jak często w logu występowało odpowiednio dane zdarzenie albo przepływ. \n",
        "\n",
        "W tym celu potrzebujemy określić minimalne i maksymalne wartości:"
      ]
    },
    {
      "cell_type": "code",
      "execution_count": 301,
      "metadata": {
        "id": "yiopCYHjPvxO"
      },
      "outputs": [],
      "source": [
        "trace_counts = sorted(chain(*[c.values() for c in w_net.values()]))\n",
        "trace_min = trace_counts[0]\n",
        "trace_max = trace_counts[-1]\n",
        "color_min = ev_counter.min()\n",
        "color_max = ev_counter.max()"
      ]
    },
    {
      "cell_type": "markdown",
      "metadata": {
        "id": "bff_lvFafLM1"
      },
      "source": [
        "Teraz możemy do naszego modelu dodać zarówno kolory zadań, jak i grubości linii. \\\\\n",
        "Ponadto dodamy do naszego modelu zdarzenie początkowe i zmienimy sposób wyświetlania \\\\\n",
        "zarówno zdarzenia początkowego, jak i końcowego."
      ]
    },
    {
      "cell_type": "code",
      "execution_count": 313,
      "metadata": {
        "colab": {
          "base_uri": "https://localhost:8080/",
          "height": 502
        },
        "id": "ZCVv1GGAQLsq",
        "outputId": "0e068cc4-6529-4b60-ac59-da887d74612c"
      },
      "outputs": [
        {
          "name": "stdout",
          "output_type": "stream",
          "text": [
            "-2\n",
            "-2\n",
            "0\n",
            "-406\n"
          ]
        },
        {
          "name": "stderr",
          "output_type": "stream",
          "text": [
            "C:\\Users\\Filip\\anaconda3\\envs\\Modelowanie\\lib\\site-packages\\pygraphviz\\agraph.py:1402: RuntimeWarning: Warning: Could not load \"C:\\Users\\Filip\\anaconda3\\envs\\Modelowanie\\Library\\bin\\gvplugin_pango.dll\" - It was found, so perhaps one of its dependents was not.  Try ldd.\n",
            "Warning: Could not load \"C:\\Users\\Filip\\anaconda3\\envs\\Modelowanie\\Library\\bin\\gvplugin_pango.dll\" - It was found, so perhaps one of its dependents was not.  Try ldd.\n",
            "Warning: Could not load \"C:\\Users\\Filip\\anaconda3\\envs\\Modelowanie\\Library\\bin\\gvplugin_pango.dll\" - It was found, so perhaps one of its dependents was not.  Try ldd.\n",
            "Warning: Could not load \"C:\\Users\\Filip\\anaconda3\\envs\\Modelowanie\\Library\\bin\\gvplugin_pango.dll\" - It was found, so perhaps one of its dependents was not.  Try ldd.\n",
            "Warning: Could not load \"C:\\Users\\Filip\\anaconda3\\envs\\Modelowanie\\Library\\bin\\gvplugin_pango.dll\" - It was found, so perhaps one of its dependents was not.  Try ldd.\n",
            "\n",
            "  warnings.warn(b\"\".join(errors).decode(self.encoding), RuntimeWarning)\n"
          ]
        },
        {
          "data": {
            "image/png": "[encoded data removed]",
            "text/plain": [
              "<IPython.core.display.Image object>"
            ]
          },
          "metadata": {},
          "output_type": "display_data"
        }
      ],
      "source": [
        " G = pgv.AGraph(strict= False, directed=True)\n",
        " G.graph_attr['rankdir'] = 'LR'\n",
        " G.node_attr['shape'] = 'Mrecord'\n",
        "\n",
        " G.add_node(\"start\", shape=\"circle\", label=\"\")\n",
        " for ev_start in ev_start_set:\n",
        "   G.add_edge(\"start\", ev_start)\n",
        "\n",
        " for event, succesors in w_net.items():\n",
        "  value = ev_counter[event]\n",
        "\n",
        "  if float(color_min-color_max) == 0:\n",
        "    color = int(float(color_min-value)/0.1)\n",
        "  else:\n",
        "    color = int(float(color_min-value)/float(color_min-color_max)*100.00)\n",
        "    \n",
        "  my_color = \"#ff9933\"+str(hex(color))[2:]\n",
        "  G.add_node(event, style=\"rounded,filled\", fillcolor=my_color, label=f'{event} - {value}')\n",
        "  for succesor, cnt in succesors.items():\n",
        "    if float(color_min-color_max) == 0:\n",
        "      G.add_edge(event, succesor, penwidth=4*cnt/10000, label=cnt)\n",
        "    else:\n",
        "      G.add_edge(event, succesor, penwidth=4*cnt/(trace_max-trace_min)+0.1, label=cnt)\n",
        " G.add_node(\"end\", shape=\"circle\", label=\"\", penwidth='3')\n",
        " for ev_end in ev_end_set:\n",
        "   G.add_edge(ev_end, \"end\")\n",
        "\n",
        " G.draw('simple_heuristic_net_with_events.png', prog='dot')\n",
        " display(Image('simple_heuristic_net_with_events.png'))"
      ]
    },
    {
      "cell_type": "markdown",
      "metadata": {
        "id": "jBoGAhEChlE5"
      },
      "source": [
        "## Ćwiczenia rozszerzające model\n",
        "\n",
        "1. Zmodyfikuj etykiety zadań w modelu, tak by dla każdego zadania oprócz nazwy wyświetlana była także liczba wystąpień odpowiadającego mu zdarzenia w logu. \n",
        "Dodaj opcję filtrowania (po zdarzeniach lub przepływach) w zależności od określonych progów, aby pokazać lub ukryć zadania lub przepływy zgodnie z wybranym progiem. Zaprezentuj modele dla wybranych progów np. 420 dla przepływów, 700 dla zdarzeń (osobno i razem). \n",
        "\n",
        "2. Dodaj możliwość ustawiania progów przez użytkownika (poprzez podanie liczby lub użycie suwaka z `ipywidgets`) i wyświetlania przefiltrowanego modelu. Przetestuj jego działanie na różnych progach, aby określić, czy model wygląda prawidłowo, w szczególności, czy jakieś zdania nie zostają odczepione od modelu lub nie są prawidłowo połączone z modelem, np. jeśli wcześniej zadanie występowało pomiędzy innymi zadaniami nie należy filtrować wszystkich przepływów, nawet jeśli są poniżej progu.\n",
        "\n",
        "3. Zmodyfikuj progowanie, tak aby w takim wypadku zachować najlepszy przepływ, aby zadanie było połączone z pozostałymi co najmniej jednym wchodzącym i co najmniej jednym wychodzącym przepływem. Zaprezentuj modele po prostej filtracji i porównaj je z modelami po poprawionej filtracji.\n",
        "\n",
        "4. Dodaj perspektywę wydajności, tzn. oblicz średni czas trwania i pokoloruj zadania zgodnie z czasem ich trwania, a przepływy odpowiedniej grubości.\n",
        "\n",
        "5. Na podstawie obserwacji otrzymanego modelu, jakie wnioski można wyciągnąć z odkrytego procesu naprawy telefonów? Pomyśl o kilku wnioskach wynikających z obserwacji modelu i dotyczących odkrytego procesu, najlepiej takich, które nie są oczywiste, czy ogólne (dotyczące dowolnych modeli procesów).  \n",
        "\n",
        "6. (*nadobowiązkowe*) Istnieją biblioteki do animowania grafów np. `GraphvizAnim`. Przy użyciu tego typu biblioteki można pokusić się o wyświetlenie animacji, jak przebiegał proces wg logu (podświetlając odpowiednie elementy). Jak może wyglądać bardzo zaawansowana animacja takiego modelu można zobaczyć w komercyjnym narzędziu [Disco](https://fluxicon.com/disco/).\n",
        "\n",
        "Zadania mogą być realizowane w parach, natomiast w sprawozdaniu należy podać wtedy imiona i nazwiska osób z pary oraz każda osoba powinna wysłać zadanie/sprawozdanie przez system MS Teams osobno. \n",
        "\n",
        "W sprawozdaniu należy umieścić odpowiednie krótkie opisy z realizacji poszczególnych punktów, zrzuty ekranu oraz kod źródłowy (istotne fragmenty kodu ze zmianami). \n",
        "\n",
        "Sprawozdanie z wykonanych ćwiczeń należy przesłać przez platformę MS Teams do 24.03.2022 w postaci:\n",
        "  - pdf z raportem o wykonaniu ćwiczeń,\n",
        "  - ipynb z wykonanymi ćwiczeniami (pdf oraz ipynb).\n"
      ]
    },
    {
      "cell_type": "markdown",
      "metadata": {
        "id": "uLPF0V6frtFE"
      },
      "source": [
        "## Dodatkowe informacje\n",
        "\n",
        "Podobne modele, do tych odkrywanych w czasie laboratorium, można odkryć i eksplorować przy użyciu np. komercyjnego oprogramowania [Disco](https://fluxicon.com/disco/). Z kolei dużo więcej algorytmów i modeli jest zaimplementowanych w oprogramowaniu open-source [ProM](http://www.promtools.org/), jednakże jego obsługa jest dość skomplikowana.\n",
        "\n",
        "Dziękuję za udział w zajęciach! \\\\\n",
        "Krzysztof Kluza \\\\\n",
        "kluza@agh.edu.pl\n"
      ]
    }
  ],
  "metadata": {
    "colab": {
      "collapsed_sections": [],
      "include_colab_link": true,
      "name": "Copy of Czesc1-2022-Odkrywanie-modeli",
      "provenance": [],
      "toc_visible": true
    },
    "kernelspec": {
      "display_name": "Python 3",
      "name": "python3"
    },
    "language_info": {
      "codemirror_mode": {
        "name": "ipython",
        "version": 3
      },
      "file_extension": ".py",
      "mimetype": "text/x-python",
      "name": "python",
      "nbconvert_exporter": "python",
      "pygments_lexer": "ipython3",
      "version": "3.9.10"
    }
  },
  "nbformat": 4,
  "nbformat_minor": 0
}
