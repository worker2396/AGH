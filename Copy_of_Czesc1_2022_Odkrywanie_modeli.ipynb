{
  "nbformat": 4,
  "nbformat_minor": 0,
  "metadata": {
    "colab": {
      "name": "Copy of Czesc1-2022-Odkrywanie-modeli",
      "provenance": [],
      "collapsed_sections": [],
      "toc_visible": true,
      "include_colab_link": true
    },
    "kernelspec": {
      "name": "python3",
      "display_name": "Python 3"
    }
  },
  "cells": [
    {
      "cell_type": "markdown",
      "metadata": {
        "id": "view-in-github",
        "colab_type": "text"
      },
      "source": [
        "<a href=\"https://colab.research.google.com/github/worker2396/uni/blob/main/Copy_of_Czesc1_2022_Odkrywanie_modeli.ipynb\" target=\"_parent\"><img src=\"https://colab.research.google.com/assets/colab-badge.svg\" alt=\"Open In Colab\"/></a>"
      ]
    },
    {
      "cell_type": "markdown",
      "metadata": {
        "id": "8NnZ8lDR1n-k"
      },
      "source": [
        "# Wprowadzenie do eksploracji procesów (*process mining*)\n",
        "\n",
        "Główną klasą problemów z dziedziny eksploracji procesów jest odkrywanie procesów na podstawie dzienników zdarzeń. \n",
        "Metody odkrywania procesów biznesowych z danych pozwalają na budowę modeli procesów biznesowych i zobrazowanie rzeczywistych działań zachodzących w organizacjach, a nie jedynie hipotetycznego modelu opracowanego przez analityków.\n",
        "\n",
        "W celu odkrycia modelu potrzebujemy dziennik zdarzeń (*event log*). Taki dziennik może być dostępny bezpośrednio w systemie (wiele systemów w dzisiejszych czasach loguje zachodzące w nich zdarzenia w specjalnych formatach dzienników zdarzeń) lub może być być utworzony z danych dostępnych w naszych bazach danych:\n",
        "  * w prosty sposób np. z danych o transakcjach w sklepie internetowym, czy zachowaniu użytkowników systemu (kiedy, co i przez kogo zostało kliknięte w systemie), lub \n",
        "  * w nieco bardziej skomplikowany sposób z danych nieustrukturyzowanych, takich jak np. e-maile, obraz z kamery itp. "
      ]
    },
    {
      "cell_type": "markdown",
      "metadata": {
        "id": "-7lUlLXk6ypu"
      },
      "source": [
        "## Konfiguracja środowiska\n"
      ]
    },
    {
      "cell_type": "code",
      "metadata": {
        "id": "mlg0xIAI6Om8",
        "colab": {
          "base_uri": "https://localhost:8080/"
        },
        "outputId": "8885ffbc-fb7c-4cf0-c760-823f114eaa06"
      },
      "source": [
        "!apt install libgraphviz-dev"
      ],
      "execution_count": 168,
      "outputs": [
        {
          "output_type": "stream",
          "name": "stdout",
          "text": [
            "Reading package lists... Done\n",
            "Building dependency tree       \n",
            "Reading state information... Done\n",
            "libgraphviz-dev is already the newest version (2.40.1-2).\n",
            "0 upgraded, 0 newly installed, 0 to remove and 39 not upgraded.\n"
          ]
        }
      ]
    },
    {
      "cell_type": "code",
      "metadata": {
        "id": "9KTRI77K7Ghy",
        "colab": {
          "base_uri": "https://localhost:8080/"
        },
        "outputId": "b74456b9-b71e-4680-dbd4-8a19e0d8360e"
      },
      "source": [
        "!pip install pygraphviz"
      ],
      "execution_count": 169,
      "outputs": [
        {
          "output_type": "stream",
          "name": "stdout",
          "text": [
            "Requirement already satisfied: pygraphviz in /usr/local/lib/python3.7/dist-packages (1.7)\n"
          ]
        }
      ]
    },
    {
      "cell_type": "markdown",
      "metadata": {
        "id": "jYW1Pkhp7Srb"
      },
      "source": [
        "## Pobranie przykładowych danych dla naszego logu\n",
        "\n",
        "Aby móc odkryć model procesu potrzebujemy danych, na bazie których będziemy próbowali ten model skonstruować. Dane możemy albo wczytywać bezpośrednio z serwera albo pobrać je i wczytywać z lokalnego pliku. \n",
        "\n",
        "Ponieważ plik z naszymi danymi dot. procesu napraw telefonów nie jest bardzo duży spróbujmy go pobrać w celu późniejszego przetwarzania. "
      ]
    },
    {
      "cell_type": "code",
      "metadata": {
        "id": "4X6t8hEt7Lzx",
        "colab": {
          "base_uri": "https://localhost:8080/"
        },
        "outputId": "422e4943-e80e-4db6-c93e-41656a7e8b8c"
      },
      "source": [
        "!wget http://home.agh.edu.pl/~kluza/repairExample.csv"
      ],
      "execution_count": 170,
      "outputs": [
        {
          "output_type": "stream",
          "name": "stdout",
          "text": [
            "--2022-03-16 18:37:17--  http://home.agh.edu.pl/~kluza/repairExample.csv\n",
            "Resolving home.agh.edu.pl (home.agh.edu.pl)... 149.156.98.66, 2001:6d8:10:1127::6242\n",
            "Connecting to home.agh.edu.pl (home.agh.edu.pl)|149.156.98.66|:80... connected.\n",
            "HTTP request sent, awaiting response... 200 OK\n",
            "Length: 1304360 (1.2M) [text/csv]\n",
            "Saving to: ‘repairExample.csv.6’\n",
            "\n",
            "repairExample.csv.6 100%[===================>]   1.24M  1.33MB/s    in 0.9s    \n",
            "\n",
            "2022-03-16 18:37:19 (1.33 MB/s) - ‘repairExample.csv.6’ saved [1304360/1304360]\n",
            "\n"
          ]
        }
      ]
    },
    {
      "cell_type": "markdown",
      "metadata": {
        "id": "vuIlFNon99Od"
      },
      "source": [
        "## Importowanie modułów\n",
        "\n",
        "W celu odkrycia napisania prostego programu odkrywającego prototyp modelu procesu skorzystamy z kilku dostępnych modułów dla języka Python:"
      ]
    },
    {
      "cell_type": "code",
      "metadata": {
        "id": "9A8axS-V99qU"
      },
      "source": [
        "import pandas as pd\n",
        "from functools import reduce\n",
        "from itertools import groupby\n",
        "from itertools import chain\n",
        "from more_itertools import pairwise\n",
        "from collections import Counter\n",
        "import pygraphviz as pgv\n",
        "from IPython.display import Image, display"
      ],
      "execution_count": 171,
      "outputs": []
    },
    {
      "cell_type": "markdown",
      "metadata": {
        "id": "9tXPC3vKjcwW"
      },
      "source": [
        "##Wczytanie danych\n",
        "\n",
        "Wczytaj dane z pliku csv i przejrzyj je, a następnie używając funkcji z narzędzia pandas spróbuj odpowiedzieć na pytania związane z dziennikiem zdarzeń."
      ]
    },
    {
      "cell_type": "code",
      "metadata": {
        "id": "IGo2-mhP7Ti2",
        "colab": {
          "base_uri": "https://localhost:8080/",
          "height": 635
        },
        "outputId": "91268c2f-14cf-47c7-a49e-329d11335aef"
      },
      "source": [
        "df = pd.read_csv('repairExample.csv')\n",
        "df.head(10)"
      ],
      "execution_count": 172,
      "outputs": [
        {
          "output_type": "execute_result",
          "data": {
            "text/plain": [
              "   Case ID          Activity  Resource          Start Timestamp  \\\n",
              "0        1          Register    System  1970/01/02 12:23:00.000   \n",
              "1        1    Analyze Defect   Tester3  1970/01/02 12:23:00.000   \n",
              "2        1  Repair (Complex)  SolverC1  1970/01/02 12:31:00.000   \n",
              "3        1       Test Repair   Tester3  1970/01/02 12:49:00.000   \n",
              "4        1       Inform User    System  1970/01/02 13:10:00.000   \n",
              "5        1    Archive Repair    System  1970/01/02 13:10:00.000   \n",
              "6        1               End       End  1970/01/02 13:10:00.000   \n",
              "7       10          Register    System  1970/01/01 11:09:00.000   \n",
              "8       10    Analyze Defect   Tester2  1970/01/01 11:09:00.000   \n",
              "9       10   Repair (Simple)  SolverS1  1970/01/01 11:35:00.000   \n",
              "\n",
              "        Complete Timestamp    Variant  Variant index  (case) creator  \\\n",
              "0  1970/01/02 12:23:00.000  Variant 2              2  Fluxicon Disco   \n",
              "1  1970/01/02 12:30:00.000  Variant 2              2  Fluxicon Disco   \n",
              "2  1970/01/02 12:49:00.000  Variant 2              2  Fluxicon Disco   \n",
              "3  1970/01/02 12:55:00.000  Variant 2              2  Fluxicon Disco   \n",
              "4  1970/01/02 13:10:00.000  Variant 2              2  Fluxicon Disco   \n",
              "5  1970/01/02 13:10:00.000  Variant 2              2  Fluxicon Disco   \n",
              "6  1970/01/02 13:10:00.000  Variant 2              2  Fluxicon Disco   \n",
              "7  1970/01/01 11:09:00.000  Variant 8              8  Fluxicon Disco   \n",
              "8  1970/01/01 11:15:00.000  Variant 8              8  Fluxicon Disco   \n",
              "9  1970/01/01 11:42:00.000  Variant 8              8  Fluxicon Disco   \n",
              "\n",
              "  (case) variant  (case) variant-index      concept:name defectFixed  \\\n",
              "0      Variant 2                     2          Register         NaN   \n",
              "1      Variant 2                     2    Analyze Defect         NaN   \n",
              "2      Variant 2                     2  Repair (Complex)         NaN   \n",
              "3      Variant 2                     2       Test Repair        true   \n",
              "4      Variant 2                     2       Inform User         NaN   \n",
              "5      Variant 2                     2    Archive Repair        true   \n",
              "6      Variant 2                     2               End         End   \n",
              "7      Variant 8                     8          Register         NaN   \n",
              "8      Variant 8                     8    Analyze Defect         NaN   \n",
              "9      Variant 8                     8   Repair (Simple)         NaN   \n",
              "\n",
              "  defectType lifecycle:transition numberRepairs org:resource phoneType  \n",
              "0        NaN             complete           NaN       System       NaN  \n",
              "1          6             complete           NaN      Tester3        T2  \n",
              "2        NaN             complete           NaN     SolverC1       NaN  \n",
              "3        NaN             complete             0      Tester3       NaN  \n",
              "4        NaN             complete           NaN       System       NaN  \n",
              "5        NaN             complete             0       System       NaN  \n",
              "6        End             complete           End          End       End  \n",
              "7        NaN             complete           NaN       System       NaN  \n",
              "8          3             complete           NaN      Tester2        T1  \n",
              "9        NaN             complete           NaN     SolverS1       NaN  "
            ],
            "text/html": [
              "\n",
              "  <div id=\"df-cbdecf0a-ce92-48f2-a71d-ebb5b8a7cd31\">\n",
              "    <div class=\"colab-df-container\">\n",
              "      <div>\n",
              "<style scoped>\n",
              "    .dataframe tbody tr th:only-of-type {\n",
              "        vertical-align: middle;\n",
              "    }\n",
              "\n",
              "    .dataframe tbody tr th {\n",
              "        vertical-align: top;\n",
              "    }\n",
              "\n",
              "    .dataframe thead th {\n",
              "        text-align: right;\n",
              "    }\n",
              "</style>\n",
              "<table border=\"1\" class=\"dataframe\">\n",
              "  <thead>\n",
              "    <tr style=\"text-align: right;\">\n",
              "      <th></th>\n",
              "      <th>Case ID</th>\n",
              "      <th>Activity</th>\n",
              "      <th>Resource</th>\n",
              "      <th>Start Timestamp</th>\n",
              "      <th>Complete Timestamp</th>\n",
              "      <th>Variant</th>\n",
              "      <th>Variant index</th>\n",
              "      <th>(case) creator</th>\n",
              "      <th>(case) variant</th>\n",
              "      <th>(case) variant-index</th>\n",
              "      <th>concept:name</th>\n",
              "      <th>defectFixed</th>\n",
              "      <th>defectType</th>\n",
              "      <th>lifecycle:transition</th>\n",
              "      <th>numberRepairs</th>\n",
              "      <th>org:resource</th>\n",
              "      <th>phoneType</th>\n",
              "    </tr>\n",
              "  </thead>\n",
              "  <tbody>\n",
              "    <tr>\n",
              "      <th>0</th>\n",
              "      <td>1</td>\n",
              "      <td>Register</td>\n",
              "      <td>System</td>\n",
              "      <td>1970/01/02 12:23:00.000</td>\n",
              "      <td>1970/01/02 12:23:00.000</td>\n",
              "      <td>Variant 2</td>\n",
              "      <td>2</td>\n",
              "      <td>Fluxicon Disco</td>\n",
              "      <td>Variant 2</td>\n",
              "      <td>2</td>\n",
              "      <td>Register</td>\n",
              "      <td>NaN</td>\n",
              "      <td>NaN</td>\n",
              "      <td>complete</td>\n",
              "      <td>NaN</td>\n",
              "      <td>System</td>\n",
              "      <td>NaN</td>\n",
              "    </tr>\n",
              "    <tr>\n",
              "      <th>1</th>\n",
              "      <td>1</td>\n",
              "      <td>Analyze Defect</td>\n",
              "      <td>Tester3</td>\n",
              "      <td>1970/01/02 12:23:00.000</td>\n",
              "      <td>1970/01/02 12:30:00.000</td>\n",
              "      <td>Variant 2</td>\n",
              "      <td>2</td>\n",
              "      <td>Fluxicon Disco</td>\n",
              "      <td>Variant 2</td>\n",
              "      <td>2</td>\n",
              "      <td>Analyze Defect</td>\n",
              "      <td>NaN</td>\n",
              "      <td>6</td>\n",
              "      <td>complete</td>\n",
              "      <td>NaN</td>\n",
              "      <td>Tester3</td>\n",
              "      <td>T2</td>\n",
              "    </tr>\n",
              "    <tr>\n",
              "      <th>2</th>\n",
              "      <td>1</td>\n",
              "      <td>Repair (Complex)</td>\n",
              "      <td>SolverC1</td>\n",
              "      <td>1970/01/02 12:31:00.000</td>\n",
              "      <td>1970/01/02 12:49:00.000</td>\n",
              "      <td>Variant 2</td>\n",
              "      <td>2</td>\n",
              "      <td>Fluxicon Disco</td>\n",
              "      <td>Variant 2</td>\n",
              "      <td>2</td>\n",
              "      <td>Repair (Complex)</td>\n",
              "      <td>NaN</td>\n",
              "      <td>NaN</td>\n",
              "      <td>complete</td>\n",
              "      <td>NaN</td>\n",
              "      <td>SolverC1</td>\n",
              "      <td>NaN</td>\n",
              "    </tr>\n",
              "    <tr>\n",
              "      <th>3</th>\n",
              "      <td>1</td>\n",
              "      <td>Test Repair</td>\n",
              "      <td>Tester3</td>\n",
              "      <td>1970/01/02 12:49:00.000</td>\n",
              "      <td>1970/01/02 12:55:00.000</td>\n",
              "      <td>Variant 2</td>\n",
              "      <td>2</td>\n",
              "      <td>Fluxicon Disco</td>\n",
              "      <td>Variant 2</td>\n",
              "      <td>2</td>\n",
              "      <td>Test Repair</td>\n",
              "      <td>true</td>\n",
              "      <td>NaN</td>\n",
              "      <td>complete</td>\n",
              "      <td>0</td>\n",
              "      <td>Tester3</td>\n",
              "      <td>NaN</td>\n",
              "    </tr>\n",
              "    <tr>\n",
              "      <th>4</th>\n",
              "      <td>1</td>\n",
              "      <td>Inform User</td>\n",
              "      <td>System</td>\n",
              "      <td>1970/01/02 13:10:00.000</td>\n",
              "      <td>1970/01/02 13:10:00.000</td>\n",
              "      <td>Variant 2</td>\n",
              "      <td>2</td>\n",
              "      <td>Fluxicon Disco</td>\n",
              "      <td>Variant 2</td>\n",
              "      <td>2</td>\n",
              "      <td>Inform User</td>\n",
              "      <td>NaN</td>\n",
              "      <td>NaN</td>\n",
              "      <td>complete</td>\n",
              "      <td>NaN</td>\n",
              "      <td>System</td>\n",
              "      <td>NaN</td>\n",
              "    </tr>\n",
              "    <tr>\n",
              "      <th>5</th>\n",
              "      <td>1</td>\n",
              "      <td>Archive Repair</td>\n",
              "      <td>System</td>\n",
              "      <td>1970/01/02 13:10:00.000</td>\n",
              "      <td>1970/01/02 13:10:00.000</td>\n",
              "      <td>Variant 2</td>\n",
              "      <td>2</td>\n",
              "      <td>Fluxicon Disco</td>\n",
              "      <td>Variant 2</td>\n",
              "      <td>2</td>\n",
              "      <td>Archive Repair</td>\n",
              "      <td>true</td>\n",
              "      <td>NaN</td>\n",
              "      <td>complete</td>\n",
              "      <td>0</td>\n",
              "      <td>System</td>\n",
              "      <td>NaN</td>\n",
              "    </tr>\n",
              "    <tr>\n",
              "      <th>6</th>\n",
              "      <td>1</td>\n",
              "      <td>End</td>\n",
              "      <td>End</td>\n",
              "      <td>1970/01/02 13:10:00.000</td>\n",
              "      <td>1970/01/02 13:10:00.000</td>\n",
              "      <td>Variant 2</td>\n",
              "      <td>2</td>\n",
              "      <td>Fluxicon Disco</td>\n",
              "      <td>Variant 2</td>\n",
              "      <td>2</td>\n",
              "      <td>End</td>\n",
              "      <td>End</td>\n",
              "      <td>End</td>\n",
              "      <td>complete</td>\n",
              "      <td>End</td>\n",
              "      <td>End</td>\n",
              "      <td>End</td>\n",
              "    </tr>\n",
              "    <tr>\n",
              "      <th>7</th>\n",
              "      <td>10</td>\n",
              "      <td>Register</td>\n",
              "      <td>System</td>\n",
              "      <td>1970/01/01 11:09:00.000</td>\n",
              "      <td>1970/01/01 11:09:00.000</td>\n",
              "      <td>Variant 8</td>\n",
              "      <td>8</td>\n",
              "      <td>Fluxicon Disco</td>\n",
              "      <td>Variant 8</td>\n",
              "      <td>8</td>\n",
              "      <td>Register</td>\n",
              "      <td>NaN</td>\n",
              "      <td>NaN</td>\n",
              "      <td>complete</td>\n",
              "      <td>NaN</td>\n",
              "      <td>System</td>\n",
              "      <td>NaN</td>\n",
              "    </tr>\n",
              "    <tr>\n",
              "      <th>8</th>\n",
              "      <td>10</td>\n",
              "      <td>Analyze Defect</td>\n",
              "      <td>Tester2</td>\n",
              "      <td>1970/01/01 11:09:00.000</td>\n",
              "      <td>1970/01/01 11:15:00.000</td>\n",
              "      <td>Variant 8</td>\n",
              "      <td>8</td>\n",
              "      <td>Fluxicon Disco</td>\n",
              "      <td>Variant 8</td>\n",
              "      <td>8</td>\n",
              "      <td>Analyze Defect</td>\n",
              "      <td>NaN</td>\n",
              "      <td>3</td>\n",
              "      <td>complete</td>\n",
              "      <td>NaN</td>\n",
              "      <td>Tester2</td>\n",
              "      <td>T1</td>\n",
              "    </tr>\n",
              "    <tr>\n",
              "      <th>9</th>\n",
              "      <td>10</td>\n",
              "      <td>Repair (Simple)</td>\n",
              "      <td>SolverS1</td>\n",
              "      <td>1970/01/01 11:35:00.000</td>\n",
              "      <td>1970/01/01 11:42:00.000</td>\n",
              "      <td>Variant 8</td>\n",
              "      <td>8</td>\n",
              "      <td>Fluxicon Disco</td>\n",
              "      <td>Variant 8</td>\n",
              "      <td>8</td>\n",
              "      <td>Repair (Simple)</td>\n",
              "      <td>NaN</td>\n",
              "      <td>NaN</td>\n",
              "      <td>complete</td>\n",
              "      <td>NaN</td>\n",
              "      <td>SolverS1</td>\n",
              "      <td>NaN</td>\n",
              "    </tr>\n",
              "  </tbody>\n",
              "</table>\n",
              "</div>\n",
              "      <button class=\"colab-df-convert\" onclick=\"convertToInteractive('df-cbdecf0a-ce92-48f2-a71d-ebb5b8a7cd31')\"\n",
              "              title=\"Convert this dataframe to an interactive table.\"\n",
              "              style=\"display:none;\">\n",
              "        \n",
              "  <svg xmlns=\"http://www.w3.org/2000/svg\" height=\"24px\"viewBox=\"0 0 24 24\"\n",
              "       width=\"24px\">\n",
              "    <path d=\"M0 0h24v24H0V0z\" fill=\"none\"/>\n",
              "    <path d=\"M18.56 5.44l.94 2.06.94-2.06 2.06-.94-2.06-.94-.94-2.06-.94 2.06-2.06.94zm-11 1L8.5 8.5l.94-2.06 2.06-.94-2.06-.94L8.5 2.5l-.94 2.06-2.06.94zm10 10l.94 2.06.94-2.06 2.06-.94-2.06-.94-.94-2.06-.94 2.06-2.06.94z\"/><path d=\"M17.41 7.96l-1.37-1.37c-.4-.4-.92-.59-1.43-.59-.52 0-1.04.2-1.43.59L10.3 9.45l-7.72 7.72c-.78.78-.78 2.05 0 2.83L4 21.41c.39.39.9.59 1.41.59.51 0 1.02-.2 1.41-.59l7.78-7.78 2.81-2.81c.8-.78.8-2.07 0-2.86zM5.41 20L4 18.59l7.72-7.72 1.47 1.35L5.41 20z\"/>\n",
              "  </svg>\n",
              "      </button>\n",
              "      \n",
              "  <style>\n",
              "    .colab-df-container {\n",
              "      display:flex;\n",
              "      flex-wrap:wrap;\n",
              "      gap: 12px;\n",
              "    }\n",
              "\n",
              "    .colab-df-convert {\n",
              "      background-color: #E8F0FE;\n",
              "      border: none;\n",
              "      border-radius: 50%;\n",
              "      cursor: pointer;\n",
              "      display: none;\n",
              "      fill: #1967D2;\n",
              "      height: 32px;\n",
              "      padding: 0 0 0 0;\n",
              "      width: 32px;\n",
              "    }\n",
              "\n",
              "    .colab-df-convert:hover {\n",
              "      background-color: #E2EBFA;\n",
              "      box-shadow: 0px 1px 2px rgba(60, 64, 67, 0.3), 0px 1px 3px 1px rgba(60, 64, 67, 0.15);\n",
              "      fill: #174EA6;\n",
              "    }\n",
              "\n",
              "    [theme=dark] .colab-df-convert {\n",
              "      background-color: #3B4455;\n",
              "      fill: #D2E3FC;\n",
              "    }\n",
              "\n",
              "    [theme=dark] .colab-df-convert:hover {\n",
              "      background-color: #434B5C;\n",
              "      box-shadow: 0px 1px 3px 1px rgba(0, 0, 0, 0.15);\n",
              "      filter: drop-shadow(0px 1px 2px rgba(0, 0, 0, 0.3));\n",
              "      fill: #FFFFFF;\n",
              "    }\n",
              "  </style>\n",
              "\n",
              "      <script>\n",
              "        const buttonEl =\n",
              "          document.querySelector('#df-cbdecf0a-ce92-48f2-a71d-ebb5b8a7cd31 button.colab-df-convert');\n",
              "        buttonEl.style.display =\n",
              "          google.colab.kernel.accessAllowed ? 'block' : 'none';\n",
              "\n",
              "        async function convertToInteractive(key) {\n",
              "          const element = document.querySelector('#df-cbdecf0a-ce92-48f2-a71d-ebb5b8a7cd31');\n",
              "          const dataTable =\n",
              "            await google.colab.kernel.invokeFunction('convertToInteractive',\n",
              "                                                     [key], {});\n",
              "          if (!dataTable) return;\n",
              "\n",
              "          const docLinkHtml = 'Like what you see? Visit the ' +\n",
              "            '<a target=\"_blank\" href=https://colab.research.google.com/notebooks/data_table.ipynb>data table notebook</a>'\n",
              "            + ' to learn more about interactive tables.';\n",
              "          element.innerHTML = '';\n",
              "          dataTable['output_type'] = 'display_data';\n",
              "          await google.colab.output.renderOutput(dataTable, element);\n",
              "          const docLink = document.createElement('div');\n",
              "          docLink.innerHTML = docLinkHtml;\n",
              "          element.appendChild(docLink);\n",
              "        }\n",
              "      </script>\n",
              "    </div>\n",
              "  </div>\n",
              "  "
            ]
          },
          "metadata": {},
          "execution_count": 172
        }
      ]
    },
    {
      "cell_type": "markdown",
      "metadata": {
        "id": "HjBEQbCskzzJ"
      },
      "source": [
        "* Ile jest wszystkich zdarzeń w logu? "
      ]
    },
    {
      "cell_type": "markdown",
      "metadata": {
        "id": "4YPyDtV6lVX-"
      },
      "source": [
        "*   Wśród pracowników (*Resource*) możemy wyróżnić m.in. testerów i solverów. Ilu różnych testerów oraz solverów jest zaangażowanych w proces?\n",
        "\n"
      ]
    },
    {
      "cell_type": "markdown",
      "metadata": {
        "id": "w0IowrablsP7"
      },
      "source": [
        "* Które zadanie (*Activity*) zajmuje najwięcej czasu? \\\\\n",
        "(sposród wszystkich zadań, które w jakiejkolwiek instancji procesu trwało najdłużej)\n",
        "\n",
        "Podpowiedź: Przekształć kolumny czasowe do typu `datetime`, tak aby móc wykonać stosowne obliczenia czasu."
      ]
    },
    {
      "cell_type": "code",
      "metadata": {
        "id": "7Ukv479ImRFQ",
        "colab": {
          "base_uri": "https://localhost:8080/"
        },
        "outputId": "aba5615c-28de-47bd-d690-c33cdc5ef355"
      },
      "source": [
        "df['start'] = pd.to_datetime(df['Start Timestamp'])\n",
        "df.dtypes"
      ],
      "execution_count": 173,
      "outputs": [
        {
          "output_type": "execute_result",
          "data": {
            "text/plain": [
              "Case ID                          int64\n",
              "Activity                        object\n",
              "Resource                        object\n",
              "Start Timestamp                 object\n",
              "Complete Timestamp              object\n",
              "Variant                         object\n",
              "Variant index                    int64\n",
              "(case) creator                  object\n",
              "(case) variant                  object\n",
              "(case) variant-index             int64\n",
              "concept:name                    object\n",
              "defectFixed                     object\n",
              "defectType                      object\n",
              "lifecycle:transition            object\n",
              "numberRepairs                   object\n",
              "org:resource                    object\n",
              "phoneType                       object\n",
              "start                   datetime64[ns]\n",
              "dtype: object"
            ]
          },
          "metadata": {},
          "execution_count": 173
        }
      ]
    },
    {
      "cell_type": "markdown",
      "metadata": {
        "id": "-NfQxzTYmojx"
      },
      "source": [
        "## Przygotowanie danych\n",
        "\n",
        "W zależności od tego, w jaki sposób przygotujemy dane do odkrywania modelu, może to znacznie uprościć nam przetwarzanie. Na początek spróbujmy określić, w jakiej kolejności występowały zdarzenia w poszczególnych przypadkach, a zatem określimy jakie mamy w logu ślady/ścieżki (*traces*).  \n",
        "\n",
        "Uprośćmy nieco nasz log, aby łatwiej przetwarzać dane:"
      ]
    },
    {
      "cell_type": "code",
      "metadata": {
        "id": "aCgaurbAl9Mz",
        "colab": {
          "base_uri": "https://localhost:8080/",
          "height": 206
        },
        "outputId": "c50f38d8-77b3-47ef-d7c3-f57b7e1c3be0"
      },
      "source": [
        "dfs = df[['Case ID', 'Activity', 'start']]\n",
        "dfs.head()"
      ],
      "execution_count": 174,
      "outputs": [
        {
          "output_type": "execute_result",
          "data": {
            "text/plain": [
              "   Case ID          Activity               start\n",
              "0        1          Register 1970-01-02 12:23:00\n",
              "1        1    Analyze Defect 1970-01-02 12:23:00\n",
              "2        1  Repair (Complex) 1970-01-02 12:31:00\n",
              "3        1       Test Repair 1970-01-02 12:49:00\n",
              "4        1       Inform User 1970-01-02 13:10:00"
            ],
            "text/html": [
              "\n",
              "  <div id=\"df-1312ef7c-98eb-4502-9293-d5cdcdb91de3\">\n",
              "    <div class=\"colab-df-container\">\n",
              "      <div>\n",
              "<style scoped>\n",
              "    .dataframe tbody tr th:only-of-type {\n",
              "        vertical-align: middle;\n",
              "    }\n",
              "\n",
              "    .dataframe tbody tr th {\n",
              "        vertical-align: top;\n",
              "    }\n",
              "\n",
              "    .dataframe thead th {\n",
              "        text-align: right;\n",
              "    }\n",
              "</style>\n",
              "<table border=\"1\" class=\"dataframe\">\n",
              "  <thead>\n",
              "    <tr style=\"text-align: right;\">\n",
              "      <th></th>\n",
              "      <th>Case ID</th>\n",
              "      <th>Activity</th>\n",
              "      <th>start</th>\n",
              "    </tr>\n",
              "  </thead>\n",
              "  <tbody>\n",
              "    <tr>\n",
              "      <th>0</th>\n",
              "      <td>1</td>\n",
              "      <td>Register</td>\n",
              "      <td>1970-01-02 12:23:00</td>\n",
              "    </tr>\n",
              "    <tr>\n",
              "      <th>1</th>\n",
              "      <td>1</td>\n",
              "      <td>Analyze Defect</td>\n",
              "      <td>1970-01-02 12:23:00</td>\n",
              "    </tr>\n",
              "    <tr>\n",
              "      <th>2</th>\n",
              "      <td>1</td>\n",
              "      <td>Repair (Complex)</td>\n",
              "      <td>1970-01-02 12:31:00</td>\n",
              "    </tr>\n",
              "    <tr>\n",
              "      <th>3</th>\n",
              "      <td>1</td>\n",
              "      <td>Test Repair</td>\n",
              "      <td>1970-01-02 12:49:00</td>\n",
              "    </tr>\n",
              "    <tr>\n",
              "      <th>4</th>\n",
              "      <td>1</td>\n",
              "      <td>Inform User</td>\n",
              "      <td>1970-01-02 13:10:00</td>\n",
              "    </tr>\n",
              "  </tbody>\n",
              "</table>\n",
              "</div>\n",
              "      <button class=\"colab-df-convert\" onclick=\"convertToInteractive('df-1312ef7c-98eb-4502-9293-d5cdcdb91de3')\"\n",
              "              title=\"Convert this dataframe to an interactive table.\"\n",
              "              style=\"display:none;\">\n",
              "        \n",
              "  <svg xmlns=\"http://www.w3.org/2000/svg\" height=\"24px\"viewBox=\"0 0 24 24\"\n",
              "       width=\"24px\">\n",
              "    <path d=\"M0 0h24v24H0V0z\" fill=\"none\"/>\n",
              "    <path d=\"M18.56 5.44l.94 2.06.94-2.06 2.06-.94-2.06-.94-.94-2.06-.94 2.06-2.06.94zm-11 1L8.5 8.5l.94-2.06 2.06-.94-2.06-.94L8.5 2.5l-.94 2.06-2.06.94zm10 10l.94 2.06.94-2.06 2.06-.94-2.06-.94-.94-2.06-.94 2.06-2.06.94z\"/><path d=\"M17.41 7.96l-1.37-1.37c-.4-.4-.92-.59-1.43-.59-.52 0-1.04.2-1.43.59L10.3 9.45l-7.72 7.72c-.78.78-.78 2.05 0 2.83L4 21.41c.39.39.9.59 1.41.59.51 0 1.02-.2 1.41-.59l7.78-7.78 2.81-2.81c.8-.78.8-2.07 0-2.86zM5.41 20L4 18.59l7.72-7.72 1.47 1.35L5.41 20z\"/>\n",
              "  </svg>\n",
              "      </button>\n",
              "      \n",
              "  <style>\n",
              "    .colab-df-container {\n",
              "      display:flex;\n",
              "      flex-wrap:wrap;\n",
              "      gap: 12px;\n",
              "    }\n",
              "\n",
              "    .colab-df-convert {\n",
              "      background-color: #E8F0FE;\n",
              "      border: none;\n",
              "      border-radius: 50%;\n",
              "      cursor: pointer;\n",
              "      display: none;\n",
              "      fill: #1967D2;\n",
              "      height: 32px;\n",
              "      padding: 0 0 0 0;\n",
              "      width: 32px;\n",
              "    }\n",
              "\n",
              "    .colab-df-convert:hover {\n",
              "      background-color: #E2EBFA;\n",
              "      box-shadow: 0px 1px 2px rgba(60, 64, 67, 0.3), 0px 1px 3px 1px rgba(60, 64, 67, 0.15);\n",
              "      fill: #174EA6;\n",
              "    }\n",
              "\n",
              "    [theme=dark] .colab-df-convert {\n",
              "      background-color: #3B4455;\n",
              "      fill: #D2E3FC;\n",
              "    }\n",
              "\n",
              "    [theme=dark] .colab-df-convert:hover {\n",
              "      background-color: #434B5C;\n",
              "      box-shadow: 0px 1px 3px 1px rgba(0, 0, 0, 0.15);\n",
              "      filter: drop-shadow(0px 1px 2px rgba(0, 0, 0, 0.3));\n",
              "      fill: #FFFFFF;\n",
              "    }\n",
              "  </style>\n",
              "\n",
              "      <script>\n",
              "        const buttonEl =\n",
              "          document.querySelector('#df-1312ef7c-98eb-4502-9293-d5cdcdb91de3 button.colab-df-convert');\n",
              "        buttonEl.style.display =\n",
              "          google.colab.kernel.accessAllowed ? 'block' : 'none';\n",
              "\n",
              "        async function convertToInteractive(key) {\n",
              "          const element = document.querySelector('#df-1312ef7c-98eb-4502-9293-d5cdcdb91de3');\n",
              "          const dataTable =\n",
              "            await google.colab.kernel.invokeFunction('convertToInteractive',\n",
              "                                                     [key], {});\n",
              "          if (!dataTable) return;\n",
              "\n",
              "          const docLinkHtml = 'Like what you see? Visit the ' +\n",
              "            '<a target=\"_blank\" href=https://colab.research.google.com/notebooks/data_table.ipynb>data table notebook</a>'\n",
              "            + ' to learn more about interactive tables.';\n",
              "          element.innerHTML = '';\n",
              "          dataTable['output_type'] = 'display_data';\n",
              "          await google.colab.output.renderOutput(dataTable, element);\n",
              "          const docLink = document.createElement('div');\n",
              "          docLink.innerHTML = docLinkHtml;\n",
              "          element.appendChild(docLink);\n",
              "        }\n",
              "      </script>\n",
              "    </div>\n",
              "  </div>\n",
              "  "
            ]
          },
          "metadata": {},
          "execution_count": 174
        }
      ]
    },
    {
      "cell_type": "markdown",
      "metadata": {
        "id": "oxeyk5_YSg7p"
      },
      "source": [
        "Następnie zobaczmy, jak często wykonywane były poszczególne zadania:"
      ]
    },
    {
      "cell_type": "code",
      "metadata": {
        "id": "a0YKubt4rXeG",
        "colab": {
          "base_uri": "https://localhost:8080/",
          "height": 130
        },
        "outputId": "51e0abf0-a89e-4d31-8377-2546ea7aab57"
      },
      "source": [
        "ev_counter = dfs.Activity.value_counts()\n",
        "ev_counter\n",
        "\n",
        "def threshold_filter(threshold, counter_dict):\n",
        "  for event, count in counter_dict.items():\n",
        "    if count < threshold:\n",
        "      counter_dict.pop(event)\n",
        "\n",
        "threshold_filter(700, ev_counter)\n",
        "\n",
        "ev_counter\n",
        "\n",
        "dfs"
      ],
      "execution_count": 191,
      "outputs": [
        {
          "output_type": "error",
          "ename": "SyntaxError",
          "evalue": "ignored",
          "traceback": [
            "\u001b[0;36m  File \u001b[0;32m\"<ipython-input-191-3134481a8689>\"\u001b[0;36m, line \u001b[0;32m13\u001b[0m\n\u001b[0;31m    dfs.Activity.value_counts() = ev_counter\u001b[0m\n\u001b[0m                                            ^\u001b[0m\n\u001b[0;31mSyntaxError\u001b[0m\u001b[0;31m:\u001b[0m can't assign to function call\n"
          ]
        }
      ]
    },
    {
      "cell_type": "markdown",
      "metadata": {
        "id": "ZtkuqLmQS-dA"
      },
      "source": [
        "Na bazie identyfikatora przypadu (*Case ID*) pogrupujemy wszystkie zadania w ślady (*traces*):"
      ]
    },
    {
      "cell_type": "code",
      "metadata": {
        "id": "YzKClaKEnBpg"
      },
      "source": [
        "dfs = (dfs\n",
        "    .sort_values(by=['Case ID','start'])\n",
        "    .groupby(['Case ID'])\n",
        "    .agg({'Activity': ';'.join})\n",
        ")"
      ],
      "execution_count": 176,
      "outputs": []
    },
    {
      "cell_type": "markdown",
      "metadata": {
        "id": "ecYLVK6dTqQw"
      },
      "source": [
        "Zobaczmy zatem, jakie przykładowe ślady (instancje procesów) są w naszym logu:"
      ]
    },
    {
      "cell_type": "code",
      "metadata": {
        "id": "_H72Rbc6nx9-",
        "colab": {
          "base_uri": "https://localhost:8080/",
          "height": 238
        },
        "outputId": "85dcadd3-43f3-47c8-be49-c92f39607ecf"
      },
      "source": [
        "dfs.head()"
      ],
      "execution_count": 177,
      "outputs": [
        {
          "output_type": "execute_result",
          "data": {
            "text/plain": [
              "                                                  Activity\n",
              "Case ID                                                   \n",
              "1        Register;Analyze Defect;Repair (Complex);Test ...\n",
              "2        Register;Analyze Defect;Inform User;Repair (Co...\n",
              "3        Register;Analyze Defect;Repair (Simple);Inform...\n",
              "4        Register;Analyze Defect;Repair (Simple);Inform...\n",
              "5        Register;Analyze Defect;Repair (Complex);Test ..."
            ],
            "text/html": [
              "\n",
              "  <div id=\"df-e11c08c6-99f2-4f9e-b901-4ce608a5dff0\">\n",
              "    <div class=\"colab-df-container\">\n",
              "      <div>\n",
              "<style scoped>\n",
              "    .dataframe tbody tr th:only-of-type {\n",
              "        vertical-align: middle;\n",
              "    }\n",
              "\n",
              "    .dataframe tbody tr th {\n",
              "        vertical-align: top;\n",
              "    }\n",
              "\n",
              "    .dataframe thead th {\n",
              "        text-align: right;\n",
              "    }\n",
              "</style>\n",
              "<table border=\"1\" class=\"dataframe\">\n",
              "  <thead>\n",
              "    <tr style=\"text-align: right;\">\n",
              "      <th></th>\n",
              "      <th>Activity</th>\n",
              "    </tr>\n",
              "    <tr>\n",
              "      <th>Case ID</th>\n",
              "      <th></th>\n",
              "    </tr>\n",
              "  </thead>\n",
              "  <tbody>\n",
              "    <tr>\n",
              "      <th>1</th>\n",
              "      <td>Register;Analyze Defect;Repair (Complex);Test ...</td>\n",
              "    </tr>\n",
              "    <tr>\n",
              "      <th>2</th>\n",
              "      <td>Register;Analyze Defect;Inform User;Repair (Co...</td>\n",
              "    </tr>\n",
              "    <tr>\n",
              "      <th>3</th>\n",
              "      <td>Register;Analyze Defect;Repair (Simple);Inform...</td>\n",
              "    </tr>\n",
              "    <tr>\n",
              "      <th>4</th>\n",
              "      <td>Register;Analyze Defect;Repair (Simple);Inform...</td>\n",
              "    </tr>\n",
              "    <tr>\n",
              "      <th>5</th>\n",
              "      <td>Register;Analyze Defect;Repair (Complex);Test ...</td>\n",
              "    </tr>\n",
              "  </tbody>\n",
              "</table>\n",
              "</div>\n",
              "      <button class=\"colab-df-convert\" onclick=\"convertToInteractive('df-e11c08c6-99f2-4f9e-b901-4ce608a5dff0')\"\n",
              "              title=\"Convert this dataframe to an interactive table.\"\n",
              "              style=\"display:none;\">\n",
              "        \n",
              "  <svg xmlns=\"http://www.w3.org/2000/svg\" height=\"24px\"viewBox=\"0 0 24 24\"\n",
              "       width=\"24px\">\n",
              "    <path d=\"M0 0h24v24H0V0z\" fill=\"none\"/>\n",
              "    <path d=\"M18.56 5.44l.94 2.06.94-2.06 2.06-.94-2.06-.94-.94-2.06-.94 2.06-2.06.94zm-11 1L8.5 8.5l.94-2.06 2.06-.94-2.06-.94L8.5 2.5l-.94 2.06-2.06.94zm10 10l.94 2.06.94-2.06 2.06-.94-2.06-.94-.94-2.06-.94 2.06-2.06.94z\"/><path d=\"M17.41 7.96l-1.37-1.37c-.4-.4-.92-.59-1.43-.59-.52 0-1.04.2-1.43.59L10.3 9.45l-7.72 7.72c-.78.78-.78 2.05 0 2.83L4 21.41c.39.39.9.59 1.41.59.51 0 1.02-.2 1.41-.59l7.78-7.78 2.81-2.81c.8-.78.8-2.07 0-2.86zM5.41 20L4 18.59l7.72-7.72 1.47 1.35L5.41 20z\"/>\n",
              "  </svg>\n",
              "      </button>\n",
              "      \n",
              "  <style>\n",
              "    .colab-df-container {\n",
              "      display:flex;\n",
              "      flex-wrap:wrap;\n",
              "      gap: 12px;\n",
              "    }\n",
              "\n",
              "    .colab-df-convert {\n",
              "      background-color: #E8F0FE;\n",
              "      border: none;\n",
              "      border-radius: 50%;\n",
              "      cursor: pointer;\n",
              "      display: none;\n",
              "      fill: #1967D2;\n",
              "      height: 32px;\n",
              "      padding: 0 0 0 0;\n",
              "      width: 32px;\n",
              "    }\n",
              "\n",
              "    .colab-df-convert:hover {\n",
              "      background-color: #E2EBFA;\n",
              "      box-shadow: 0px 1px 2px rgba(60, 64, 67, 0.3), 0px 1px 3px 1px rgba(60, 64, 67, 0.15);\n",
              "      fill: #174EA6;\n",
              "    }\n",
              "\n",
              "    [theme=dark] .colab-df-convert {\n",
              "      background-color: #3B4455;\n",
              "      fill: #D2E3FC;\n",
              "    }\n",
              "\n",
              "    [theme=dark] .colab-df-convert:hover {\n",
              "      background-color: #434B5C;\n",
              "      box-shadow: 0px 1px 3px 1px rgba(0, 0, 0, 0.15);\n",
              "      filter: drop-shadow(0px 1px 2px rgba(0, 0, 0, 0.3));\n",
              "      fill: #FFFFFF;\n",
              "    }\n",
              "  </style>\n",
              "\n",
              "      <script>\n",
              "        const buttonEl =\n",
              "          document.querySelector('#df-e11c08c6-99f2-4f9e-b901-4ce608a5dff0 button.colab-df-convert');\n",
              "        buttonEl.style.display =\n",
              "          google.colab.kernel.accessAllowed ? 'block' : 'none';\n",
              "\n",
              "        async function convertToInteractive(key) {\n",
              "          const element = document.querySelector('#df-e11c08c6-99f2-4f9e-b901-4ce608a5dff0');\n",
              "          const dataTable =\n",
              "            await google.colab.kernel.invokeFunction('convertToInteractive',\n",
              "                                                     [key], {});\n",
              "          if (!dataTable) return;\n",
              "\n",
              "          const docLinkHtml = 'Like what you see? Visit the ' +\n",
              "            '<a target=\"_blank\" href=https://colab.research.google.com/notebooks/data_table.ipynb>data table notebook</a>'\n",
              "            + ' to learn more about interactive tables.';\n",
              "          element.innerHTML = '';\n",
              "          dataTable['output_type'] = 'display_data';\n",
              "          await google.colab.output.renderOutput(dataTable, element);\n",
              "          const docLink = document.createElement('div');\n",
              "          docLink.innerHTML = docLinkHtml;\n",
              "          element.appendChild(docLink);\n",
              "        }\n",
              "      </script>\n",
              "    </div>\n",
              "  </div>\n",
              "  "
            ]
          },
          "metadata": {},
          "execution_count": 177
        }
      ]
    },
    {
      "cell_type": "markdown",
      "metadata": {
        "id": "WByot2ciVyjw"
      },
      "source": [
        "Aby zobaczyć, jak dokładniej wygląda taki ślad, obejrzyjmy dowolny z takich śladów:"
      ]
    },
    {
      "cell_type": "code",
      "metadata": {
        "id": "wGoEkI29Ua_m",
        "colab": {
          "base_uri": "https://localhost:8080/",
          "height": 35
        },
        "outputId": "66def60e-52c3-4ab4-a3e9-b9f63e90f417"
      },
      "source": [
        "dfs.iloc[145]['Activity']"
      ],
      "execution_count": 178,
      "outputs": [
        {
          "output_type": "execute_result",
          "data": {
            "text/plain": [
              "'Register;Analyze Defect;Repair (Simple);Test Repair;Inform User;Archive Repair;End'"
            ],
            "application/vnd.google.colaboratory.intrinsic+json": {
              "type": "string"
            }
          },
          "metadata": {},
          "execution_count": 178
        }
      ]
    },
    {
      "cell_type": "markdown",
      "metadata": {
        "id": "YNDtFeodWSRh"
      },
      "source": [
        "Ponieważ ślady w logu mogą się powtarzać, zgrupujmy je zatem w warianty i policzmy ile jest śladów każdego typu:"
      ]
    },
    {
      "cell_type": "code",
      "metadata": {
        "id": "Vd95LnySFCGn"
      },
      "source": [
        "dfs['count'] = 0\n",
        "dfs = (\n",
        "    dfs.groupby('Activity', as_index=False).count()\n",
        "    .sort_values(['count'], ascending=False)\n",
        "    .reset_index(drop=True)\n",
        "    )"
      ],
      "execution_count": 179,
      "outputs": []
    },
    {
      "cell_type": "code",
      "metadata": {
        "id": "9v1SMeUfW-FS",
        "colab": {
          "base_uri": "https://localhost:8080/",
          "height": 215
        },
        "outputId": "bbf7b9e3-f2c2-454c-9ac0-604e1755f5e8"
      },
      "source": [
        "dfs.head()"
      ],
      "execution_count": 180,
      "outputs": [
        {
          "output_type": "execute_result",
          "data": {
            "text/plain": [
              "                                            Activity  count\n",
              "0  Register;Analyze Defect;Repair (Complex);Infor...    253\n",
              "1  Register;Analyze Defect;Repair (Complex);Test ...    193\n",
              "2  Register;Analyze Defect;Repair (Simple);Test R...    108\n",
              "3  Register;Analyze Defect;Inform User;Repair (Co...     78\n",
              "4  Register;Analyze Defect;Repair (Simple);Inform...     75"
            ],
            "text/html": [
              "\n",
              "  <div id=\"df-b83bd731-ec49-4bca-8d1c-aaac28e32f86\">\n",
              "    <div class=\"colab-df-container\">\n",
              "      <div>\n",
              "<style scoped>\n",
              "    .dataframe tbody tr th:only-of-type {\n",
              "        vertical-align: middle;\n",
              "    }\n",
              "\n",
              "    .dataframe tbody tr th {\n",
              "        vertical-align: top;\n",
              "    }\n",
              "\n",
              "    .dataframe thead th {\n",
              "        text-align: right;\n",
              "    }\n",
              "</style>\n",
              "<table border=\"1\" class=\"dataframe\">\n",
              "  <thead>\n",
              "    <tr style=\"text-align: right;\">\n",
              "      <th></th>\n",
              "      <th>Activity</th>\n",
              "      <th>count</th>\n",
              "    </tr>\n",
              "  </thead>\n",
              "  <tbody>\n",
              "    <tr>\n",
              "      <th>0</th>\n",
              "      <td>Register;Analyze Defect;Repair (Complex);Infor...</td>\n",
              "      <td>253</td>\n",
              "    </tr>\n",
              "    <tr>\n",
              "      <th>1</th>\n",
              "      <td>Register;Analyze Defect;Repair (Complex);Test ...</td>\n",
              "      <td>193</td>\n",
              "    </tr>\n",
              "    <tr>\n",
              "      <th>2</th>\n",
              "      <td>Register;Analyze Defect;Repair (Simple);Test R...</td>\n",
              "      <td>108</td>\n",
              "    </tr>\n",
              "    <tr>\n",
              "      <th>3</th>\n",
              "      <td>Register;Analyze Defect;Inform User;Repair (Co...</td>\n",
              "      <td>78</td>\n",
              "    </tr>\n",
              "    <tr>\n",
              "      <th>4</th>\n",
              "      <td>Register;Analyze Defect;Repair (Simple);Inform...</td>\n",
              "      <td>75</td>\n",
              "    </tr>\n",
              "  </tbody>\n",
              "</table>\n",
              "</div>\n",
              "      <button class=\"colab-df-convert\" onclick=\"convertToInteractive('df-b83bd731-ec49-4bca-8d1c-aaac28e32f86')\"\n",
              "              title=\"Convert this dataframe to an interactive table.\"\n",
              "              style=\"display:none;\">\n",
              "        \n",
              "  <svg xmlns=\"http://www.w3.org/2000/svg\" height=\"24px\"viewBox=\"0 0 24 24\"\n",
              "       width=\"24px\">\n",
              "    <path d=\"M0 0h24v24H0V0z\" fill=\"none\"/>\n",
              "    <path d=\"M18.56 5.44l.94 2.06.94-2.06 2.06-.94-2.06-.94-.94-2.06-.94 2.06-2.06.94zm-11 1L8.5 8.5l.94-2.06 2.06-.94-2.06-.94L8.5 2.5l-.94 2.06-2.06.94zm10 10l.94 2.06.94-2.06 2.06-.94-2.06-.94-.94-2.06-.94 2.06-2.06.94z\"/><path d=\"M17.41 7.96l-1.37-1.37c-.4-.4-.92-.59-1.43-.59-.52 0-1.04.2-1.43.59L10.3 9.45l-7.72 7.72c-.78.78-.78 2.05 0 2.83L4 21.41c.39.39.9.59 1.41.59.51 0 1.02-.2 1.41-.59l7.78-7.78 2.81-2.81c.8-.78.8-2.07 0-2.86zM5.41 20L4 18.59l7.72-7.72 1.47 1.35L5.41 20z\"/>\n",
              "  </svg>\n",
              "      </button>\n",
              "      \n",
              "  <style>\n",
              "    .colab-df-container {\n",
              "      display:flex;\n",
              "      flex-wrap:wrap;\n",
              "      gap: 12px;\n",
              "    }\n",
              "\n",
              "    .colab-df-convert {\n",
              "      background-color: #E8F0FE;\n",
              "      border: none;\n",
              "      border-radius: 50%;\n",
              "      cursor: pointer;\n",
              "      display: none;\n",
              "      fill: #1967D2;\n",
              "      height: 32px;\n",
              "      padding: 0 0 0 0;\n",
              "      width: 32px;\n",
              "    }\n",
              "\n",
              "    .colab-df-convert:hover {\n",
              "      background-color: #E2EBFA;\n",
              "      box-shadow: 0px 1px 2px rgba(60, 64, 67, 0.3), 0px 1px 3px 1px rgba(60, 64, 67, 0.15);\n",
              "      fill: #174EA6;\n",
              "    }\n",
              "\n",
              "    [theme=dark] .colab-df-convert {\n",
              "      background-color: #3B4455;\n",
              "      fill: #D2E3FC;\n",
              "    }\n",
              "\n",
              "    [theme=dark] .colab-df-convert:hover {\n",
              "      background-color: #434B5C;\n",
              "      box-shadow: 0px 1px 3px 1px rgba(0, 0, 0, 0.15);\n",
              "      filter: drop-shadow(0px 1px 2px rgba(0, 0, 0, 0.3));\n",
              "      fill: #FFFFFF;\n",
              "    }\n",
              "  </style>\n",
              "\n",
              "      <script>\n",
              "        const buttonEl =\n",
              "          document.querySelector('#df-b83bd731-ec49-4bca-8d1c-aaac28e32f86 button.colab-df-convert');\n",
              "        buttonEl.style.display =\n",
              "          google.colab.kernel.accessAllowed ? 'block' : 'none';\n",
              "\n",
              "        async function convertToInteractive(key) {\n",
              "          const element = document.querySelector('#df-b83bd731-ec49-4bca-8d1c-aaac28e32f86');\n",
              "          const dataTable =\n",
              "            await google.colab.kernel.invokeFunction('convertToInteractive',\n",
              "                                                     [key], {});\n",
              "          if (!dataTable) return;\n",
              "\n",
              "          const docLinkHtml = 'Like what you see? Visit the ' +\n",
              "            '<a target=\"_blank\" href=https://colab.research.google.com/notebooks/data_table.ipynb>data table notebook</a>'\n",
              "            + ' to learn more about interactive tables.';\n",
              "          element.innerHTML = '';\n",
              "          dataTable['output_type'] = 'display_data';\n",
              "          await google.colab.output.renderOutput(dataTable, element);\n",
              "          const docLink = document.createElement('div');\n",
              "          docLink.innerHTML = docLinkHtml;\n",
              "          element.appendChild(docLink);\n",
              "        }\n",
              "      </script>\n",
              "    </div>\n",
              "  </div>\n",
              "  "
            ]
          },
          "metadata": {},
          "execution_count": 180
        }
      ]
    },
    {
      "cell_type": "markdown",
      "metadata": {
        "id": "Q89wtd3yXMIO"
      },
      "source": [
        "Jak wygląda najczęstszy ślad (najczęstsza ścieżka zdarzeń w procesie, czyli najpopularniejszy wariant)? "
      ]
    },
    {
      "cell_type": "markdown",
      "metadata": {
        "id": "bB-WfzCQX_zK"
      },
      "source": [
        "Ponieważ w dalszej części wygodniej będzie nam operować na wariantach w formie listy, \\\\\n",
        "dodamy nową kolumnę, która przechowa wariant w formie listy:"
      ]
    },
    {
      "cell_type": "code",
      "metadata": {
        "id": "50YW9bw2FD2T"
      },
      "source": [
        "dfs['trace'] = [trace.split(';') for trace in dfs['Activity']]"
      ],
      "execution_count": 181,
      "outputs": []
    },
    {
      "cell_type": "code",
      "metadata": {
        "id": "gvzMeiz8rs2p",
        "colab": {
          "base_uri": "https://localhost:8080/",
          "height": 298
        },
        "outputId": "3ed0b344-c4a2-4426-a76a-9ea2e6a013f1"
      },
      "source": [
        "dfs.head()"
      ],
      "execution_count": 182,
      "outputs": [
        {
          "output_type": "execute_result",
          "data": {
            "text/plain": [
              "                                            Activity  count  \\\n",
              "0  Register;Analyze Defect;Repair (Complex);Infor...    253   \n",
              "1  Register;Analyze Defect;Repair (Complex);Test ...    193   \n",
              "2  Register;Analyze Defect;Repair (Simple);Test R...    108   \n",
              "3  Register;Analyze Defect;Inform User;Repair (Co...     78   \n",
              "4  Register;Analyze Defect;Repair (Simple);Inform...     75   \n",
              "\n",
              "                                               trace  \n",
              "0  [Register, Analyze Defect, Repair (Complex), I...  \n",
              "1  [Register, Analyze Defect, Repair (Complex), T...  \n",
              "2  [Register, Analyze Defect, Repair (Simple), Te...  \n",
              "3  [Register, Analyze Defect, Inform User, Repair...  \n",
              "4  [Register, Analyze Defect, Repair (Simple), In...  "
            ],
            "text/html": [
              "\n",
              "  <div id=\"df-97b4632e-c08d-4ca6-a5d5-f5923f07c525\">\n",
              "    <div class=\"colab-df-container\">\n",
              "      <div>\n",
              "<style scoped>\n",
              "    .dataframe tbody tr th:only-of-type {\n",
              "        vertical-align: middle;\n",
              "    }\n",
              "\n",
              "    .dataframe tbody tr th {\n",
              "        vertical-align: top;\n",
              "    }\n",
              "\n",
              "    .dataframe thead th {\n",
              "        text-align: right;\n",
              "    }\n",
              "</style>\n",
              "<table border=\"1\" class=\"dataframe\">\n",
              "  <thead>\n",
              "    <tr style=\"text-align: right;\">\n",
              "      <th></th>\n",
              "      <th>Activity</th>\n",
              "      <th>count</th>\n",
              "      <th>trace</th>\n",
              "    </tr>\n",
              "  </thead>\n",
              "  <tbody>\n",
              "    <tr>\n",
              "      <th>0</th>\n",
              "      <td>Register;Analyze Defect;Repair (Complex);Infor...</td>\n",
              "      <td>253</td>\n",
              "      <td>[Register, Analyze Defect, Repair (Complex), I...</td>\n",
              "    </tr>\n",
              "    <tr>\n",
              "      <th>1</th>\n",
              "      <td>Register;Analyze Defect;Repair (Complex);Test ...</td>\n",
              "      <td>193</td>\n",
              "      <td>[Register, Analyze Defect, Repair (Complex), T...</td>\n",
              "    </tr>\n",
              "    <tr>\n",
              "      <th>2</th>\n",
              "      <td>Register;Analyze Defect;Repair (Simple);Test R...</td>\n",
              "      <td>108</td>\n",
              "      <td>[Register, Analyze Defect, Repair (Simple), Te...</td>\n",
              "    </tr>\n",
              "    <tr>\n",
              "      <th>3</th>\n",
              "      <td>Register;Analyze Defect;Inform User;Repair (Co...</td>\n",
              "      <td>78</td>\n",
              "      <td>[Register, Analyze Defect, Inform User, Repair...</td>\n",
              "    </tr>\n",
              "    <tr>\n",
              "      <th>4</th>\n",
              "      <td>Register;Analyze Defect;Repair (Simple);Inform...</td>\n",
              "      <td>75</td>\n",
              "      <td>[Register, Analyze Defect, Repair (Simple), In...</td>\n",
              "    </tr>\n",
              "  </tbody>\n",
              "</table>\n",
              "</div>\n",
              "      <button class=\"colab-df-convert\" onclick=\"convertToInteractive('df-97b4632e-c08d-4ca6-a5d5-f5923f07c525')\"\n",
              "              title=\"Convert this dataframe to an interactive table.\"\n",
              "              style=\"display:none;\">\n",
              "        \n",
              "  <svg xmlns=\"http://www.w3.org/2000/svg\" height=\"24px\"viewBox=\"0 0 24 24\"\n",
              "       width=\"24px\">\n",
              "    <path d=\"M0 0h24v24H0V0z\" fill=\"none\"/>\n",
              "    <path d=\"M18.56 5.44l.94 2.06.94-2.06 2.06-.94-2.06-.94-.94-2.06-.94 2.06-2.06.94zm-11 1L8.5 8.5l.94-2.06 2.06-.94-2.06-.94L8.5 2.5l-.94 2.06-2.06.94zm10 10l.94 2.06.94-2.06 2.06-.94-2.06-.94-.94-2.06-.94 2.06-2.06.94z\"/><path d=\"M17.41 7.96l-1.37-1.37c-.4-.4-.92-.59-1.43-.59-.52 0-1.04.2-1.43.59L10.3 9.45l-7.72 7.72c-.78.78-.78 2.05 0 2.83L4 21.41c.39.39.9.59 1.41.59.51 0 1.02-.2 1.41-.59l7.78-7.78 2.81-2.81c.8-.78.8-2.07 0-2.86zM5.41 20L4 18.59l7.72-7.72 1.47 1.35L5.41 20z\"/>\n",
              "  </svg>\n",
              "      </button>\n",
              "      \n",
              "  <style>\n",
              "    .colab-df-container {\n",
              "      display:flex;\n",
              "      flex-wrap:wrap;\n",
              "      gap: 12px;\n",
              "    }\n",
              "\n",
              "    .colab-df-convert {\n",
              "      background-color: #E8F0FE;\n",
              "      border: none;\n",
              "      border-radius: 50%;\n",
              "      cursor: pointer;\n",
              "      display: none;\n",
              "      fill: #1967D2;\n",
              "      height: 32px;\n",
              "      padding: 0 0 0 0;\n",
              "      width: 32px;\n",
              "    }\n",
              "\n",
              "    .colab-df-convert:hover {\n",
              "      background-color: #E2EBFA;\n",
              "      box-shadow: 0px 1px 2px rgba(60, 64, 67, 0.3), 0px 1px 3px 1px rgba(60, 64, 67, 0.15);\n",
              "      fill: #174EA6;\n",
              "    }\n",
              "\n",
              "    [theme=dark] .colab-df-convert {\n",
              "      background-color: #3B4455;\n",
              "      fill: #D2E3FC;\n",
              "    }\n",
              "\n",
              "    [theme=dark] .colab-df-convert:hover {\n",
              "      background-color: #434B5C;\n",
              "      box-shadow: 0px 1px 3px 1px rgba(0, 0, 0, 0.15);\n",
              "      filter: drop-shadow(0px 1px 2px rgba(0, 0, 0, 0.3));\n",
              "      fill: #FFFFFF;\n",
              "    }\n",
              "  </style>\n",
              "\n",
              "      <script>\n",
              "        const buttonEl =\n",
              "          document.querySelector('#df-97b4632e-c08d-4ca6-a5d5-f5923f07c525 button.colab-df-convert');\n",
              "        buttonEl.style.display =\n",
              "          google.colab.kernel.accessAllowed ? 'block' : 'none';\n",
              "\n",
              "        async function convertToInteractive(key) {\n",
              "          const element = document.querySelector('#df-97b4632e-c08d-4ca6-a5d5-f5923f07c525');\n",
              "          const dataTable =\n",
              "            await google.colab.kernel.invokeFunction('convertToInteractive',\n",
              "                                                     [key], {});\n",
              "          if (!dataTable) return;\n",
              "\n",
              "          const docLinkHtml = 'Like what you see? Visit the ' +\n",
              "            '<a target=\"_blank\" href=https://colab.research.google.com/notebooks/data_table.ipynb>data table notebook</a>'\n",
              "            + ' to learn more about interactive tables.';\n",
              "          element.innerHTML = '';\n",
              "          dataTable['output_type'] = 'display_data';\n",
              "          await google.colab.output.renderOutput(dataTable, element);\n",
              "          const docLink = document.createElement('div');\n",
              "          docLink.innerHTML = docLinkHtml;\n",
              "          element.appendChild(docLink);\n",
              "        }\n",
              "      </script>\n",
              "    </div>\n",
              "  </div>\n",
              "  "
            ]
          },
          "metadata": {},
          "execution_count": 182
        }
      ]
    },
    {
      "cell_type": "markdown",
      "metadata": {
        "id": "rOUN49gsZYwn"
      },
      "source": [
        "Na tak przygotowanych danych prościej będzie nam przygotować graf, który zobrazuje model procesu. \\\\\n",
        "W tym celu potrzebujemy pobrać dane z naszego obiektu `Dataframe`:"
      ]
    },
    {
      "cell_type": "code",
      "metadata": {
        "id": "FrFaUnsi_Umc",
        "colab": {
          "base_uri": "https://localhost:8080/"
        },
        "outputId": "f367ae9d-45ac-4e86-9440-aa45a8290923"
      },
      "source": [
        "for i, row in dfs[['trace','count']].iterrows():\n",
        "  print(i, row['count'], row['trace'])\n",
        "  if i > 8: break # przerwanie, aby nie wyswietlalo wszystkich wierszy"
      ],
      "execution_count": 183,
      "outputs": [
        {
          "output_type": "stream",
          "name": "stdout",
          "text": [
            "0 253 ['Register', 'Analyze Defect', 'Repair (Complex)', 'Inform User', 'Test Repair', 'Archive Repair', 'End']\n",
            "1 193 ['Register', 'Analyze Defect', 'Repair (Complex)', 'Test Repair', 'Inform User', 'Archive Repair', 'End']\n",
            "2 108 ['Register', 'Analyze Defect', 'Repair (Simple)', 'Test Repair', 'Inform User', 'Archive Repair', 'End']\n",
            "3 78 ['Register', 'Analyze Defect', 'Inform User', 'Repair (Complex)', 'Test Repair', 'Archive Repair', 'End']\n",
            "4 75 ['Register', 'Analyze Defect', 'Repair (Simple)', 'Inform User', 'Test Repair', 'Archive Repair', 'End']\n",
            "5 33 ['Register', 'Analyze Defect', 'Repair (Simple)', 'Test Repair', 'Inform User', 'Restart Repair', 'Repair (Simple)', 'Test Repair', 'Restart Repair', 'Repair (Simple)', 'Test Repair', 'Archive Repair', 'End']\n",
            "6 32 ['Register', 'Analyze Defect', 'Repair (Simple)', 'Test Repair', 'Inform User', 'Restart Repair', 'Repair (Simple)', 'Test Repair', 'Archive Repair', 'End']\n",
            "7 29 ['Register', 'Analyze Defect', 'Repair (Simple)', 'Test Repair', 'Restart Repair', 'Repair (Simple)', 'Inform User', 'Test Repair', 'Archive Repair', 'End']\n",
            "8 28 ['Register', 'Analyze Defect', 'Inform User', 'Repair (Simple)', 'Test Repair', 'Archive Repair', 'End']\n",
            "9 20 ['Register', 'Analyze Defect', 'Repair (Complex)', 'Inform User', 'Test Repair', 'End']\n"
          ]
        }
      ]
    },
    {
      "cell_type": "markdown",
      "metadata": {
        "id": "bSR2rJf_aXL6"
      },
      "source": [
        "## Odkrywanie modelu procesu\n",
        "\n",
        "Na bazie tak przygotowanych wariantów, możemy dość szybko przygotować odpowiedni graf, \\\\\n",
        "który zobrazuje nam model procesu. Graf przechowamy w słowniku `w_net` (workflow net):"
      ]
    },
    {
      "cell_type": "code",
      "metadata": {
        "id": "fQo7khd8OR3b"
      },
      "source": [
        "w_net = dict()\n",
        "ev_start_set = set()\n",
        "ev_end_set = set()\n",
        "for index, row in dfs[['trace','count']].iterrows():\n",
        "  if row['trace'][0] not in ev_start_set:\n",
        "    ev_start_set.add(row['trace'][0])\n",
        "  if row['trace'][-1] not in ev_end_set:\n",
        "    ev_end_set.add(row['trace'][-1])\n",
        "  for ev_i, ev_j in pairwise(row['trace']):\n",
        "    if ev_i not in w_net.keys():\n",
        "      w_net[ev_i] = Counter()\n",
        "    w_net[ev_i][ev_j] += row['count']"
      ],
      "execution_count": 184,
      "outputs": []
    },
    {
      "cell_type": "code",
      "metadata": {
        "id": "OwIj0SaQOnip",
        "colab": {
          "base_uri": "https://localhost:8080/"
        },
        "outputId": "f855850d-69d1-4e3d-ff6f-34f6fb23ea2c"
      },
      "source": [
        "w_net"
      ],
      "execution_count": 185,
      "outputs": [
        {
          "output_type": "execute_result",
          "data": {
            "text/plain": [
              "{'Analyze Defect': Counter({'Inform User': 155,\n",
              "          'Repair (Complex)': 528,\n",
              "          'Repair (Simple)': 421}),\n",
              " 'Archive Repair': Counter({'End': 1000}),\n",
              " 'Inform User': Counter({'Archive Repair': 325,\n",
              "          'End': 35,\n",
              "          'Repair (Complex)': 92,\n",
              "          'Repair (Simple)': 64,\n",
              "          'Restart Repair': 112,\n",
              "          'Test Repair': 474}),\n",
              " 'Register': Counter({'Analyze Defect': 1104}),\n",
              " 'Repair (Complex)': Counter({'End': 2,\n",
              "          'Inform User': 313,\n",
              "          'Test Repair': 410}),\n",
              " 'Repair (Simple)': Counter({'Inform User': 161, 'Test Repair': 624}),\n",
              " 'Restart Repair': Counter({'Inform User': 1,\n",
              "          'Repair (Complex)': 105,\n",
              "          'Repair (Simple)': 300}),\n",
              " 'Test Repair': Counter({'Archive Repair': 675,\n",
              "          'End': 67,\n",
              "          'Inform User': 472,\n",
              "          'Restart Repair': 294})}"
            ]
          },
          "metadata": {},
          "execution_count": 185
        }
      ]
    },
    {
      "cell_type": "code",
      "metadata": {
        "id": "vaDvnteUyCaa",
        "colab": {
          "base_uri": "https://localhost:8080/"
        },
        "outputId": "22d5781f-a8a4-403a-ecbd-39fa76190c2c"
      },
      "source": [
        "ev_start_set"
      ],
      "execution_count": 186,
      "outputs": [
        {
          "output_type": "execute_result",
          "data": {
            "text/plain": [
              "{'Register'}"
            ]
          },
          "metadata": {},
          "execution_count": 186
        }
      ]
    },
    {
      "cell_type": "code",
      "metadata": {
        "id": "_6x4nbmbyD-z",
        "colab": {
          "base_uri": "https://localhost:8080/"
        },
        "outputId": "0e545184-e889-4045-dcb6-4d1b558132b9"
      },
      "source": [
        "ev_end_set"
      ],
      "execution_count": 187,
      "outputs": [
        {
          "output_type": "execute_result",
          "data": {
            "text/plain": [
              "{'End'}"
            ]
          },
          "metadata": {},
          "execution_count": 187
        }
      ]
    },
    {
      "cell_type": "markdown",
      "metadata": {
        "id": "fJeosaNLbkko"
      },
      "source": [
        "Mając tak przygotowany słownik, możemy zilustrować nasz proces przy użyciu `pygraphviz`:"
      ]
    },
    {
      "cell_type": "code",
      "metadata": {
        "id": "AJ3AzCQ4Ooki",
        "colab": {
          "base_uri": "https://localhost:8080/",
          "height": 334
        },
        "outputId": "9308edb8-957e-49e1-8be6-8040e1558653"
      },
      "source": [
        "G = pgv.AGraph(strict=False, directed=True)\n",
        "G.graph_attr['rankdir'] = 'LR'\n",
        "G.node_attr['shape'] = 'Mrecord'\n",
        "for event, succesors in w_net.items():\n",
        "  G.add_node(event, style=\"rounded,filled\", fillcolor=\"#ffcccc\")\n",
        "  G.add_edges_from([(event, sc) for sc in succesors])\n",
        "G.draw('simple_heuristic_net.png', prog='dot')\n",
        "display(Image('simple_heuristic_net.png'))"
      ],
      "execution_count": 188,
      "outputs": [
        {
          "output_type": "display_data",
          "data": {
            "text/plain": [
              "<IPython.core.display.Image object>"
            ],
            "image/png": "[encoded data removed]"
          },
          "metadata": {}
        }
      ]
    },
    {
      "cell_type": "markdown",
      "metadata": {
        "id": "wrxG9Sp4dCXY"
      },
      "source": [
        "## Udoskonalanie modelu procesu \n",
        "\n",
        "Aby lepiej zobrazować proces warto dodać odpowiednie kolory dla zadań \\\\\n",
        "i zróżnicować grubości przepływów, w zależności od tego, \\\\\n",
        "jak często w logu występowało odpowiednio dane zdarzenie albo przepływ. \n",
        "\n",
        "W tym celu potrzebujemy określić minimalne i maksymalne wartości:"
      ]
    },
    {
      "cell_type": "code",
      "metadata": {
        "id": "yiopCYHjPvxO"
      },
      "source": [
        "trace_counts = sorted(chain(*[c.values() for c in w_net.values()]))\n",
        "trace_min = trace_counts[0]\n",
        "trace_max = trace_counts[-1]\n",
        "color_min = ev_counter.min()\n",
        "color_max = ev_counter.max()"
      ],
      "execution_count": 189,
      "outputs": []
    },
    {
      "cell_type": "markdown",
      "metadata": {
        "id": "bff_lvFafLM1"
      },
      "source": [
        "Teraz możemy do naszego modelu dodać zarówno kolory zadań, jak i grubości linii. \\\\\n",
        "Ponadto dodamy do naszego modelu zdarzenie początkowe i zmienimy sposób wyświetlania \\\\\n",
        "zarówno zdarzenia początkowego, jak i końcowego."
      ]
    },
    {
      "cell_type": "code",
      "metadata": {
        "id": "ZCVv1GGAQLsq",
        "colab": {
          "base_uri": "https://localhost:8080/",
          "height": 502
        },
        "outputId": "0e068cc4-6529-4b60-ac59-da887d74612c"
      },
      "source": [
        "# G = pgv.AGraph(strict= False, directed=True)\n",
        "# G.graph_attr['rankdir'] = 'LR'\n",
        "# G.node_attr['shape'] = 'Mrecord'\n",
        "\n",
        "# G.add_node(\"start\", shape=\"circle\", label=\"\")\n",
        "# for ev_start in ev_start_set:\n",
        "#   G.add_edge(\"start\", ev_start)\n",
        "\n",
        "# for event, succesors in w_net.items():\n",
        "#   value = ev_counter[event]\n",
        "#   color = int(float(color_min-value)/float(color_min-color_max)*100.00)\n",
        "#   my_color = \"#ff9933\"+str(hex(color))[2:]\n",
        "#   G.add_node(event, style=\"rounded,filled\", fillcolor=my_color)\n",
        "#   for succesor, cnt in succesors.items():\n",
        "#     G.add_edge(event, succesor, penwidth=4*cnt/(trace_max-trace_min)+0.1, label=cnt)\n",
        "\n",
        "# G.add_node(\"end\", shape=\"circle\", label=\"\", penwidth='3')\n",
        "# for ev_end in ev_end_set:\n",
        "#   G.add_edge(ev_end, \"end\")\n",
        "\n",
        "# G.draw('simple_heuristic_net_with_events.png', prog='dot')\n",
        "# display(Image('simple_heuristic_net_with_events.png'))"
      ],
      "execution_count": 190,
      "outputs": [
        {
          "output_type": "error",
          "ename": "KeyError",
          "evalue": "ignored",
          "traceback": [
            "\u001b[0;31m---------------------------------------------------------------------------\u001b[0m",
            "\u001b[0;31mKeyError\u001b[0m                                  Traceback (most recent call last)",
            "\u001b[0;32m/usr/local/lib/python3.7/dist-packages/pandas/core/indexes/base.py\u001b[0m in \u001b[0;36mget_loc\u001b[0;34m(self, key, method, tolerance)\u001b[0m\n\u001b[1;32m   3360\u001b[0m             \u001b[0;32mtry\u001b[0m\u001b[0;34m:\u001b[0m\u001b[0;34m\u001b[0m\u001b[0;34m\u001b[0m\u001b[0m\n\u001b[0;32m-> 3361\u001b[0;31m                 \u001b[0;32mreturn\u001b[0m \u001b[0mself\u001b[0m\u001b[0;34m.\u001b[0m\u001b[0m_engine\u001b[0m\u001b[0;34m.\u001b[0m\u001b[0mget_loc\u001b[0m\u001b[0;34m(\u001b[0m\u001b[0mcasted_key\u001b[0m\u001b[0;34m)\u001b[0m\u001b[0;34m\u001b[0m\u001b[0;34m\u001b[0m\u001b[0m\n\u001b[0m\u001b[1;32m   3362\u001b[0m             \u001b[0;32mexcept\u001b[0m \u001b[0mKeyError\u001b[0m \u001b[0;32mas\u001b[0m \u001b[0merr\u001b[0m\u001b[0;34m:\u001b[0m\u001b[0;34m\u001b[0m\u001b[0;34m\u001b[0m\u001b[0m\n",
            "\u001b[0;32m/usr/local/lib/python3.7/dist-packages/pandas/_libs/index.pyx\u001b[0m in \u001b[0;36mpandas._libs.index.IndexEngine.get_loc\u001b[0;34m()\u001b[0m\n",
            "\u001b[0;32m/usr/local/lib/python3.7/dist-packages/pandas/_libs/index.pyx\u001b[0m in \u001b[0;36mpandas._libs.index.IndexEngine.get_loc\u001b[0;34m()\u001b[0m\n",
            "\u001b[0;32mpandas/_libs/hashtable_class_helper.pxi\u001b[0m in \u001b[0;36mpandas._libs.hashtable.PyObjectHashTable.get_item\u001b[0;34m()\u001b[0m\n",
            "\u001b[0;32mpandas/_libs/hashtable_class_helper.pxi\u001b[0m in \u001b[0;36mpandas._libs.hashtable.PyObjectHashTable.get_item\u001b[0;34m()\u001b[0m\n",
            "\u001b[0;31mKeyError\u001b[0m: 'Restart Repair'",
            "\nThe above exception was the direct cause of the following exception:\n",
            "\u001b[0;31mKeyError\u001b[0m                                  Traceback (most recent call last)",
            "\u001b[0;32m<ipython-input-190-31ad8380ad8d>\u001b[0m in \u001b[0;36m<module>\u001b[0;34m()\u001b[0m\n\u001b[1;32m      8\u001b[0m \u001b[0;34m\u001b[0m\u001b[0m\n\u001b[1;32m      9\u001b[0m \u001b[0;32mfor\u001b[0m \u001b[0mevent\u001b[0m\u001b[0;34m,\u001b[0m \u001b[0msuccesors\u001b[0m \u001b[0;32min\u001b[0m \u001b[0mw_net\u001b[0m\u001b[0;34m.\u001b[0m\u001b[0mitems\u001b[0m\u001b[0;34m(\u001b[0m\u001b[0;34m)\u001b[0m\u001b[0;34m:\u001b[0m\u001b[0;34m\u001b[0m\u001b[0;34m\u001b[0m\u001b[0m\n\u001b[0;32m---> 10\u001b[0;31m   \u001b[0mvalue\u001b[0m \u001b[0;34m=\u001b[0m \u001b[0mev_counter\u001b[0m\u001b[0;34m[\u001b[0m\u001b[0mevent\u001b[0m\u001b[0;34m]\u001b[0m\u001b[0;34m\u001b[0m\u001b[0;34m\u001b[0m\u001b[0m\n\u001b[0m\u001b[1;32m     11\u001b[0m   \u001b[0mcolor\u001b[0m \u001b[0;34m=\u001b[0m \u001b[0mint\u001b[0m\u001b[0;34m(\u001b[0m\u001b[0mfloat\u001b[0m\u001b[0;34m(\u001b[0m\u001b[0mcolor_min\u001b[0m\u001b[0;34m-\u001b[0m\u001b[0mvalue\u001b[0m\u001b[0;34m)\u001b[0m\u001b[0;34m/\u001b[0m\u001b[0mfloat\u001b[0m\u001b[0;34m(\u001b[0m\u001b[0mcolor_min\u001b[0m\u001b[0;34m-\u001b[0m\u001b[0mcolor_max\u001b[0m\u001b[0;34m)\u001b[0m\u001b[0;34m*\u001b[0m\u001b[0;36m100.00\u001b[0m\u001b[0;34m)\u001b[0m\u001b[0;34m\u001b[0m\u001b[0;34m\u001b[0m\u001b[0m\n\u001b[1;32m     12\u001b[0m   \u001b[0mmy_color\u001b[0m \u001b[0;34m=\u001b[0m \u001b[0;34m\"#ff9933\"\u001b[0m\u001b[0;34m+\u001b[0m\u001b[0mstr\u001b[0m\u001b[0;34m(\u001b[0m\u001b[0mhex\u001b[0m\u001b[0;34m(\u001b[0m\u001b[0mcolor\u001b[0m\u001b[0;34m)\u001b[0m\u001b[0;34m)\u001b[0m\u001b[0;34m[\u001b[0m\u001b[0;36m2\u001b[0m\u001b[0;34m:\u001b[0m\u001b[0;34m]\u001b[0m\u001b[0;34m\u001b[0m\u001b[0;34m\u001b[0m\u001b[0m\n",
            "\u001b[0;32m/usr/local/lib/python3.7/dist-packages/pandas/core/series.py\u001b[0m in \u001b[0;36m__getitem__\u001b[0;34m(self, key)\u001b[0m\n\u001b[1;32m    940\u001b[0m \u001b[0;34m\u001b[0m\u001b[0m\n\u001b[1;32m    941\u001b[0m         \u001b[0;32melif\u001b[0m \u001b[0mkey_is_scalar\u001b[0m\u001b[0;34m:\u001b[0m\u001b[0;34m\u001b[0m\u001b[0;34m\u001b[0m\u001b[0m\n\u001b[0;32m--> 942\u001b[0;31m             \u001b[0;32mreturn\u001b[0m \u001b[0mself\u001b[0m\u001b[0;34m.\u001b[0m\u001b[0m_get_value\u001b[0m\u001b[0;34m(\u001b[0m\u001b[0mkey\u001b[0m\u001b[0;34m)\u001b[0m\u001b[0;34m\u001b[0m\u001b[0;34m\u001b[0m\u001b[0m\n\u001b[0m\u001b[1;32m    943\u001b[0m \u001b[0;34m\u001b[0m\u001b[0m\n\u001b[1;32m    944\u001b[0m         \u001b[0;32mif\u001b[0m \u001b[0mis_hashable\u001b[0m\u001b[0;34m(\u001b[0m\u001b[0mkey\u001b[0m\u001b[0;34m)\u001b[0m\u001b[0;34m:\u001b[0m\u001b[0;34m\u001b[0m\u001b[0;34m\u001b[0m\u001b[0m\n",
            "\u001b[0;32m/usr/local/lib/python3.7/dist-packages/pandas/core/series.py\u001b[0m in \u001b[0;36m_get_value\u001b[0;34m(self, label, takeable)\u001b[0m\n\u001b[1;32m   1049\u001b[0m \u001b[0;34m\u001b[0m\u001b[0m\n\u001b[1;32m   1050\u001b[0m         \u001b[0;31m# Similar to Index.get_value, but we do not fall back to positional\u001b[0m\u001b[0;34m\u001b[0m\u001b[0;34m\u001b[0m\u001b[0;34m\u001b[0m\u001b[0m\n\u001b[0;32m-> 1051\u001b[0;31m         \u001b[0mloc\u001b[0m \u001b[0;34m=\u001b[0m \u001b[0mself\u001b[0m\u001b[0;34m.\u001b[0m\u001b[0mindex\u001b[0m\u001b[0;34m.\u001b[0m\u001b[0mget_loc\u001b[0m\u001b[0;34m(\u001b[0m\u001b[0mlabel\u001b[0m\u001b[0;34m)\u001b[0m\u001b[0;34m\u001b[0m\u001b[0;34m\u001b[0m\u001b[0m\n\u001b[0m\u001b[1;32m   1052\u001b[0m         \u001b[0;32mreturn\u001b[0m \u001b[0mself\u001b[0m\u001b[0;34m.\u001b[0m\u001b[0mindex\u001b[0m\u001b[0;34m.\u001b[0m\u001b[0m_get_values_for_loc\u001b[0m\u001b[0;34m(\u001b[0m\u001b[0mself\u001b[0m\u001b[0;34m,\u001b[0m \u001b[0mloc\u001b[0m\u001b[0;34m,\u001b[0m \u001b[0mlabel\u001b[0m\u001b[0;34m)\u001b[0m\u001b[0;34m\u001b[0m\u001b[0;34m\u001b[0m\u001b[0m\n\u001b[1;32m   1053\u001b[0m \u001b[0;34m\u001b[0m\u001b[0m\n",
            "\u001b[0;32m/usr/local/lib/python3.7/dist-packages/pandas/core/indexes/base.py\u001b[0m in \u001b[0;36mget_loc\u001b[0;34m(self, key, method, tolerance)\u001b[0m\n\u001b[1;32m   3361\u001b[0m                 \u001b[0;32mreturn\u001b[0m \u001b[0mself\u001b[0m\u001b[0;34m.\u001b[0m\u001b[0m_engine\u001b[0m\u001b[0;34m.\u001b[0m\u001b[0mget_loc\u001b[0m\u001b[0;34m(\u001b[0m\u001b[0mcasted_key\u001b[0m\u001b[0;34m)\u001b[0m\u001b[0;34m\u001b[0m\u001b[0;34m\u001b[0m\u001b[0m\n\u001b[1;32m   3362\u001b[0m             \u001b[0;32mexcept\u001b[0m \u001b[0mKeyError\u001b[0m \u001b[0;32mas\u001b[0m \u001b[0merr\u001b[0m\u001b[0;34m:\u001b[0m\u001b[0;34m\u001b[0m\u001b[0;34m\u001b[0m\u001b[0m\n\u001b[0;32m-> 3363\u001b[0;31m                 \u001b[0;32mraise\u001b[0m \u001b[0mKeyError\u001b[0m\u001b[0;34m(\u001b[0m\u001b[0mkey\u001b[0m\u001b[0;34m)\u001b[0m \u001b[0;32mfrom\u001b[0m \u001b[0merr\u001b[0m\u001b[0;34m\u001b[0m\u001b[0;34m\u001b[0m\u001b[0m\n\u001b[0m\u001b[1;32m   3364\u001b[0m \u001b[0;34m\u001b[0m\u001b[0m\n\u001b[1;32m   3365\u001b[0m         \u001b[0;32mif\u001b[0m \u001b[0mis_scalar\u001b[0m\u001b[0;34m(\u001b[0m\u001b[0mkey\u001b[0m\u001b[0;34m)\u001b[0m \u001b[0;32mand\u001b[0m \u001b[0misna\u001b[0m\u001b[0;34m(\u001b[0m\u001b[0mkey\u001b[0m\u001b[0;34m)\u001b[0m \u001b[0;32mand\u001b[0m \u001b[0;32mnot\u001b[0m \u001b[0mself\u001b[0m\u001b[0;34m.\u001b[0m\u001b[0mhasnans\u001b[0m\u001b[0;34m:\u001b[0m\u001b[0;34m\u001b[0m\u001b[0;34m\u001b[0m\u001b[0m\n",
            "\u001b[0;31mKeyError\u001b[0m: 'Restart Repair'"
          ]
        }
      ]
    },
    {
      "cell_type": "markdown",
      "metadata": {
        "id": "jBoGAhEChlE5"
      },
      "source": [
        "## Ćwiczenia rozszerzające model\n",
        "\n",
        "1. Zmodyfikuj etykiety zadań w modelu, tak by dla każdego zadania oprócz nazwy wyświetlana była także liczba wystąpień odpowiadającego mu zdarzenia w logu. \n",
        "Dodaj opcję filtrowania (po zdarzeniach lub przepływach) w zależności od określonych progów, aby pokazać lub ukryć zadania lub przepływy zgodnie z wybranym progiem. Zaprezentuj modele dla wybranych progów np. 420 dla przepływów, 700 dla zdarzeń (osobno i razem). \n",
        "\n",
        "2. Dodaj możliwość ustawiania progów przez użytkownika (poprzez podanie liczby lub użycie suwaka z `ipywidgets`) i wyświetlania przefiltrowanego modelu. Przetestuj jego działanie na różnych progach, aby określić, czy model wygląda prawidłowo, w szczególności, czy jakieś zdania nie zostają odczepione od modelu lub nie są prawidłowo połączone z modelem, np. jeśli wcześniej zadanie występowało pomiędzy innymi zadaniami nie należy filtrować wszystkich przepływów, nawet jeśli są poniżej progu.\n",
        "\n",
        "3. Zmodyfikuj progowanie, tak aby w takim wypadku zachować najlepszy przepływ, aby zadanie było połączone z pozostałymi co najmniej jednym wchodzącym i co najmniej jednym wychodzącym przepływem. Zaprezentuj modele po prostej filtracji i porównaj je z modelami po poprawionej filtracji.\n",
        "\n",
        "4. Dodaj perspektywę wydajności, tzn. oblicz średni czas trwania i pokoloruj zadania zgodnie z czasem ich trwania, a przepływy odpowiedniej grubości.\n",
        "\n",
        "5. Na podstawie obserwacji otrzymanego modelu, jakie wnioski można wyciągnąć z odkrytego procesu naprawy telefonów? Pomyśl o kilku wnioskach wynikających z obserwacji modelu i dotyczących odkrytego procesu, najlepiej takich, które nie są oczywiste, czy ogólne (dotyczące dowolnych modeli procesów).  \n",
        "\n",
        "6. (*nadobowiązkowe*) Istnieją biblioteki do animowania grafów np. `GraphvizAnim`. Przy użyciu tego typu biblioteki można pokusić się o wyświetlenie animacji, jak przebiegał proces wg logu (podświetlając odpowiednie elementy). Jak może wyglądać bardzo zaawansowana animacja takiego modelu można zobaczyć w komercyjnym narzędziu [Disco](https://fluxicon.com/disco/).\n",
        "\n",
        "Zadania mogą być realizowane w parach, natomiast w sprawozdaniu należy podać wtedy imiona i nazwiska osób z pary oraz każda osoba powinna wysłać zadanie/sprawozdanie przez system MS Teams osobno. \n",
        "\n",
        "W sprawozdaniu należy umieścić odpowiednie krótkie opisy z realizacji poszczególnych punktów, zrzuty ekranu oraz kod źródłowy (istotne fragmenty kodu ze zmianami). \n",
        "\n",
        "Sprawozdanie z wykonanych ćwiczeń należy przesłać przez platformę MS Teams do 24.03.2022 w postaci:\n",
        "  - pdf z raportem o wykonaniu ćwiczeń,\n",
        "  - ipynb z wykonanymi ćwiczeniami (pdf oraz ipynb).\n"
      ]
    },
    {
      "cell_type": "markdown",
      "metadata": {
        "id": "uLPF0V6frtFE"
      },
      "source": [
        "## Dodatkowe informacje\n",
        "\n",
        "Podobne modele, do tych odkrywanych w czasie laboratorium, można odkryć i eksplorować przy użyciu np. komercyjnego oprogramowania [Disco](https://fluxicon.com/disco/). Z kolei dużo więcej algorytmów i modeli jest zaimplementowanych w oprogramowaniu open-source [ProM](http://www.promtools.org/), jednakże jego obsługa jest dość skomplikowana.\n",
        "\n",
        "Dziękuję za udział w zajęciach! \\\\\n",
        "Krzysztof Kluza \\\\\n",
        "kluza@agh.edu.pl\n"
      ]
    }
  ]
}