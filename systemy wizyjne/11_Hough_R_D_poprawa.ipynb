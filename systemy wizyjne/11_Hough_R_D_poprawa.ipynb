{
 "cells": [
  {
   "cell_type": "markdown",
   "metadata": {},
   "source": [
    "# Instrukcja - Transformacja Hougha\n",
    "\n",
    "### Cel:\n",
    "- zapoznanie z transformacją Hougha dla pojedynczego punktu,\n",
    "- kilku punktów, prostych figur\n",
    "- wykorzystanie transformacji Hougha do detekcji linii prostych na rzeczywistym obrazie\n",
    "- transformacja Hougha w przestrzeni ab\n",
    "\n",
    "### Transformacja Hough'a\n",
    "\n",
    "Transformacja Hougha dla prostych jest metodą detekcji współliniowych punktów. Każda prosta może być jednoznacznie przedstawiona za pomocą dwóch parametrów. Przestrzeń tych parametrów to przestrzeń Hougha. Najczęściej wykorzystywanymi parametrami w tej metodzie są współczynniki ρ,θ\n",
    "\n",
    "opisujące równanie prostej w postaci normalnej:\n",
    "\n",
    "ρ=x⋅cos(θ)+y⋅sin(θ)\n",
    "\n",
    "gdzie: ρ - promień wodzący, θ - kąt pomiędzy ρ a osią OX.\n",
    "\n",
    "Własności transformacji Hougha:\n",
    "- prostej w przestrzeni kartezjańskiej odpowiada punkt w przestrzeni Hougha\n",
    "- pękowi prostych przechdzących przez punkt w przestrzeni kartezjańskiej odpowiada krzywa sinusoidalna w przestrzeni Hougha\n",
    "- punkty leżące na tej samej prostej (w przestrzeni kartezjańskiej) korespondują z sinusoidami przechodzącymi przez wspólny punkt w przestrzeni Hougha.\n",
    "\n",
    "Metoda wyliczania transformacji Hougha składa się z następujących kroków:\n",
    "- przez każdy badany (różny od zera) punkt obrazu prowadzony jest pęk prostych, przechodzących przez ten punkt\n",
    "- każda z tych prostych transformowana jest do przestrzeni Hougha i tworzy tam punkt o współrzędnych ρ,θ\n",
    "- w ten sposób, każdy punkt obrazu pierwotnego (pęk prostych) jest odwzorowany w sinusoidalną krzywą w przestrzeni Hougha\n",
    "\n",
    "Przestrzeń Hougha jest przestrzenią akumulacyjną tzn. punkty sinusoidalnych krzywych, wygenerowanych dla punktów obrazu pierwotnego dodają się w miejscach, w których krzywe te przecinają się. Powstałe w ten sposób (w przestrzeni Hougha) maksima odpowiadają zbiorom punktów, należących do jednej prostej. Współrzędne ρ,θ\n",
    "tego maksimum jednoznacznie określają położenie prostej na obrazie pierwotnym.\n",
    "\n",
    "### Transformacja Hougha dla małej liczby punktów.\n",
    "   1. Uruchom poniższy kod. W tablicy `im` wskaż jeden punkt, dla którego ma zostać obliczona transformata."
   ]
  },
  {
   "cell_type": "markdown",
   "metadata": {},
   "source": [
    "Poprzednio wysłałem Panu złą wersje sprawozdania. Od razu nie zauważyłem tego faktu, ponieważ miałem usunąć wszystkie otzymane wyniki by umieścić się w progach rozmiaru pliku. Po różnych próbach uruchamienia treści, kilkakrotnego przerobienia i poprawienia kodu w konsekwencji mogły wystąpić niezgodności nazw zmiennych lub funkcji za co bardzo przepraszam."
   ]
  },
  {
   "cell_type": "code",
   "execution_count": null,
   "metadata": {},
   "outputs": [],
   "source": [
    "import matplotlib.pyplot as plt\n",
    "import cv2\n",
    "import numpy as np\n",
    "from skimage.transform import hough_line, hough_line_peaks\n",
    "import os\n",
    "import copy\n",
    "\n",
    "if not os.path.exists(\"kwadraty.png\") :\n",
    "    !wget https://raw.githubusercontent.com/vision-agh/poc_sw/master/11_Hough/kwadraty.png --no-check-certificate\n",
    "if not os.path.exists(\"lab112.png\") :\n",
    "    !wget https://raw.githubusercontent.com/vision-agh/poc_sw/master/11_Hough/lab112.png --no-check-certificate\n",
    "if not os.path.exists(\"dom.png\") :\n",
    "    !wget https://raw.githubusercontent.com/vision-agh/poc_sw/master/11_Hough/dom.png --no-check-certificate\n",
    "\n",
    "im = np.zeros((64,64), dtype=np.uint8)\n",
    "\n",
    "im[18, 31] = 1\n",
    "\n",
    "fig, ax = plt.subplots()\n",
    "fig.set_size_inches(4, 4)\n",
    "ax.imshow(im, 'gray')\n",
    "ax.axis('off')\n"
   ]
  },
  {
   "cell_type": "markdown",
   "metadata": {},
   "source": [
    "3. Wykonaj transformację Hougha obazu im. Wykorzystaj funkcję *hough_line* z modułu _skimage.transform_. Funkcja zwraca: macierz H (przestrzeń Hougha) oraz dwa wektory theta i rho dla kolejnych \n",
    "4. Wyświetl przestrzeń Hougha za pomocą funkcji _plt.imshow_ (można też wykorzystać poniższą funkcję *show_hough*). Jak \"wygląda\" pojedynczy punkt w przestrzeni Hougha?"
   ]
  },
  {
   "cell_type": "code",
   "execution_count": null,
   "metadata": {},
   "outputs": [],
   "source": [
    "def show_hough(h, image):\n",
    "    fig, axes = plt.subplots(1, 2, figsize=(15, 10))\n",
    "    ax = axes.ravel()\n",
    "\n",
    "    ax[0].imshow(image, 'gray')\n",
    "    ax[0].set_title('Input image')\n",
    "    ax[0].set_axis_off()\n",
    "\n",
    "    ax[1].imshow(h, 'gray')\n",
    "    ax[1].set_title('Hough transform')\n",
    "    ax[1].set_xlabel('Angles (degrees)')\n",
    "    ax[1].set_ylabel('Distance (pixels)')\n",
    "    ax[1].axis('image')\n",
    "    \n",
    "    plt.tight_layout()\n",
    "    plt.show()"
   ]
  },
  {
   "cell_type": "code",
   "execution_count": null,
   "metadata": {},
   "outputs": [],
   "source": [
    "H, theta, ro = hough_line(im)\n",
    "\n",
    "show_hough(H, im)"
   ]
  },
  {
   "cell_type": "markdown",
   "metadata": {},
   "source": [
    "Pojedynczy punkt w przestrzeni jest reprezentowany poprzez jedną krzywą."
   ]
  },
  {
   "cell_type": "markdown",
   "metadata": {},
   "source": [
    "5. Powtórz punkty 1-4, ale tym razem klinkij dwa punkty. Jak zmienia się przestrzeń Hougha?\n",
    "6. Powtórz punkty 1-4, ale tym razem kliknij kilka punktów starając się aby były współliniowe. Zaobserwuj zmiany w przestrzeni Hougha\n",
    "7. Poeksperymentuj z różnymi układami punktów"
   ]
  },
  {
   "cell_type": "code",
   "execution_count": null,
   "metadata": {
    "scrolled": true
   },
   "outputs": [],
   "source": [
    "im2 = np.zeros((64,64), dtype=np.uint8)\n",
    "\n",
    "im2[8, 41] = 1\n",
    "im2[21, 37] = 1\n",
    "\n",
    "H2, theta2, ro2 = hough_line(im2)\n",
    "show_hough(H2, im2)"
   ]
  },
  {
   "cell_type": "markdown",
   "metadata": {},
   "source": [
    "Dodanemu punktowi odpowiada druga krzywa Hougha."
   ]
  },
  {
   "cell_type": "code",
   "execution_count": null,
   "metadata": {},
   "outputs": [],
   "source": [
    "im3 = np.zeros((64,64), dtype=np.uint8)\n",
    "\n",
    "im3[25, 10:55] = 1\n",
    "\n",
    "H3, theta3, ro3 = hough_line(im3)\n",
    "show_hough(H3, im3)"
   ]
  },
  {
   "cell_type": "markdown",
   "metadata": {},
   "source": [
    "Prostej odpowiada obszar w przestrzeni Hougha"
   ]
  },
  {
   "cell_type": "code",
   "execution_count": null,
   "metadata": {},
   "outputs": [],
   "source": [
    "im4 = np.zeros((64,64), dtype=np.uint8)\n",
    "\n",
    "im4[10:55, 25] = 1\n",
    "\n",
    "H4, theta4, ro4 = hough_line(im4)\n",
    "show_hough(H4, im4)"
   ]
  },
  {
   "cell_type": "markdown",
   "metadata": {},
   "source": [
    "Prostej pionowej odpowiada obszar, składający się z prostych, przecinających się w wspólnym punkcie środkowym (maksimum) w przestrzeni Hougha."
   ]
  },
  {
   "cell_type": "markdown",
   "metadata": {},
   "source": [
    "### Transformata Hougha dla pojedynczego obiektu\n",
    "\n",
    "W tym podpunkcie pokazane zostanie praktycznie wykorzystanie transformaty Hougha - do detekcji prostych na sztucznym rysunku.\n",
    "\n",
    "   1. Wczytaj obraz \"kwadraty.png\". Wyświetl go.\n",
    "   2. Wykonaj detekcję krawędzi jedną z metod gradientowych. Ważne aby obraz krawędzi był jak najlepszej jakości - co oznacza cienkie (nawet niekoniecznie ciągłe) krawędzie - dla tego przypadku nie powinno być trudne do uzyskania. Wyświetl obraz po detekcji krawędzi.\n",
    "   3. Wykonaj transformatę Hougha obrazu krawędziowego. Wykorzystaj funkcję *hough\\_line*.\n",
    "   4. Wyświetl macierz H. Czy widoczna jest taka liczba maksimów jakiej się spodziewamy?"
   ]
  },
  {
   "cell_type": "code",
   "execution_count": null,
   "metadata": {},
   "outputs": [],
   "source": [
    "kwad = cv2.imread('kwadraty.png', cv2.IMREAD_GRAYSCALE)\n",
    "\n",
    "plt.imshow(kwad)\n",
    "plt.xticks([]), plt.yticks([])\n",
    "plt.gray()\n",
    "plt.show()"
   ]
  },
  {
   "cell_type": "code",
   "execution_count": null,
   "metadata": {},
   "outputs": [],
   "source": [
    "structuring_element = cv2.getStructuringElement(cv2.MORPH_RECT,(2,2))\n",
    "\n",
    "kwad_grad = cv2.morphologyEx(kwad, cv2.MORPH_GRADIENT, structuring_element)\n",
    "\n",
    "plt.imshow(kwad_grad)\n",
    "plt.xticks([]), plt.yticks([])\n",
    "plt.gray()\n",
    "plt.show()"
   ]
  },
  {
   "cell_type": "code",
   "execution_count": null,
   "metadata": {},
   "outputs": [],
   "source": [
    "H_kwad, theta_kwad, ro_kwad = hough_line(kwad_grad)\n",
    "\n",
    "plt.figure(figsize=(20, 20))\n",
    "plt.imshow(H_kwad)\n",
    "plt.xticks([]), plt.yticks([])\n",
    "plt.gray()\n",
    "plt.show()"
   ]
  },
  {
   "cell_type": "markdown",
   "metadata": {},
   "source": [
    "Odpowiednio do 8 linii prostych z obrazu wejściowego, otrzymaliśmy 8 maksimów w przestrzenie Hougha."
   ]
  },
  {
   "cell_type": "markdown",
   "metadata": {},
   "source": [
    " 5. W module skimage.transform dostępna jest funkcja do automatycznej analizy przestrzeni Hougha - wyszukiwania maksimów - *hough\\_line\\_peaks*. Jako parametry przyjmuje ona wyniki funkcji *hough\\_line* (macierz H, theta i rho). Dodatkowo można podać próg powyżej którego punkt uznawany jest za maksimum (_threshold_ - domyslnie jest to połowa maksimum w przestrzeni H) oraz liczbę poszukiwanych maksimów (*num_peaks*). Funkcja zwraca współrzędne maksimów. Wykorzystaj funkcję *hough\\_line\\_peaks* do znalezienia maksimów odpowiadających krawędziom kwadratów.\n",
    " 6. Wyświetl macierz H używając konstrukcji:"
   ]
  },
  {
   "cell_type": "code",
   "execution_count": null,
   "metadata": {},
   "outputs": [],
   "source": [
    "peaks_kwad = hough_line_peaks(H_kwad, theta_kwad, ro_kwad)"
   ]
  },
  {
   "cell_type": "code",
   "execution_count": null,
   "metadata": {},
   "outputs": [],
   "source": [
    "fig,ax = plt.subplots(1)\n",
    "ax.set_aspect('equal')\n",
    "\n",
    "ax.imshow(peaks_kwad, 'gray') \n",
    "plt.plot()\n"
   ]
  },
  {
   "cell_type": "markdown",
   "metadata": {},
   "source": [
    "Taki zapis pozwoli na dołożenie annotacji (okręgów) w miejscach znalezionych maksimów. Wyrysowanie okręgu w punkcie x, y (o rozmiarze 10, w czerwonym kolorze, bez wypełnienia środka) realizuje wywołanie: \n",
    "\n",
    "**circle = plt.Circle((x, y), 10, color='r', fill=False)**\n",
    "\n",
    "natomiast dołożenie takiego okręgu do obrazu to:\n",
    "\n",
    "**ax.add_patch(circle)**\n",
    "\n",
    "Zaznacz maksima na obrazie wykorzystując rezultat funkcji *hough\\_line\\_peaks* biorąc pod uwagę, że zwraca ona kąty w radianach z przedziału od -pi/2 do pi/2, a rho z przedziału od -r/2 do r/2 gdzie r to pionowy rozmiar przestrzeni Hougha. "
   ]
  },
  {
   "cell_type": "code",
   "execution_count": null,
   "metadata": {},
   "outputs": [],
   "source": [
    "def show_hough_line_peaks(H, theta, ro):\n",
    "    peaks = hough_line_peaks(H, theta, ro)\n",
    "    \n",
    "    fig,ax = plt.subplots(1)\n",
    "    fig.set_size_inches(8, 20)\n",
    "\n",
    "    ax.set_aspect('equal')\n",
    "    ax.imshow(H, 'gray')\n",
    "    plt.plot()\n",
    "\n",
    "    heigth_hk, width_hk = np.shape(H)\n",
    "\n",
    "    for i, x, y in zip(*peaks):\n",
    "        circle = plt.Circle(((x*60)+90, y+heigth_hk/2 ), 10, color='b', fill=False)\n",
    "        ax.add_patch(circle)   \n",
    "    "
   ]
  },
  {
   "cell_type": "code",
   "execution_count": null,
   "metadata": {},
   "outputs": [],
   "source": [
    "show_hough_line_peaks(H_kwad, theta_kwad, ro_kwad)"
   ]
  },
  {
   "cell_type": "markdown",
   "metadata": {},
   "source": [
    "7. Istnieje też możliwość przeprowadzenia transformacji Hougha z użyciem biblioteki OpenCV. W bibliotece znajdują się dwie wersje funkcji wyszukującej linie proste - 'klasyczna' - _HoughLines_ oraz probabilistyczna _HoughLinesP_. Zadna z nich nie zwraca przestrzeni Hougha. Wynikiem działania pierwszej jest lista parametrów prostych (krotki zawierające rho, theta). Druga zwraca krotki 4-ro elementowe ze współrzędnymi końców odcinków wykorzystanych do wylicznia parametrów (czyli znalezienia prostej). \n",
    "8. Wyznacz linie obecne na obrazie za pomocą funkcji _HoughLines_. Wykryte linie wyrysuj na obrazie początkowym (UWAGA: wczytanym bez konwersji na graylevel). Do wyświetlania linii wykorzystaj przykładowy kod:"
   ]
  },
  {
   "cell_type": "code",
   "execution_count": null,
   "metadata": {},
   "outputs": [],
   "source": [
    "def draw_lines(img, houghLines, color = [0, 255, 0], thickness=1):\n",
    "    for line in zip(*houghLines):\n",
    "        for rho,theta in line:\n",
    "            a = np.cos(theta)\n",
    "            b = np.sin(theta)\n",
    "            x0 = a*rho\n",
    "            y0 = b*rho\n",
    "            x1 = int(x0 + 1000*(-b))\n",
    "            y1 = int(y0 + 1000*(a))\n",
    "            x2 = int(x0 - 1000*(-b))\n",
    "            y2 = int(y0 - 1000*(a))\n",
    " \n",
    "            cv2.line(img,(x1,y1),(x2,y2),color,thickness)   "
   ]
  },
  {
   "cell_type": "code",
   "execution_count": null,
   "metadata": {},
   "outputs": [],
   "source": [
    "kwad_rgb = cv2.imread('kwadraty.png')\n",
    "blurred_image = cv2.GaussianBlur(kwad, (3, 3), 0)\n",
    "edges_image = cv2.Canny(blurred_image, 50, 120)\n",
    " \n",
    "rho_resolution = 1\n",
    "theta_resolution = np.pi/180\n",
    "threshold = 55\n",
    " \n",
    "hough_lines = cv2.HoughLines(edges_image, rho_resolution , theta_resolution , threshold)\n",
    "\n",
    "hough_lines_image = np.zeros_like(kwad_rgb)\n",
    "draw_lines(hough_lines_image, hough_lines)\n",
    "original_image_detected = cv2.addWeighted(kwad_rgb, 0.9, hough_lines_image, 0.8, 0)\n",
    "\n",
    " \n",
    "\n",
    "fig, axs = plt.subplots(1, 2)\n",
    "    \n",
    "fig.set_size_inches(15, 10)\n",
    "axs[0].imshow(kwad, 'gray')\n",
    "axs[0].axis('off')\n",
    "axs[0].set_title('Obraz oryginalny',)\n",
    "    \n",
    "axs[1].imshow(original_image_detected)\n",
    "axs[1].axis('off')\n",
    "axs[1].set_title('Obraz z wykrytymi liniami')\n",
    "    \n",
    "plt.plot()"
   ]
  },
  {
   "cell_type": "markdown",
   "metadata": {},
   "source": [
    "Wyświetlanie linii nie jest ograniczone kształtami obiektów i przechodzi przez całą przestrzeń."
   ]
  },
  {
   "cell_type": "markdown",
   "metadata": {},
   "source": [
    "9. Wyznacz odcinki obecne na obrazie za pomocą funkcji _HoughLinesP_. Wykryte odcinki wyrysuj na obrazie początkowym (UWAGA: wczytanym bez konwersji na graylevel). "
   ]
  },
  {
   "cell_type": "code",
   "execution_count": null,
   "metadata": {},
   "outputs": [],
   "source": [
    "kwad_rgb = cv2.imread('kwadraty.png')\n",
    "original_image_detected_prob = copy.copy(kwad_rgb) \n",
    "blurred_image = cv2.GaussianBlur(kwad, (3, 3), 0)\n",
    "edges_image = cv2.Canny(blurred_image, 50, 120)\n",
    " \n",
    "\n",
    "\n",
    "hough_linesP = cv2.HoughLinesP(edges_image, rho = 1, theta = 1*np.pi/180, threshold = 45, minLineLength = 20, maxLineGap = 50)\n",
    "\n",
    "line_color = [0, 255, 0] \n",
    "line_thickness = 2\n",
    "for i in range(hough_linesP.shape[0]):\n",
    "    x1 = hough_linesP[i][0][0]\n",
    "    y1 = hough_linesP[i][0][1]    \n",
    "    x2 = hough_linesP[i][0][2]\n",
    "    y2 = hough_linesP[i][0][3]    \n",
    "    cv2.line(original_image_detected_prob,(x1,y1), (x2,y2), line_color, line_thickness)\n",
    "\n",
    "    \n",
    "    \n",
    "fig, axs = plt.subplots(1, 2)\n",
    "    \n",
    "fig.set_size_inches(15, 10)\n",
    "axs[0].imshow(kwad_rgb, 'gray')\n",
    "axs[0].axis('off')\n",
    "axs[0].set_title('Obraz oryginalny',)\n",
    "    \n",
    "axs[1].imshow(original_image_detected_prob)\n",
    "axs[1].axis('off')\n",
    "axs[1].set_title('Obraz z wykrytymi liniami')\n",
    "   \n",
    "plt.plot()    \n",
    "    \n"
   ]
  },
  {
   "cell_type": "markdown",
   "metadata": {},
   "source": [
    "### Transformata Hougha dla obrazu rzeczywistego.\n",
    "\n",
    "Bazując na kodzie stworzonym w punkcie B wyszukamy linie na obrazie rzeczywistym.\n",
    "   1. Wczytaj obraz \"lab112.png\". Wyświetl go.\n",
    "   2. Wykorzystując wszystkie poznane techniki przetwarzania obrazów (filtracja, przekształcenia morfologiczne, binaryzację, detekcję krawędzi) wyodrębnij krawędzie samych kwadratów - tak aby były jak najlepszej jakości (cienkie) - jednocześnie eliminując z obrazu zakłócenia.\n",
    "   3. Wykorzystaj funkcje *hough_line* i *hough_line_peaks* do detekcji linii na obrazie, a następnie np. wykorzystując kod z punktu 8 poprzedniego ustępu wyrysuj na oryginalnym obrazie znalezione linie."
   ]
  },
  {
   "cell_type": "code",
   "execution_count": null,
   "metadata": {},
   "outputs": [],
   "source": [
    "lab = cv2.imread('lab112.png')\n",
    "lab_grey = cv2.imread('lab112.png', cv2.IMREAD_GRAYSCALE)\n",
    "\n",
    "plt.imshow(lab)\n",
    "plt.xticks([]), plt.yticks([])\n",
    "plt.gray()\n",
    "plt.show()\n",
    "\n"
   ]
  },
  {
   "cell_type": "code",
   "execution_count": null,
   "metadata": {},
   "outputs": [],
   "source": [
    "blurred_lab = cv2.GaussianBlur(lab_grey, (5, 5), 0)\n",
    "lab_canny = cv2.Canny(blurred_lab, 100, 200)\n",
    "\n",
    "plt.imshow(lab_canny)\n",
    "plt.xticks([]), plt.yticks([])\n",
    "plt.gray()\n",
    "plt.show()"
   ]
  },
  {
   "cell_type": "code",
   "execution_count": null,
   "metadata": {
    "scrolled": false
   },
   "outputs": [],
   "source": [
    "H_lab, theta_lab, ro_lab = hough_line(lab_canny)\n",
    "peaks_lab = hough_line_peaks(H_lab, theta_lab, ro_lab)\n",
    "\n",
    "i, x, y = peaks_lab\n",
    "a = y.tolist()\n",
    "b = x.tolist()\n",
    "coords = np.array([[a],[b]]).T\n",
    "\n",
    "show_hough_line_peaks(H_lab, theta_lab, ro_lab)\n",
    "\n",
    "hough_lines_lab_img = np.zeros_like(lab)\n",
    "draw_lines(hough_lines_lab_img, coords, thickness=2)\n",
    "original_image_lab_detected = cv2.addWeighted(lab, 1, hough_lines_lab_img, 0.5, 0)\n",
    "\n",
    " \n",
    "fig, axs = plt.subplots(1, 2)\n",
    "    \n",
    "fig.set_size_inches(15, 10)\n",
    "axs[0].imshow(lab)\n",
    "axs[0].axis('off')\n",
    "axs[0].set_title('Obraz oryginalny')\n",
    "   \n",
    "axs[1].imshow(original_image_lab_detected)\n",
    "axs[1].axis('off')\n",
    "axs[1].set_title('Obraz z wykrytymi liniami')\n",
    "   \n",
    "plt.plot()"
   ]
  },
  {
   "cell_type": "markdown",
   "metadata": {},
   "source": [
    "4. Wczytaj obraz \"dom.png\". Wypróbuj działanie transformacji Hougha na tym obrazie z wykorzystaniem funkcji _cv2.HoughLinesP_  (oczywiście po odpowiednich przekształceniach). Postaraj się tak przygotować obraz z krawędziami i dobrać parametry aby wyrysować na oryginalnym obrazie odcinki obejmujące zarysy domu. Weź pod uwage dodatkowe parametry funkcji, takie jak:   minLineLength, maxLineGap."
   ]
  },
  {
   "cell_type": "code",
   "execution_count": null,
   "metadata": {},
   "outputs": [],
   "source": [
    "house = cv2.imread('dom.png')\n",
    "house_grey = cv2.imread('dom.png', cv2.IMREAD_GRAYSCALE)\n",
    "\n",
    "original_image_detected_prob = copy.copy(house)\n",
    "blurred_image = cv2.GaussianBlur(house_grey, (5, 5), 0)\n",
    "edges_image = cv2.Canny(blurred_image, 100, 200)\n",
    " \n",
    "\n",
    "\n",
    "hough_linesP = cv2.HoughLinesP(edges_image, rho = 1, theta = 1*np.pi/180, threshold = 10, minLineLength = 2, maxLineGap = 5)\n",
    "\n",
    "line_color = [0, 255, 0] \n",
    "line_thickness = 2\n",
    "for i in range(hough_linesP.shape[0]):\n",
    "    x1 = hough_linesP[i][0][0]\n",
    "    y1 = hough_linesP[i][0][1]    \n",
    "    x2 = hough_linesP[i][0][2]\n",
    "    y2 = hough_linesP[i][0][3]    \n",
    "    cv2.line(original_image_detected_prob,(x1,y1), (x2,y2), line_color, line_thickness)\n",
    "\n",
    "    \n",
    "    \n",
    "fig, axs = plt.subplots(1, 2)\n",
    "   \n",
    "fig.set_size_inches(15, 10)\n",
    "axs[0].imshow(house, 'gray')\n",
    "axs[0].axis('off')\n",
    "axs[0].set_title('Obraz oryginalny',)\n",
    "    \n",
    "axs[1].imshow(original_image_detected_prob)\n",
    "axs[1].axis('off')\n",
    "axs[1].set_title('Obraz z wykrytymi liniami')\n",
    "    \n",
    "plt.plot()    "
   ]
  },
  {
   "cell_type": "code",
   "execution_count": null,
   "metadata": {},
   "outputs": [],
   "source": []
  }
 ],
 "metadata": {
  "celltoolbar": "Raw Cell Format",
  "kernelspec": {
   "display_name": "Python 3",
   "language": "python",
   "name": "python3"
  },
  "language_info": {
   "codemirror_mode": {
    "name": "ipython",
    "version": 3
   },
   "file_extension": ".py",
   "mimetype": "text/x-python",
   "name": "python",
   "nbconvert_exporter": "python",
   "pygments_lexer": "ipython3",
   "version": "3.8.5"
  }
 },
 "nbformat": 4,
 "nbformat_minor": 2
}
