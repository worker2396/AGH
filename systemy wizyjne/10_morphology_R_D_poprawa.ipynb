{
 "cells": [
  {
   "cell_type": "markdown",
   "metadata": {},
   "source": [
    "# Przekształcenia morfologiczne\n",
    "\n",
    "## Cel:\n",
    "- zapoznanie z podstawowymi przekształceniami morfologicznymi – erozją, dylatacją, otwarciem, zamknięciem, transformacją trafi, nie trafi,\n",
    "- zapoznanie ze złożonymi operacjami morfologicznymi wykorzystującymi rekonstrukcję morfologiczną,\n",
    "- zapoznanie z operacjami morfologicznym dla obrazów w odcieniach szarości – erozją, dylatacją, otwarciem, zamknięciem, filtrami top-hat i bottom-hat,\n",
    "- zapoznanie z wykorzystaniem złożonych operacji morfologicznych przy rozwiązywaniu konkretnego problemu,\n",
    "- zadanie domowe: wykorzystanie morfologii do implementacji ,,gry w życie''."
   ]
  },
  {
   "cell_type": "markdown",
   "metadata": {},
   "source": [
    "## Przypomnienie teorii\n",
    "\n",
    "### Element strukturalny\n",
    "\n",
    "Element strukturalny obrazu jest to pewien wycinek obrazu (przy dyskretnej reprezentacji obrazu – pewien podzbiór jego elementów).\n",
    "Najczęściej stosowanym elementem strukturalnym jest kwadratowa maska o rozmiarze 3×3 lub 5×5. Niekiedy pożądane są maski o innym kształcie, np. zbliżonym do elipsy.\n",
    "\n",
    "### Erozja\n",
    "\n",
    "Erozja (ang. _erosion_) jest podstawowym przekształceniem morfologicznym.\n",
    "Zakładamy, że obraz wyjściowy zawiera pewien obszar (figurę) X, wyróżniający się pewną charakterystyczną cechą (np. odróżniającą się od tła jasnością).\n",
    "Figura X po wykonaniu operacji erozji to zbiór punktów centralnych wszystkich elementów strukturalnych, które w całości mieszczą się we wnętrzu obszaru X.\n",
    "Miarą stopnia erozji jest wielkość elementu strukturalnego.\n",
    "\n",
    "**Erozję** można traktować jako **filtr minimalny**, tj. z danego otoczenia piksela (określanego przez maskę) do obrazu wynikowego wybierana jest wartość minimalna.\n",
    "\n",
    "### Dylatacja\n",
    "\n",
    "Dylatacja (ang. _dilation_): Zakładamy, że obraz wejściowy zawiera obszar X wyróżniający się pewną charakterystyczną cechą (np. jasnością). Figura przekształcona przez dylatacje to zbiór punktów centralnych wszystkich elementów strukturalnych, których którykolwiek punkt mieści sie we wnętrzu obszaru X. Miarą  dylatacji jest wielkość elementu strukturalnego.\n",
    "\n",
    "**Dylatację** można traktować jako **filtr maksymalny**, tj. z danego otoczenia piksela (określanego\n",
    "przez maskę) do obrazu wynikowego wybierana jest wartość maksymalna.\n",
    "\n",
    "### Otwarcie i zamknięcie\n",
    "\n",
    "Otwarcie (ang. _opening_) polega na wykonaniu najpierw operacji erozji, a następnie dylatacji.\n",
    "\n",
    "> Otwarcie = erozja + dylatacja\n",
    "\n",
    "Zamkniecie (ang. _closing_) polega na wykonaniu najpierw operacji dylatacji, a następnie erozji.\n",
    "\n",
    "> Zamkniecie = dylatacja + erozja\n",
    "\n",
    "### Obrazy w odcieniu szarości\n",
    "\n",
    "Obrazy w odcieniu szarości – detekcja dolin i szczytów (ang. _top-hat_, _bottom-hat_):\n",
    "\n",
    "Aby wyodrębnić z obrazu lokalne ekstrema można wykorzystać zdefiniowane wcześniej przekształcenia: otwarcie i zamkniecie.\n",
    "W celu wyszukania lokalnych maksimów (szczytów) należy od wyniku otwarcia danego obrazu odjąć obraz wyjściowy.\n",
    "Analogicznie, aby wyodrębnić lokalne minima obrazu, należy dokonać podobnej operacji, z tym że pierwszą operacją bedzie zamknięcie.\n",
    "Uwaga! Należy zwrócić uwagę, że poniższe metody służą do detekcji (pokreślenia) tylko lokalnych ekstremów!"
   ]
  },
  {
   "cell_type": "markdown",
   "metadata": {},
   "source": [
    "## Podstawowe operacje morfologiczne: erozja, dylatacja, otwarcie, zamknięcie, trafi nie trafi\n",
    "\n",
    "1. Wczytaj obraz *ertka.bmp*\n",
    "2. Wykonaj operację erozji `cv2.erode`. Parametrami funkcji są obraz oraz element strukturalny. Element można stworzyć samodzielnie jako tablicę składającą się z 0 i 1 `np.ones((3,3))` lub posłużyć się funkcją `cv2.getStructuringElement`, do której należy podać kształt `cv2.MORPH_RECT` oraz wielkość elementu `(3,3)`. Na początku użyj kwadratu o rozmiarze 3 pikseli.\n",
    "3. Wyświetl obraz oryginalny oraz po wykonaniu erozji – najlepiej na wspólnym wykresie. Upewnij się, że rozumiesz, jak działa erozja.\n",
    "4. Zmień element strukturalny (inny kształt – koło, diament lub inny rozmiar). Ponownie wykonaj erozję, sprawdź rezultat działania operacji.\n",
    "5. Oprócz zmiany elementu strukturalnego na rezultat erozji można wpłynąć zwiększając liczbę iteracji (np. wykonać erozję trzykrotnie). Ustal element strukturalny na kwadrat o boku 3 piksele. Wykonaj erozję obrazu _ertka_ dwukrotnie, a następnie trzykrotnie. Zaobserwuj rezultaty. Wskazówka: warto zajrzeć do dokumentacji funkcji `erode`.\n",
    "6. Wczytaj obraz *buzka.bmp*. Dobierz element strukturalny (zdefiniuj go ręcznie jako macierz 0 i 1) w taki sposób, aby usunąć włosy o określonej orientacji (ukośnie lewo lub prawo).\n",
    "7. Uwaga: pokazane metody wpływania na rezultaty erozji wykorzystuje się identycznie dla pozostałych operacji morfologicznych – dylatacji, otwarcia i zamknięcia.\n",
    "8. Operacją odwrotną (w pewnym sensie) do erozji jest dylatacja `cv2.dilate`. Ustal element strukturalny na kwadrat o boku 3 piksele. Wykonaj dylatację obrazu _ertka_. Zapoznaj się z rezultatem działania.\n",
    "9. Na wspólnym wykresie wyświetl obraz oryginalny oraz obrazy po operacjach morfologicznych: erozja, dylatacja, otwarcie i zamkniecie. Otwarcie i zamknięcie można uzyskać za pomocą `cv2.morphologyEx(img, operacja, element_strukturalny)`, gdzie typem operacji jest `cv2.MORPH_OPEN` lub `cv2.MORPH_CLOSE`.\n",
    "10. Zmień obraz _ertka_ na _wyspa_, a następnie na _kolka_. Wykonaj na każdym cztery przedstawione operacje morfologiczne. Zaobserwuj rezultaty.\n",
    "11. Minizadanko: wykorzystując poznane operacje morfologiczne spowoduj, że na obrazie _ertka_ pozostanie tylko napis RT (bez wypustek i dziur).\n",
    "12. Niekiedy potrzebne jest wykrycie konkretnych konfiguracji pikseli na obrazie – przydaje się do tego transformacja trafi, nie trafi (ang. _hit-or-miss_). Pozwala ona wykryć na obrazie obecność elementów, które dokładnie odpowiadają masce.\n",
    "13. Wczytaj obraz *hom.bmp*. Wyświetl go. Załóżmy, że chcemy wykryć na obrazie krzyżyki 3x3. Zdefiniuj następujący element strukturalny:\n",
    "```\n",
    "[0,1,0]\n",
    "[1,1,1]\n",
    "[0,1,0]\n",
    "```\n",
    "Wykonaj transformację trafi, nie trafi – `cv2.morphologyEx(hom, cv2.MORPH_HITMISS, se1)`. Rezultat operacji wyświetl. Czy udało się zrealizować zadanie? Jeżeli pojawiają się u Państwa błędy związane z typem danych, należy obraz wejściowy przekonwertować na skalę szarości: `cv2.cvtColor(hom, cv2.COLOR_BGR2GRAY)`.\n"
   ]
  },
  {
   "cell_type": "code",
   "execution_count": null,
   "metadata": {
    "pycharm": {
     "is_executing": true
    }
   },
   "outputs": [],
   "source": [
    "import matplotlib.pyplot as plt\n",
    "import cv2\n",
    "import numpy as np\n",
    "import os\n",
    "\n",
    "if not os.path.exists(\"buzka.bmp\") :\n",
    "    !wget https://raw.githubusercontent.com/vision-agh/poc_sw/master/10_Morphology/buzka.bmp --no-check-certificate\n",
    "if not os.path.exists(\"calculator.bmp\") :\n",
    "    !wget https://raw.githubusercontent.com/vision-agh/poc_sw/master/10_Morphology/calculator.bmp --no-check-certificate\n",
    "if not os.path.exists(\"ertka.bmp\") :\n",
    "    !wget https://raw.githubusercontent.com/vision-agh/poc_sw/master/10_Morphology/ertka.bmp --no-check-certificate\n",
    "if not os.path.exists(\"ferrari.bmp\") :\n",
    "    !wget https://raw.githubusercontent.com/vision-agh/poc_sw/master/10_Morphology/ferrari.bmp --no-check-certificate\n",
    "if not os.path.exists(\"fingerprint.bmp\") :\n",
    "    !wget https://raw.githubusercontent.com/vision-agh/poc_sw/master/10_Morphology/fingerprint.bmp --no-check-certificate\n",
    "if not os.path.exists(\"hom.bmp\") :\n",
    "    !wget https://raw.githubusercontent.com/vision-agh/poc_sw/master/10_Morphology/hom.bmp --no-check-certificate\n",
    "if not os.path.exists(\"kolka.bmp\") :\n",
    "    !wget https://raw.githubusercontent.com/vision-agh/poc_sw/master/10_Morphology/kolka.bmp --no-check-certificate\n",
    "if not os.path.exists(\"kosc.bmp\") :\n",
    "    !wget https://raw.githubusercontent.com/vision-agh/poc_sw/master/10_Morphology/kosc.bmp --no-check-certificate\n",
    "if not os.path.exists(\"szkielet.bmp\") :\n",
    "    !wget https://raw.githubusercontent.com/vision-agh/poc_sw/master/10_Morphology/szkielet.bmp --no-check-certificate\n",
    "if not os.path.exists(\"text.bmp\") :\n",
    "    !wget https://raw.githubusercontent.com/vision-agh/poc_sw/master/10_Morphology/text.bmp --no-check-certificate\n",
    "if not os.path.exists(\"wyspa.bmp\") :\n",
    "    !wget https://raw.githubusercontent.com/vision-agh/poc_sw/master/10_Morphology/wyspa.bmp --no-check-certificate\n",
    "if not os.path.exists(\"rice.png\") :\n",
    "    !wget https://raw.githubusercontent.com/vision-agh/poc_sw/master/10_Morphology/rice.png --no-check-certificate"
   ]
  },
  {
   "cell_type": "code",
   "execution_count": null,
   "metadata": {},
   "outputs": [],
   "source": [
    "ertka = cv2.imread('ertka.bmp', cv2.IMREAD_GRAYSCALE)\n",
    "\n",
    "\n",
    "struct = cv2.getStructuringElement(cv2.MORPH_RECT, (3, 3))\n",
    "ertka_erode = cv2.erode(ertka, struct)\n",
    "\n",
    "\n",
    "figHist, axsHist = plt.subplots(1, 2)\n",
    "    \n",
    "figHist.set_size_inches(10, 5)\n",
    "axsHist[0].imshow(ertka, 'gray')\n",
    "axsHist[0].axis('off')\n",
    "axsHist[0].set_title('Obraz oryginalny',)\n",
    "    \n",
    "axsHist[1].imshow(ertka_erode, 'gray')\n",
    "axsHist[1].axis('off')\n",
    "axsHist[1].set_title('Erozja')\n",
    "    \n",
    "plt.plot()"
   ]
  },
  {
   "cell_type": "code",
   "execution_count": null,
   "metadata": {},
   "outputs": [],
   "source": [
    "struct_elipse = cv2.getStructuringElement(cv2.MORPH_ELLIPSE, (3, 3))\n",
    "ertka_erode_elipse = cv2.erode(ertka, struct_elipse)\n",
    "\n",
    "struct_cross = cv2.getStructuringElement(cv2.MORPH_CROSS, (3, 3))\n",
    "ertka_erode_cross = cv2.erode(ertka, struct_cross)\n",
    "\n",
    "struct_rect5x5 = cv2.getStructuringElement(cv2.MORPH_RECT, (5, 5))\n",
    "ertka_erode_rect5x5 = cv2.erode(ertka, struct_rect5x5)\n",
    "\n",
    "\n",
    "figHist, axsHist = plt.subplots(1, 4)\n",
    "   \n",
    "figHist.set_size_inches(15, 5)\n",
    "axsHist[0].imshow(ertka, 'gray')\n",
    "axsHist[0].axis('off')\n",
    "axsHist[0].set_title('Obraz oryginalny',)\n",
    "\n",
    "axsHist[1].imshow(ertka_erode_elipse, 'gray')\n",
    "axsHist[1].axis('off')\n",
    "axsHist[1].set_title('Erozja z elipsy')\n",
    "\n",
    "axsHist[2].imshow(ertka_erode_cross, 'gray')\n",
    "axsHist[2].axis('off')\n",
    "axsHist[2].set_title('Erozja z krzyża')\n",
    "\n",
    "axsHist[3].imshow(ertka_erode_rect5x5, 'gray')\n",
    "axsHist[3].axis('off')\n",
    "axsHist[3].set_title('Erozja z kwadratu')\n",
    "\n",
    "plt.plot()"
   ]
  },
  {
   "cell_type": "code",
   "execution_count": null,
   "metadata": {},
   "outputs": [],
   "source": [
    "ertka_eroded_2iter = cv2.erode(ertka, struct, iterations=2)\n",
    "\n",
    "ertka_eroded_3iter = cv2.erode(ertka, struct, iterations=3)\n",
    "\n",
    "figHist, axsHist = plt.subplots(1, 3)\n",
    "    \n",
    "figHist.set_size_inches(12, 5)\n",
    "axsHist[0].imshow(ertka, 'gray')\n",
    "axsHist[0].axis('off')\n",
    "axsHist[0].set_title('Obraz oryginalny',)\n",
    "    \n",
    "axsHist[1].imshow(ertka_eroded_2iter, 'gray')\n",
    "axsHist[1].axis('off')\n",
    "axsHist[1].set_title('Dwukrotna erozja')\n",
    "    \n",
    "axsHist[2].imshow(ertka_eroded_3iter, 'gray')\n",
    "axsHist[2].axis('off')\n",
    "axsHist[2].set_title('Trzykrotna erozja')\n",
    "    \n",
    "plt.plot()"
   ]
  },
  {
   "cell_type": "code",
   "execution_count": null,
   "metadata": {},
   "outputs": [],
   "source": [
    "buzka = cv2.imread('buzka.bmp', cv2.IMREAD_GRAYSCALE)\n",
    "\n",
    "ker1 = np.uint8(np.array([[0, 0, 1], [0, 1, 0], [1, 0, 0]]))\n",
    "buzka_eroded1 = cv2.erode(buzka, ker1)\n",
    "\n",
    "ker2 = np.uint8(np.array([[1, 0, 0], [0, 1, 0], [0, 0, 1]]))\n",
    "buzka_eroded2 = cv2.erode(buzka, ker2)\n",
    "\n",
    "\n",
    "figHist, axsHist = plt.subplots(1, 3)\n",
    "    \n",
    "figHist.set_size_inches(10, 5)\n",
    "axsHist[0].imshow(buzka, 'gray')\n",
    "axsHist[0].axis('off')\n",
    "axsHist[0].set_title('Obraz oryginalny',)\n",
    "    \n",
    "axsHist[1].imshow(buzka_eroded1, 'gray')\n",
    "axsHist[1].axis('off')\n",
    "axsHist[1].set_title('Skierowanie do lewej')\n",
    "    \n",
    "axsHist[2].imshow(buzka_eroded2, 'gray')\n",
    "axsHist[2].axis('off')\n",
    "axsHist[2].set_title('Skierowanie do prawej')\n",
    "    \n",
    "plt.plot()"
   ]
  },
  {
   "cell_type": "code",
   "execution_count": null,
   "metadata": {},
   "outputs": [],
   "source": [
    "struct = cv2.getStructuringElement(cv2.MORPH_RECT, (3, 3))\n",
    "ertka_dilate = cv2.dilate(ertka, struct)\n",
    "\n",
    "\n",
    "fig, axs = plt.subplots(1, 2)\n",
    "    \n",
    "fig.set_size_inches(10, 5)\n",
    "axs[0].imshow(ertka, 'gray')\n",
    "axs[0].axis('off')\n",
    "axs[0].set_title('Obraz oryginalny',)\n",
    "   \n",
    "axs[1].imshow(ertka_dilate, 'gray')\n",
    "axs[1].axis('off')\n",
    "axs[1].set_title('Obraz po dylatacji')\n",
    "  \n",
    "plt.plot()"
   ]
  },
  {
   "cell_type": "code",
   "execution_count": null,
   "metadata": {},
   "outputs": [],
   "source": [
    "def print_morph(img):\n",
    "    struct = cv2.getStructuringElement(cv2.MORPH_RECT, (3, 3))\n",
    "    \n",
    "    img_dilate = cv2.dilate(img, struct)\n",
    "    img_erode = cv2.erode(img, struct)\n",
    "    img_open = cv2.morphologyEx(img, cv2.MORPH_OPEN, struct)\n",
    "    img_close = cv2.morphologyEx(img, cv2.MORPH_CLOSE, struct)\n",
    "\n",
    "    fig, axs = plt.subplots(1, 5)\n",
    "    \n",
    "    fig.set_size_inches(20, 5)\n",
    "    axs[0].imshow(img, 'gray')\n",
    "    axs[0].axis('off')\n",
    "    axs[0].set_title('Obraz oryginalny',)\n",
    "    \n",
    "    axs[1].imshow(img_dilate, 'gray')\n",
    "    axs[1].axis('off')\n",
    "    axs[1].set_title('Obraz po dylatacji')\n",
    "   \n",
    "    axs[2].imshow(img_erode, 'gray')\n",
    "    axs[2].axis('off')\n",
    "    axs[2].set_title('Obraz po erozji')\n",
    "      \n",
    "    axs[3].imshow(img_open, 'gray')\n",
    "    axs[3].axis('off')\n",
    "    axs[3].set_title('Obraz po otwarciu')\n",
    "      \n",
    "    axs[4].imshow(img_close, 'gray')\n",
    "    axs[4].axis('off')\n",
    "    axs[4].set_title('Obraz po zamknięciu')\n",
    "      \n",
    "    plt.plot()"
   ]
  },
  {
   "cell_type": "code",
   "execution_count": null,
   "metadata": {},
   "outputs": [],
   "source": [
    "print_morph(ertka)"
   ]
  },
  {
   "cell_type": "code",
   "execution_count": null,
   "metadata": {},
   "outputs": [],
   "source": [
    "wyspa = cv2.imread('wyspa.bmp',0)\n",
    "kolka = cv2.imread('kolka.bmp',0)\n",
    "\n",
    "print_morph(wyspa)\n",
    "print_morph(kolka)"
   ]
  },
  {
   "cell_type": "code",
   "execution_count": null,
   "metadata": {},
   "outputs": [],
   "source": [
    "struct = cv2.getStructuringElement(cv2.MORPH_RECT, (3, 3))\n",
    "\n",
    "ertka_open = cv2.morphologyEx(ertka, cv2.MORPH_OPEN, struct)\n",
    "ertka_openclose = cv2.morphologyEx(ertka_open, cv2.MORPH_CLOSE, struct)\n",
    "\n",
    "figHist, axsHist = plt.subplots(1, 2)\n",
    " \n",
    "figHist.set_size_inches(10, 5)\n",
    "axsHist[0].imshow(ertka, 'gray')\n",
    "axsHist[0].axis('off')\n",
    "axsHist[0].set_title('Obraz oryginalny',)\n",
    " \n",
    "axsHist[1].imshow(ertka_openclose, 'gray')\n",
    "axsHist[1].axis('off')\n",
    "axsHist[1].set_title('Obraz po otwarciu i zamknięciu')\n",
    " \n",
    "\n",
    "plt.plot()"
   ]
  },
  {
   "cell_type": "markdown",
   "metadata": {},
   "source": [
    "Operacja otwarcia pozwala na eliminacje cienkich linii koloru białego z obrazu. Operacja zamknięcia na odwrót pozwala na usunięcie czarnych linii wewnątrz białych obiektów. Użycie tych dwoch operacji powoduje wygładzenie obrazu, pozostawienie na obrazie tylko dużych obiektów."
   ]
  },
  {
   "cell_type": "code",
   "execution_count": null,
   "metadata": {},
   "outputs": [],
   "source": [
    "hom = cv2.imread('hom.bmp', 0)\n",
    "\n",
    "ker_cross = np.uint8(np.array([[0, 1, 0], [1, 1, 1], [0, 1, 0]]))\n",
    "hom_hitmiss = cv2.morphologyEx(hom, cv2.MORPH_HITMISS, ker_cross)\n",
    "\n",
    "figHist, axsHist = plt.subplots(1, 2)\n",
    " \n",
    "figHist.set_size_inches(10, 5)\n",
    "axsHist[0].imshow(hom, 'gray')\n",
    "axsHist[0].axis('off')\n",
    "axsHist[0].set_title('Obraz oryginalny',)\n",
    " \n",
    "axsHist[1].imshow(hom_hitmiss, 'gray')\n",
    "axsHist[1].axis('off')\n",
    "axsHist[1].set_title('Obraz po \"Hit or miss\" wyszukującej krzyżyka')\n",
    " \n",
    "plt.plot()"
   ]
  },
  {
   "cell_type": "markdown",
   "metadata": {},
   "source": [
    " Inne operacje morfologiczne\n",
    "Do innych operacji morfologicznych należą między innymi ścienianie (ang. _thinning_), szkieletyzacja (ang. _skeletonization_), rekonstrukcja morfologiczna (ang. _morphological reconstruction_), czyszczenie brzegu (ang. _clearing border_) i uzupełnianie dziur (ang. _filling holes_). W tym rozdziale zostanie zaprezentowana rekonstrukcja morfologiczna.\n",
    "\n",
    "Rekonstrukcja morfologiczna jest operacją trójargumentową. Wymaga podania markera (obrazu, od którego zacznie się transformacja), maski (ograniczenia transformacji) oraz elementu strukturalnego. Operacja polega na wykonywaniu kroków (dopóki w dwóch kolejnych iteracjach nic się nie zmieni):\n",
    "- dylatacja obrazu markera (z danym elementem strukturalnym),\n",
    "- nowy marker = część wspólna dylatacji starego markera i maski.\n",
    "\n",
    "Trzy operacje, które wykorzystują schemat rekonstrukcji to: \n",
    "- otwarcie poprzez rekonstrukcję,\n",
    "- wypełnianie dziur,\n",
    "- czyszczenie brzegu.\n",
    "\n",
    "  Otwarcie poprzez rekonstrukcję:\n",
    "- Wczytaj obraz *text.bmp*, wyświetl go.\n",
    "- Załóżmy, że chcemy wykryć na obrazie litery, które zawierają długie pionowe fragmenty. W pierwszym podejściu stosujemy morfologiczne otwarcie z maską pionową o wysokości 51 pikseli (taka jest średnia wysokość liter na obrazie – `np.ones((51,1))`. Sprawdź rezultat takiej operacji.\n",
    "- Detekcja wprawdzie sie udała, ale otrzymujemy tylko pionowe kreski.\n",
    "- Rozwiązaniem jest rekonstrukcja – jako marker wybieramy obraz oryginalny poddany erozji. Maskę stanowi obraz oryginalny. Samodzielnie dobierz element strukturalny.\n",
    "- Zaimplementuj rekonstrukcję i porównaj efekt otwarcia i rekonstrukcji.\n"
   ]
  },
  {
   "cell_type": "code",
   "execution_count": null,
   "metadata": {},
   "outputs": [],
   "source": [
    "text = cv2.imread('text.bmp', 0)\n",
    "\n",
    "plt.imshow(text,'gray')\n",
    "plt.xticks([]), plt.yticks([])\n",
    "plt.show()"
   ]
  },
  {
   "cell_type": "code",
   "execution_count": null,
   "metadata": {},
   "outputs": [],
   "source": [
    "struct_line = np.uint8(np.array(np.ones((51,1))))\n",
    "text_open = cv2.morphologyEx(text, cv2.MORPH_OPEN, struct_line)\n",
    "\n",
    "\n",
    "fig, axs = plt.subplots(2,1)\n",
    "    \n",
    "fig.set_size_inches(20, 5)\n",
    "axs[0].imshow(text, 'gray')\n",
    "axs[0].axis('off')\n",
    "axs[0].set_title('Obraz oryginalny',)\n",
    "    \n",
    "axs[1].imshow(text_open, 'gray')\n",
    "axs[1].axis('off')\n",
    "axs[1].set_title('Obraz po otwarciu')\n",
    "    \n",
    "plt.plot()"
   ]
  },
  {
   "cell_type": "code",
   "execution_count": null,
   "metadata": {},
   "outputs": [],
   "source": [
    "def reconstruction(marker_er, mask_input ,struct):\n",
    "    while True:\n",
    "        new_marker = cv2.dilate(marker_er,struct)\n",
    "        cv2.bitwise_and(new_marker, mask_input, new_marker)\n",
    "        if (marker_er == new_marker).all():\n",
    "            return new_marker\n",
    "        marker_er = new_marker\n",
    "        \n",
    "struct_letter = cv2.getStructuringElement(cv2.MORPH_RECT,(5,51))\n",
    "marker = cv2.erode(text, struct_letter)\n",
    "mask = text\n",
    "reconstruct = reconstruction(marker,mask,struct_letter)\n",
    "\n",
    "plt.imshow(reconstruct,'gray')\n",
    "plt.title('Obraz po rekonstrukcji')\n",
    "plt.xticks([]), plt.yticks([])\n",
    "plt.show()"
   ]
  },
  {
   "cell_type": "markdown",
   "metadata": {},
   "source": [
    "Użycie operacji rekonstrukcji morfologicznej pozwoliło uzyskać całe litery w przeciwieństwie do operacji otwarcia. Elementem strukturalnym użytym do rekonstrukcji był prostokąt o bokach 5 i 51. Rozmiary elementu strukturalnego byli nieco rozszerzone od przykładowych aby uwzględnić szerokość liter."
   ]
  },
  {
   "cell_type": "markdown",
   "metadata": {},
   "source": [
    "## Operacje morfologiczne dla obrazów w skali szarości\n",
    "\n",
    "Wszystkie dotychczasowe operacje (oprócz transformacji trafi, nie trafi) mają swoje odpowiedniki dla obrazów w skali szarości. Konieczne jest tylko podanie definicji erozji i dylatacji w nieco innej formie:\n",
    "- Erozja – filtr minimalny.\n",
    "- Dylatacja – filtr maksymalny.\n",
    "\n",
    "\n",
    "1. Wczytaj obraz *ferrari.bmp* i wykonaj operacje morfologiczne: erozję i dylatację. Element strukturalny ustal na kwadrat 3×3. Oblicz też różnicę pomiędzy obrazem po dylatacji a po erozji – czyli tzw. gradient morfologiczny. Rezultaty wyświetl na wspólnym wykresie.\n",
    "2. Otwarcie to tłumienie jasnych detali na obrazie. Zamkniecie to tłumienie ciemnych detali na obrazie. Potwierdź powyższe stwierdzenia wykonując obie operacje na obrazie _ferrari_.\n",
    "3. Wykonaj operacje *top-hat* i *bottom-hat* `cv2.morphologyEx(img, cv2.MORPH_TOPHAT, strel)` oraz `cv2.morphologyEx(img, cv2.MORPH_BLACKHAT, strel)` na obrazie _ferrari_. Jakie obszary udało sie wykryć za pomocą tej operacji? Z jakich operacji składa sie filtr *top-hat*?\n",
    "4. Wczytaj obraz *rice.png* (z laboratorium o binaryzacji). Wyświetl go. Zwróć uwagę na niejednorodne oświetlenie. Wykonaj operacje *top-hat* z dużym elementem strukturalnym (np. koło o rozmiarze 10) na tym obrazie. Wynik wyświetl. Co stało się z niejednorodnością oświetlenia?"
   ]
  },
  {
   "cell_type": "code",
   "execution_count": null,
   "metadata": {
    "pycharm": {
     "name": "#%%\n"
    }
   },
   "outputs": [],
   "source": [
    "ferrari = cv2.imread(\"ferrari.bmp\",0)\n",
    "struct = cv2.getStructuringElement(cv2.MORPH_RECT,(3,3))\n",
    "ferrari_erode = cv2.erode(ferrari,struct)\n",
    "ferrari_dilate = cv2.dilate(ferrari,struct)\n",
    "gradient = np.abs(ferrari_dilate - ferrari_erode)\n",
    "\n",
    "fig,axs = plt.subplots(1,4)\n",
    "fig.set_size_inches(15,10)\n",
    "axs[0].imshow(ferrari, 'gray')\n",
    "axs[0].axis('off')\n",
    "axs[0].set_title('Obraz oryginalny',)\n",
    "    \n",
    "axs[1].imshow(ferrari_erode, 'gray')\n",
    "axs[1].axis('off')\n",
    "axs[1].set_title('erozja')\n",
    "\n",
    "axs[2].imshow(ferrari_dilate, 'gray')\n",
    "axs[2].axis('off')\n",
    "axs[2].set_title('dylatacja')\n",
    "\n",
    "axs[3].imshow(gradient, 'gray')\n",
    "axs[3].axis('off')\n",
    "axs[3].set_title('gradient')\n",
    "    \n",
    "plt.plot()"
   ]
  },
  {
   "cell_type": "code",
   "execution_count": null,
   "metadata": {},
   "outputs": [],
   "source": [
    "ferrari_tophat = cv2.morphologyEx(ferrari, cv2.MORPH_TOPHAT, struct)\n",
    "ferrari_blackhat = cv2.morphologyEx(ferrari, cv2.MORPH_BLACKHAT, struct)\n",
    "\n",
    "fig,axs = plt.subplots(1,3)\n",
    "fig.set_size_inches(15,10)\n",
    "axs[0].imshow(ferrari, 'gray')\n",
    "axs[0].axis('off')\n",
    "axs[0].set_title('Obraz oryginalny',)\n",
    "    \n",
    "axs[1].imshow(ferrari_tophat, 'gray')\n",
    "axs[1].axis('off')\n",
    "axs[1].set_title('cv2.MORPH_TOPHAT')\n",
    "\n",
    "axs[2].imshow(ferrari_blackhat, 'gray')\n",
    "axs[2].axis('off')\n",
    "axs[2].set_title('cv2.MORPH_BLACKHAT')\n"
   ]
  },
  {
   "cell_type": "markdown",
   "metadata": {},
   "source": [
    "Operacja Top-hat wykrywa jasne krawędzi, które wcześniej zostały stłumione przy pomocy operacji zamknięcia.\n",
    "Operacja Bottom-hat wyjaśniła ciemne krawędzi, które wcześniej zostały stłumione przy pomocy operacji otwarcia.\n",
    "\n",
    "Filtr Top-hat zawiera operację otwarcia obrazu, dalej obliczenie różnicy między wynikiem tego otwarcia a oryginalnym obrazem."
   ]
  },
  {
   "cell_type": "code",
   "execution_count": null,
   "metadata": {},
   "outputs": [],
   "source": [
    "big_struct = cv2.getStructuringElement(cv2.MORPH_RECT,(10,10))\n",
    "rice = cv2.imread('rice.png')\n",
    "\n",
    "rice_tophat = cv2.morphologyEx(rice, cv2.MORPH_TOPHAT, big_struct)\n",
    "\n",
    "fig,axs = plt.subplots(1,2)\n",
    "fig.set_size_inches(15,10)\n",
    "axs[0].imshow(rice, 'gray')\n",
    "axs[0].axis('off')\n",
    "axs[0].set_title('Obraz oryginalny',)\n",
    "    \n",
    "axs[1].imshow(rice_tophat, 'gray')\n",
    "axs[1].axis('off')\n",
    "axs[1].set_title('cv2.MORPH_TOPHAT')"
   ]
  },
  {
   "cell_type": "markdown",
   "metadata": {},
   "source": [
    "Tło obrazu uzyskało jednorodność, a elementy stały się wyraźniejsze dzięki bardziej kontrastowemu tłu."
   ]
  },
  {
   "cell_type": "markdown",
   "metadata": {},
   "source": [
    "## Przykład zastosowania morfologii\n",
    "\n",
    "1. Wczytaj obraz *calculator.bmp*. Wyświetl go. Zadanie do realizacji: wyizolować tekst na klawiszach kalkulatora.\n",
    "2. W pierwszym kroku usunięte zostaną poziome odbicia znajdujące się na górnej krawędzi każdego z klawiszy. Wykorzystamy fakt, że odbicie jest dłuższe niż jakikolwiek pojedynczy znak. Wykonujemy otwarcie przez rekonstrukcję (można wykorzystać kod z wcześniejszego zadania, ale tym razem mamy do czynienia z obrazem w skali szarości zamiast z binarnym – proszę się zastanowić, jaka operacja jest odpowiednikiem operacji AND?):\n",
    "  - początkowo wykonujemy erozję z elementem strukturalnym w postaci poziomej linii — `np.ones((1,71))`,\n",
    "  - następnie dokonujemy rekonstrukcji: marker – obraz po erozji, maska – obraz oryginalny,\n",
    "  - wynik operacji wyświetl. Dla porównania wyświetl wynik klasycznego otwarcia z takim samym elementem strukturalnym. W czym otwarcie przez rekonstrukcję jest lepsze od klasycznego?\n",
    "3. W poprzednim kroku (tj. w wyniku otwarcia przez rekonstrukcję) uzyskaliśmy obraz tła. Należy go teraz odjąć od obrazu oryginalnego. Ten rodzaj operacji można nazwać *top-hat* poprzez rekonstrukcję. Wynik wyświetl. Dla porównania wyświetl wynik klasycznej operacji *top-hat* – różnicy miedzy obrazem oryginalnym a obrazem po klasycznym otwarciu.\n",
    "4. W podobny sposób należy zlikwidować odblaski pionowe:\n",
    "  - erozja z elementem strukturalnym w postaci poziomej linii – `np.ones((1,11))` – zostaną zachowane wszystkie znaki (bo prawie wszystkie są szersze). Uwaga. Operacje wykonujemy na uzyskanym w kroku 3 rezultacie odjęcia od obrazu oryginalnego, obrazu po rekonstrukcji.\n",
    "  - rekonstrukcja: marker – obraz po erozji, maska – obraz z punktu 3 (różnica oryginalnego i tła),\n",
    "  - wynik wyświetl.\n",
    "5. Rezultat jest niemal satysfakcjonujący, ale wystąpił problem z cienkimi pionowymi elementami napisów – np. I na klawiszu ASIN. Wykorzystując fakt, że usunięte znaki znajdują się w bezpośrednim sąsiedztwie istniejących znaków wykonujemy następujące operacje:\n",
    "  - dylatacja z elementem `np.ones((1,21))`,\n",
    "  - rekonstrukcja z markerem w postaci – minimum(obraz po dylatacji z punktu powyżej, obraz uzyskany w punkcie 3, tj. różnica oryginalnego i tła) oraz maską – obraz z pkt. 3.\n",
    "6. Rezultat wyświetl. Czy za pomocą zaproponowanych operacji udało się uzyskać zamierzony efekt – ekstrakcję napisów?\n"
   ]
  },
  {
   "cell_type": "code",
   "execution_count": null,
   "metadata": {},
   "outputs": [],
   "source": [
    "calc = cv2.imread('calculator.bmp',0)\n",
    "plt.imshow(calc,'gray')\n",
    "plt.title('Obraz oryginalny')\n",
    "#plt.xticks([]), plt.yticks([])"
   ]
  },
  {
   "cell_type": "code",
   "execution_count": null,
   "metadata": {},
   "outputs": [],
   "source": [
    "def gray_reconstruction(marker_er, mask_input, struct):\n",
    "    while True:\n",
    "        org_marker = marker_er\n",
    "        new_mark = cv2.dilate(marker_er, struct)\n",
    "        marker_er = np.min((new_mark, mask_input), axis=0)\n",
    "        if (org_marker == marker_er).all():\n",
    "            break\n",
    "    return marker_er"
   ]
  },
  {
   "cell_type": "code",
   "execution_count": null,
   "metadata": {},
   "outputs": [],
   "source": [
    "line = cv2.getStructuringElement(cv2.MORPH_RECT, (71, 1))\n",
    "calc_erode = cv2.erode(calc, line)\n",
    "struct_calc = cv2.getStructuringElement(cv2.MORPH_RECT, (71, 1))\n",
    "reconstructed_calc = gray_reconstruction(calc_erode,calc,struct_calc)\n",
    "opened_calc = cv2.morphologyEx(calc, cv2.MORPH_OPEN, struct_calc)"
   ]
  },
  {
   "cell_type": "code",
   "execution_count": null,
   "metadata": {},
   "outputs": [],
   "source": [
    "fig, axs = plt.subplots(2,1)\n",
    "    \n",
    "fig.set_size_inches(20, 13)\n",
    "axs[0].imshow(reconstructed_calc, 'gray')\n",
    "axs[0].axis('off')\n",
    "axs[0].set_title('Obraz rekonstruowany')\n",
    "    \n",
    "axs[1].imshow(opened_calc, 'gray')\n",
    "axs[1].axis('off')\n",
    "axs[1].set_title('Obraz po otwarciu')\n",
    "    \n",
    "plt.plot()"
   ]
  },
  {
   "cell_type": "code",
   "execution_count": null,
   "metadata": {},
   "outputs": [],
   "source": [
    "calc_tophat = np.abs(calc - reconstructed_calc)\n",
    "plt.imshow(calc_tophat,'gray')"
   ]
  },
  {
   "cell_type": "code",
   "execution_count": null,
   "metadata": {},
   "outputs": [],
   "source": [
    "calc_tophat_classic = np.abs(calc - opened_calc)\n",
    "plt.imshow(calc_tophat_classic,'gray')"
   ]
  },
  {
   "cell_type": "code",
   "execution_count": null,
   "metadata": {},
   "outputs": [],
   "source": [
    "vert = cv2.getStructuringElement(cv2.MORPH_RECT, (1, 11))\n",
    "calc_vert_erode = cv2.erode(calc_tophat, vert)\n",
    "calc_tophat_II = gray_reconstruction(calc_vert_erode,calc_tophat,struct)"
   ]
  },
  {
   "cell_type": "code",
   "execution_count": null,
   "metadata": {},
   "outputs": [],
   "source": [
    "plt.imshow(calc_tophat_II,'gray')"
   ]
  },
  {
   "cell_type": "code",
   "execution_count": null,
   "metadata": {},
   "outputs": [],
   "source": [
    "dilate_struct = np.ones((1,21))\n",
    "calc_dilated = cv2.dilate(calc_tophat_II,dilate_struct)\n",
    "reconstructed_dilated_calc = gray_reconstruction(calc_dilated,calc_tophat,struct)\n",
    "plt.imshow(reconstructed_dilated_calc,'gray')"
   ]
  },
  {
   "cell_type": "code",
   "execution_count": null,
   "metadata": {},
   "outputs": [],
   "source": [
    "fig, axs = plt.subplots(1, 2)\n",
    "\n",
    "fig.set_size_inches(15, 5)\n",
    "axs[0].imshow(calc, 'gray')\n",
    "axs[0].axis('off')\n",
    "axs[0].set_title('Obraz oryginalny')\n",
    "    \n",
    "axs[1].imshow(reconstructed_dilated_calc, 'gray')\n",
    "axs[1].axis('off')\n",
    "axs[1].set_title('Obraz po ekstrakcji napisów')\n",
    "    \n",
    "plt.plot()"
   ]
  },
  {
   "cell_type": "markdown",
   "metadata": {},
   "source": [
    "W wyniku przeprowadzenia operacji osiągnieliśmy pewny poziom ekstrakcji napisów umieszczonych na obrazie."
   ]
  }
 ],
 "metadata": {
  "celltoolbar": "Raw Cell Format",
  "kernelspec": {
   "display_name": "Python 3",
   "language": "python",
   "name": "python3"
  },
  "language_info": {
   "codemirror_mode": {
    "name": "ipython",
    "version": 3
   },
   "file_extension": ".py",
   "mimetype": "text/x-python",
   "name": "python",
   "nbconvert_exporter": "python",
   "pygments_lexer": "ipython3",
   "version": "3.8.5"
  }
 },
 "nbformat": 4,
 "nbformat_minor": 4
}
