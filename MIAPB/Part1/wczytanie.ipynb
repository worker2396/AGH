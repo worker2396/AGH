{
 "cells": [
  {
   "cell_type": "code",
   "execution_count": 2,
   "metadata": {},
   "outputs": [],
   "source": [
    "import pandas as pd"
   ]
  },
  {
   "cell_type": "code",
   "execution_count": 136,
   "metadata": {},
   "outputs": [
    {
     "name": "stdout",
     "output_type": "stream",
     "text": [
      "{1: ['a', 'b', 'c', 'd', 'e', 'g'], 2: ['a', 'b', 'c', 'd', 'f', 'g'], 3: ['a', 'c', 'b', 'd', 'e', 'g'], 4: ['a', 'c', 'b', 'd', 'f', 'g'], 5: ['a', 'b', 'c', 'd', 'e', 'g', 'a', 'c', 'b', 'd', 'f', 'g'], 6: ['a', 'b', 'c', 'd', 'f', 'g', 'a', 'b', 'c', 'd', 'f', 'g'], 7: ['a', 'c', 'b', 'd', 'e', 'g', 'a', 'b', 'c', 'd', 'e', 'g'], 8: ['a', 'c', 'b', 'd', 'f', 'g', 'a', 'b', 'c', 'd', 'e', 'g'], 9: ['a', 'b', 'c', 'd', 'f', 'g', 'a', 'c', 'b', 'd', 'e', 'g']}\n"
     ]
    }
   ],
   "source": [
    "df = pd.read_csv('A4.csv')\n",
    "data = {}\n",
    "for case in df['Case ID']:\n",
    "    if help == case: \n",
    "        continue\n",
    "    df1 = df.loc[df['Case ID'] == case]\n",
    "    df1 = df1[\"Activity\"].values.tolist()\n",
    "    help = case\n",
    "    data[case] = df1\n",
    "    \n",
    "print(data)"
   ]
  },
  {
   "cell_type": "code",
   "execution_count": null,
   "metadata": {},
   "outputs": [],
   "source": []
  }
 ],
 "metadata": {
  "interpreter": {
   "hash": "9f82c44a5308b79974d96aa0a5d50e7308c5ca293a7400c9a8806a7d74a3a2d0"
  },
  "kernelspec": {
   "display_name": "Python 3.9.10 ('Modelowanie')",
   "language": "python",
   "name": "python3"
  },
  "language_info": {
   "codemirror_mode": {
    "name": "ipython",
    "version": 3
   },
   "file_extension": ".py",
   "mimetype": "text/x-python",
   "name": "python",
   "nbconvert_exporter": "python",
   "pygments_lexer": "ipython3",
   "version": "3.9.10"
  },
  "orig_nbformat": 4
 },
 "nbformat": 4,
 "nbformat_minor": 2
}
