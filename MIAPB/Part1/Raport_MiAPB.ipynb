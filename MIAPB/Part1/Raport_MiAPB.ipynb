{
 "cells": [
  {
   "cell_type": "markdown",
   "metadata": {},
   "source": [
    "## Raport do ćwiczenia realizującego część I z przedmiotu MiAPB\n",
    "\n",
    "24.03.2022\n",
    "\n",
    "Autorzy: Roman Dembrovskyi, Filim Żmijewski"
   ]
  },
  {
   "cell_type": "markdown",
   "metadata": {
    "id": "jBoGAhEChlE5"
   },
   "source": [
    "## Ćwiczenia \n",
    "\n",
    "1. Zmodyfikuj etykiety zadań w modelu, tak by dla każdego zadania oprócz nazwy wyświetlana była także liczba wystąpień odpowiadającego mu zdarzenia w logu. \n",
    "Dodaj opcję filtrowania (po zdarzeniach lub przepływach) w zależności od określonych progów, aby pokazać lub ukryć zadania lub przepływy zgodnie z wybranym progiem. Zaprezentuj modele dla wybranych progów np. 420 dla przepływów, 700 dla zdarzeń (osobno i razem). \n"
   ]
  },
  {
   "cell_type": "code",
   "execution_count": null,
   "metadata": {},
   "outputs": [],
   "source": [
    "#modyfikacja etykiet \n",
    " for event, succesors in w_net.items():\n",
    "  value = ev_counter[event]\n",
    "\n",
    "  if float(color_min-color_max) == 0:\n",
    "    color = int(80)\n",
    "  else:\n",
    "    color = int(float(color_min-value)/float(color_min-color_max)*100.00)\n",
    "    \n",
    "  my_color = \"#ff9933\"+str(hex(color))[2:]\n",
    "  G.add_node(event, style=\"rounded,filled\", fillcolor=my_color, label=f'{event} - {value}')\n",
    "  for succesor, cnt in succesors.items():\n",
    "    if float(color_min-color_max) == 0:\n",
    "      G.add_edge(event, succesor, penwidth=4*cnt/10000, label=cnt) #dodanie wyświetlenia liczby wystąpień w postaci cnt\n",
    "    else:\n",
    "      G.add_edge(event, succesor, penwidth=4*cnt/(trace_max-trace_min)+0.1, label=cnt) #dodanie wyświetlenia liczby wystąpień w postaci cnt\n",
    " G.add_node(\"end\", shape=\"circle\", label=\"\", penwidth='3')\n",
    " for ev_end in ev_end_set:\n",
    "   G.add_edge(ev_end, \"end\")"
   ]
  },
  {
   "cell_type": "code",
   "execution_count": null,
   "metadata": {},
   "outputs": [],
   "source": [
    "#Event filtering\n",
    "ev_counter = dfs.Activity.value_counts()\n",
    "\n",
    "def threshold_filter(threshold, counter_dict):\n",
    "  for event, count in counter_dict.items():\n",
    "    if count < threshold:\n",
    "      print(event)\n",
    "      print(count)\n",
    "      counter_dict.pop(event)\n",
    "      dfs.drop(dfs[dfs['Activity'] == event].index, inplace=True)\n",
    "\n",
    "\n",
    "threshold_filter(filter1, ev_counter)\n",
    "ev_counter = dfs.Activity.value_counts()\n",
    "dfs.Activity.value_counts()\n",
    "\n",
    "#Trace filtering\n",
    "def trace_filter(traceNO, trace_counter):\n",
    "  for count in trace_counter:\n",
    "    if count < traceNO:\n",
    "      dfs.drop(dfs[dfs['count'] == count].index, inplace=True)\n",
    "\n",
    "trace_filter(filter2, dfs['count'])\n",
    "dfs"
   ]
  },
  {
   "cell_type": "code",
   "execution_count": 1,
   "metadata": {},
   "outputs": [
    {
     "name": "stdout",
     "output_type": "stream",
     "text": [
      "filtering events; threshold = 700\n"
     ]
    },
    {
     "data": {
      "text/html": [
       "<img src=\"filter_700.png\"/>"
      ],
      "text/plain": [
       "<IPython.core.display.Image object>"
      ]
     },
     "execution_count": 1,
     "metadata": {},
     "output_type": "execute_result"
    }
   ],
   "source": [
    "from IPython.display import Image\n",
    "print('filtering events; threshold = 700')\n",
    "Image(url=\"filter_700.png\")\n"
   ]
  },
  {
   "cell_type": "code",
   "execution_count": 2,
   "metadata": {},
   "outputs": [
    {
     "name": "stdout",
     "output_type": "stream",
     "text": [
      "filtering events and traces; threshold = 700;420 respectively\n"
     ]
    },
    {
     "data": {
      "text/html": [
       "<img src=\"filter_700_420.png\"/>"
      ],
      "text/plain": [
       "<IPython.core.display.Image object>"
      ]
     },
     "execution_count": 2,
     "metadata": {},
     "output_type": "execute_result"
    }
   ],
   "source": [
    "from IPython.display import Image\n",
    "print('filtering events and traces; threshold = 700;420 respectively')\n",
    "Image(url=\"filter_700_420.png\")"
   ]
  },
  {
   "cell_type": "markdown",
   "metadata": {},
   "source": [
    "\n",
    "2. Dodaj możliwość ustawiania progów przez użytkownika (poprzez podanie liczby lub użycie suwaka z `ipywidgets`) i wyświetlania przefiltrowanego modelu. Przetestuj jego działanie na różnych progach, aby określić, czy model wygląda prawidłowo, w szczególności, czy jakieś zdania nie zostają odczepione od modelu lub nie są prawidłowo połączone z modelem, np. jeśli wcześniej zadanie występowało pomiędzy innymi zadaniami nie należy filtrować wszystkich przepływów, nawet jeśli są poniżej progu.\n"
   ]
  },
  {
   "cell_type": "code",
   "execution_count": null,
   "metadata": {},
   "outputs": [],
   "source": [
    "#sterowanie progami poprzez UI suwaków\n",
    "slider1 = widgets.IntSlider(\n",
    "    value=1000,\n",
    "    min=350,\n",
    "    max=1400,\n",
    "    step=1,\n",
    "    description='Filter by tasks:',\n",
    "    readout_format='d'\n",
    ")\n",
    "\n",
    "slider2 = widgets.IntSlider(\n",
    "    value=300,\n",
    "    min=0,\n",
    "    max=500,\n",
    "    step=1,\n",
    "    description='Filter by trace:',\n",
    "    readout_format='d'\n",
    ")\n"
   ]
  },
  {
   "cell_type": "code",
   "execution_count": null,
   "metadata": {},
   "outputs": [],
   "source": [
    "display(slider1)\n",
    "print(slider1.value)\n",
    "filter1 = slider1.value"
   ]
  },
  {
   "cell_type": "code",
   "execution_count": null,
   "metadata": {},
   "outputs": [],
   "source": [
    "display(slider2)\n",
    "print(slider2.value)\n",
    "filter2 = slider2.value"
   ]
  },
  {
   "cell_type": "code",
   "execution_count": 3,
   "metadata": {},
   "outputs": [
    {
     "name": "stdout",
     "output_type": "stream",
     "text": [
      "filtering events and traces; threshold = 1129;0 respectively\n"
     ]
    },
    {
     "data": {
      "text/html": [
       "<img src=\"filter_1129_0.png\"/>"
      ],
      "text/plain": [
       "<IPython.core.display.Image object>"
      ]
     },
     "execution_count": 3,
     "metadata": {},
     "output_type": "execute_result"
    }
   ],
   "source": [
    "print('filtering events and traces; threshold = 1129;0 respectively')\n",
    "Image(url=\"filter_1129_0.png\")"
   ]
  },
  {
   "cell_type": "markdown",
   "metadata": {},
   "source": [
    "3. Zmodyfikuj progowanie, tak aby w takim wypadku zachować najlepszy przepływ, aby zadanie było połączone z pozostałymi co najmniej jednym wchodzącym i co najmniej jednym wychodzącym przepływem. Zaprezentuj modele po prostej filtracji i porównaj je z modelami po poprawionej filtracji."
   ]
  },
  {
   "cell_type": "code",
   "execution_count": null,
   "metadata": {},
   "outputs": [],
   "source": [
    "#kod, odpowiadający za zachowanie najlepszego przepływu\n",
    "for key, value in w_net.items():\n",
    "    cnt_dict = dict(value)\n",
    "    if len(cnt_dict) > 1:\n",
    "        order = list(cnt_dict.keys())\n",
    "        order.pop(0)\n",
    "        for key2 in order:\n",
    "            if cnt_dict[key2] < filter2:\n",
    "                cnt_dict.pop(key2)\n",
    "    value = Counter(cnt_dict)\n",
    "    print(key,\":\",value)\n",
    "    \n",
    "    w_net[key] = value"
   ]
  },
  {
   "cell_type": "code",
   "execution_count": 4,
   "metadata": {},
   "outputs": [
    {
     "name": "stdout",
     "output_type": "stream",
     "text": [
      "old trace filtering; threshold = 1000;300 respectively\n"
     ]
    },
    {
     "data": {
      "text/html": [
       "<img src=\"filter_100_300.png\"/>"
      ],
      "text/plain": [
       "<IPython.core.display.Image object>"
      ]
     },
     "execution_count": 4,
     "metadata": {},
     "output_type": "execute_result"
    }
   ],
   "source": [
    "print('old trace filtering; threshold = 1000;300 respectively')\n",
    "Image(url=\"filter_100_300.png\")"
   ]
  },
  {
   "cell_type": "code",
   "execution_count": 8,
   "metadata": {},
   "outputs": [
    {
     "name": "stdout",
     "output_type": "stream",
     "text": [
      "new trace filtering; threshold = 1000;300 respectively\n"
     ]
    },
    {
     "data": {
      "text/html": [
       "<img src=\"new_1000_300.png\"/>"
      ],
      "text/plain": [
       "<IPython.core.display.Image object>"
      ]
     },
     "execution_count": 8,
     "metadata": {},
     "output_type": "execute_result"
    }
   ],
   "source": [
    "print('new trace filtering; threshold = 1000;300 respectively')\n",
    "Image(url=\"new_1000_300.png\")\n"
   ]
  },
  {
   "cell_type": "code",
   "execution_count": 10,
   "metadata": {},
   "outputs": [
    {
     "name": "stdout",
     "output_type": "stream",
     "text": [
      "new trace filtering for comparising; threshold = 1000;560 respectively\n"
     ]
    },
    {
     "data": {
      "text/html": [
       "<img src=\"new_1000_560.png\"/>"
      ],
      "text/plain": [
       "<IPython.core.display.Image object>"
      ]
     },
     "execution_count": 10,
     "metadata": {},
     "output_type": "execute_result"
    }
   ],
   "source": [
    "print('new trace filtering for comparising; threshold = 1000;560 respectively')\n",
    "Image(url=\"new_1000_560.png\")"
   ]
  },
  {
   "cell_type": "markdown",
   "metadata": {},
   "source": [
    "Przy prostym filtorowaniu w przypadku usunięcia wszystkich przejść jednego ze zdarzeń występował błąd indeksacji."
   ]
  },
  {
   "cell_type": "markdown",
   "metadata": {},
   "source": [
    "4. Dodaj perspektywę wydajności, tzn. oblicz średni czas trwania i pokoloruj zadania zgodnie z czasem ich trwania, a przepływy odpowiedniej grubości.\n",
    "\n"
   ]
  },
  {
   "cell_type": "code",
   "execution_count": null,
   "metadata": {},
   "outputs": [],
   "source": [
    "trace_counts = sorted(chain(*[c.values() for c in w_net.values()]))\n",
    "trace_min = trace_counts[0]\n",
    "trace_max = trace_counts[-1]\n",
    "color_min = avgTime.min()\n",
    "color_max = avgTime.max()\n",
    "\n",
    "G = pgv.AGraph(strict= False, directed=True)\n",
    " G.graph_attr['rankdir'] = 'LR'\n",
    " G.node_attr['shape'] = 'Mrecord'\n",
    "\n",
    " G.add_node(\"start\", shape=\"circle\", label=\"\")\n",
    " for ev_start in ev_start_set:\n",
    "   G.add_edge(\"start\", ev_start)\n",
    "\n",
    " for event, succesors in w_net.items():\n",
    "  value = avgTime[event]\n",
    "\n",
    "  if float(color_min-color_max) == 0:\n",
    "    color = int(50)\n",
    "  else:\n",
    "    color = int(float(color_min-value)/float(color_min-color_max)*100.00)\n",
    "    \n",
    "  my_color = \"#ff9933\"+str(hex(color))[2:]\n",
    "  G.add_node(event, style=\"rounded,filled\", fillcolor=my_color, label=f'{event} - {value}')\n",
    "  for succesor, cnt in succesors.items():\n",
    "    if float(trace_max-trace_min) == 0:\n",
    "      G.add_edge(event, succesor, penwidth=4*cnt/10000, label=cnt)\n",
    "    else:\n",
    "      G.add_edge(event, succesor, penwidth=4*cnt/(trace_max-trace_min)+0.1, label=cnt)\n",
    " G.add_node(\"end\", shape=\"circle\", label=\"\", penwidth='3')\n",
    " for ev_end in ev_end_set:\n",
    "   G.add_edge(ev_end, \"end\")\n",
    "\n",
    " G.draw('simple_heuristic_net_with_events.png', prog='dot')\n",
    " display(Image('simple_heuristic_net_with_events.png'))"
   ]
  },
  {
   "cell_type": "code",
   "execution_count": 11,
   "metadata": {},
   "outputs": [
    {
     "name": "stdout",
     "output_type": "stream",
     "text": [
      "productivity coloring; threshold = 700;420 respectively\n"
     ]
    },
    {
     "data": {
      "text/html": [
       "<img src=\"time_700_420.png\"/>"
      ],
      "text/plain": [
       "<IPython.core.display.Image object>"
      ]
     },
     "execution_count": 11,
     "metadata": {},
     "output_type": "execute_result"
    }
   ],
   "source": [
    "print('productivity coloring; threshold = 700;420 respectively')\n",
    "Image(url=\"time_700_420.png\")"
   ]
  },
  {
   "cell_type": "markdown",
   "metadata": {},
   "source": [
    "5. Na podstawie obserwacji otrzymanego modelu, jakie wnioski można wyciągnąć z odkrytego procesu naprawy telefonów? Pomyśl o kilku wnioskach wynikających z obserwacji modelu i dotyczących odkrytego procesu, najlepiej takich, które nie są oczywiste, czy ogólne (dotyczące dowolnych modeli procesów).  \n",
    "\n"
   ]
  },
  {
   "cell_type": "markdown",
   "metadata": {},
   "source": [
    "## Wnioski:\n",
    "Na podstawie generowanych modeli warto jest zauważyć, iż filtrowanie pozwala na dokładną obserwację wystepujących zjawisk z pominięciem kolejnych przepływów lub zdarzeń. Wraz ze zmniejszeniem ilości zdarzeń zmienia się ilość i wygląd przepływów, pozwala to na analize potencjalnych sytuacji. Dla różnych modeli możemy zaobserwować, iż pomimo wprowadzanych modyfikacji każde ze zdarzeń posiada conajmniej jedno wejście oraz wyjście. Analizując poszczególne progi dla posiadanych danych możemy zauważyć, iż w badanym procesie znajdują się zdarzenia, które muszą wystąpić zawsze jeżeli oczekujemy modelu skłądającego się z więcej niż jednego zdarzenia, pomijając start i stop."
   ]
  },
  {
   "cell_type": "markdown",
   "metadata": {},
   "source": [
    "6. (*nadobowiązkowe*) Istnieją biblioteki do animowania grafów np. `GraphvizAnim`. Przy użyciu tego typu biblioteki można pokusić się o wyświetlenie animacji, jak przebiegał proces wg logu (podświetlając odpowiednie elementy). Jak może wyglądać bardzo zaawansowana animacja takiego modelu można zobaczyć w komercyjnym narzędziu [Disco](https://fluxicon.com/disco/).\n",
    "\n",
    "Zadania mogą być realizowane w parach, natomiast w sprawozdaniu należy podać wtedy imiona i nazwiska osób z pary oraz każda osoba powinna wysłać zadanie/sprawozdanie przez system MS Teams osobno. \n",
    "\n",
    "W sprawozdaniu należy umieścić odpowiednie krótkie opisy z realizacji poszczególnych punktów, zrzuty ekranu oraz kod źródłowy (istotne fragmenty kodu ze zmianami). \n",
    "\n",
    "Sprawozdanie z wykonanych ćwiczeń należy przesłać przez platformę MS Teams do 24.03.2022 w postaci:\n",
    "  - pdf z raportem o wykonaniu ćwiczeń,\n",
    "  - ipynb z wykonanymi ćwiczeniami (pdf oraz ipynb).\n",
    "  "
   ]
  }
 ],
 "metadata": {
  "interpreter": {
   "hash": "ba8e6b9f8d9a1b31e6854542b71e0d0aef15a4a73398eeb312b5c41b07f49842"
  },
  "kernelspec": {
   "display_name": "Python 3.8.12",
   "language": "python",
   "name": "python3"
  },
  "language_info": {
   "codemirror_mode": {
    "name": "ipython",
    "version": 3
   },
   "file_extension": ".py",
   "mimetype": "text/x-python",
   "name": "python",
   "nbconvert_exporter": "python",
   "pygments_lexer": "ipython3",
   "version": "3.8.12"
  },
  "orig_nbformat": 4
 },
 "nbformat": 4,
 "nbformat_minor": 2
}
