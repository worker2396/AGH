{
 "cells": [
  {
   "cell_type": "markdown",
   "metadata": {},
   "source": [
    "## Raport do ćwiczenia realizującego część I z przedmiotu MiAPB\n",
    "\n",
    "24.03.2022\n",
    "\n",
    "Autorzy: Roman Dembrovskyi, Filim Żmijewski"
   ]
  },
  {
   "cell_type": "markdown",
   "metadata": {
    "id": "jBoGAhEChlE5"
   },
   "source": [
    "## Ćwiczenia \n",
    "\n",
    "1. Zmodyfikuj etykiety zadań w modelu, tak by dla każdego zadania oprócz nazwy wyświetlana była także liczba wystąpień odpowiadającego mu zdarzenia w logu. \n",
    "Dodaj opcję filtrowania (po zdarzeniach lub przepływach) w zależności od określonych progów, aby pokazać lub ukryć zadania lub przepływy zgodnie z wybranym progiem. Zaprezentuj modele dla wybranych progów np. 420 dla przepływów, 700 dla zdarzeń (osobno i razem). \n"
   ]
  },
  {
   "cell_type": "markdown",
   "metadata": {},
   "source": []
  },
  {
   "cell_type": "markdown",
   "metadata": {},
   "source": [
    "\n",
    "2. Dodaj możliwość ustawiania progów przez użytkownika (poprzez podanie liczby lub użycie suwaka z `ipywidgets`) i wyświetlania przefiltrowanego modelu. Przetestuj jego działanie na różnych progach, aby określić, czy model wygląda prawidłowo, w szczególności, czy jakieś zdania nie zostają odczepione od modelu lub nie są prawidłowo połączone z modelem, np. jeśli wcześniej zadanie występowało pomiędzy innymi zadaniami nie należy filtrować wszystkich przepływów, nawet jeśli są poniżej progu.\n",
    "\n",
    "3. Zmodyfikuj progowanie, tak aby w takim wypadku zachować najlepszy przepływ, aby zadanie było połączone z pozostałymi co najmniej jednym wchodzącym i co najmniej jednym wychodzącym przepływem. Zaprezentuj modele po prostej filtracji i porównaj je z modelami po poprawionej filtracji.\n",
    "\n",
    "4. Dodaj perspektywę wydajności, tzn. oblicz średni czas trwania i pokoloruj zadania zgodnie z czasem ich trwania, a przepływy odpowiedniej grubości.\n",
    "\n",
    "5. Na podstawie obserwacji otrzymanego modelu, jakie wnioski można wyciągnąć z odkrytego procesu naprawy telefonów? Pomyśl o kilku wnioskach wynikających z obserwacji modelu i dotyczących odkrytego procesu, najlepiej takich, które nie są oczywiste, czy ogólne (dotyczące dowolnych modeli procesów).  \n",
    "\n",
    "6. (*nadobowiązkowe*) Istnieją biblioteki do animowania grafów np. `GraphvizAnim`. Przy użyciu tego typu biblioteki można pokusić się o wyświetlenie animacji, jak przebiegał proces wg logu (podświetlając odpowiednie elementy). Jak może wyglądać bardzo zaawansowana animacja takiego modelu można zobaczyć w komercyjnym narzędziu [Disco](https://fluxicon.com/disco/).\n",
    "\n",
    "Zadania mogą być realizowane w parach, natomiast w sprawozdaniu należy podać wtedy imiona i nazwiska osób z pary oraz każda osoba powinna wysłać zadanie/sprawozdanie przez system MS Teams osobno. \n",
    "\n",
    "W sprawozdaniu należy umieścić odpowiednie krótkie opisy z realizacji poszczególnych punktów, zrzuty ekranu oraz kod źródłowy (istotne fragmenty kodu ze zmianami). \n",
    "\n",
    "Sprawozdanie z wykonanych ćwiczeń należy przesłać przez platformę MS Teams do 24.03.2022 w postaci:\n",
    "  - pdf z raportem o wykonaniu ćwiczeń,\n",
    "  - ipynb z wykonanymi ćwiczeniami (pdf oraz ipynb).\n"
   ]
  }
 ],
 "metadata": {
  "language_info": {
   "name": "python"
  },
  "orig_nbformat": 4
 },
 "nbformat": 4,
 "nbformat_minor": 2
}
