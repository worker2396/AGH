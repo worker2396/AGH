{
  "cells": [
    {
      "cell_type": "markdown",
      "metadata": {
        "colab_type": "text",
        "id": "view-in-github"
      },
      "source": [
        "<a href=\"https://colab.research.google.com/github/worker2396/uni/blob/main/Copy_of_Czesc1_2022_Odkrywanie_modeli.ipynb\" target=\"_parent\"><img src=\"https://colab.research.google.com/assets/colab-badge.svg\" alt=\"Open In Colab\"/></a>"
      ]
    },
    {
      "cell_type": "markdown",
      "metadata": {
        "id": "8NnZ8lDR1n-k"
      },
      "source": [
        "# Wprowadzenie do eksploracji procesów (*process mining*)\n",
        "\n",
        "Główną klasą problemów z dziedziny eksploracji procesów jest odkrywanie procesów na podstawie dzienników zdarzeń. \n",
        "Metody odkrywania procesów biznesowych z danych pozwalają na budowę modeli procesów biznesowych i zobrazowanie rzeczywistych działań zachodzących w organizacjach, a nie jedynie hipotetycznego modelu opracowanego przez analityków.\n",
        "\n",
        "W celu odkrycia modelu potrzebujemy dziennik zdarzeń (*event log*). Taki dziennik może być dostępny bezpośrednio w systemie (wiele systemów w dzisiejszych czasach loguje zachodzące w nich zdarzenia w specjalnych formatach dzienników zdarzeń) lub może być być utworzony z danych dostępnych w naszych bazach danych:\n",
        "  * w prosty sposób np. z danych o transakcjach w sklepie internetowym, czy zachowaniu użytkowników systemu (kiedy, co i przez kogo zostało kliknięte w systemie), lub \n",
        "  * w nieco bardziej skomplikowany sposób z danych nieustrukturyzowanych, takich jak np. e-maile, obraz z kamery itp. "
      ]
    },
    {
      "cell_type": "markdown",
      "metadata": {
        "id": "-7lUlLXk6ypu"
      },
      "source": [
        "## Konfiguracja środowiska\n"
      ]
    },
    {
      "cell_type": "markdown",
      "metadata": {
        "id": "jYW1Pkhp7Srb"
      },
      "source": [
        "## Pobranie przykładowych danych dla naszego logu\n",
        "\n",
        "Aby móc odkryć model procesu potrzebujemy danych, na bazie których będziemy próbowali ten model skonstruować. Dane możemy albo wczytywać bezpośrednio z serwera albo pobrać je i wczytywać z lokalnego pliku. \n",
        "\n",
        "Ponieważ plik z naszymi danymi dot. procesu napraw telefonów nie jest bardzo duży spróbujmy go pobrać w celu późniejszego przetwarzania. "
      ]
    },
    {
      "cell_type": "code",
      "execution_count": 95,
      "metadata": {
        "colab": {
          "base_uri": "https://localhost:8080/"
        },
        "id": "4X6t8hEt7Lzx",
        "outputId": "422e4943-e80e-4db6-c93e-41656a7e8b8c"
      },
      "outputs": [
        {
          "name": "stderr",
          "output_type": "stream",
          "text": [
            "'wget' is not recognized as an internal or external command,\n",
            "operable program or batch file.\n"
          ]
        }
      ],
      "source": [
        "!wget http://home.agh.edu.pl/~kluza/repairExample.csv"
      ]
    },
    {
      "cell_type": "markdown",
      "metadata": {
        "id": "vuIlFNon99Od"
      },
      "source": [
        "## Importowanie modułów\n",
        "\n",
        "W celu odkrycia napisania prostego programu odkrywającego prototyp modelu procesu skorzystamy z kilku dostępnych modułów dla języka Python:"
      ]
    },
    {
      "cell_type": "code",
      "execution_count": 96,
      "metadata": {
        "id": "9A8axS-V99qU"
      },
      "outputs": [],
      "source": [
        "import pandas as pd\n",
        "from functools import reduce\n",
        "from itertools import groupby\n",
        "from itertools import chain\n",
        "from more_itertools import pairwise\n",
        "from collections import Counter\n",
        "import pygraphviz as pgv\n",
        "from IPython.display import Image, display\n",
        "import ipywidgets as widgets\n",
        "from ipywidgets import interact, interactive, fixed, interact_manual"
      ]
    },
    {
      "cell_type": "code",
      "execution_count": 97,
      "metadata": {},
      "outputs": [],
      "source": [
        "\n",
        "slider1 = widgets.IntSlider(\n",
        "    value=0,\n",
        "    min=0,\n",
        "    max=1400,\n",
        "    step=1,\n",
        "    description='Filter by tasks:',\n",
        "    readout_format='d'\n",
        ")\n"
      ]
    },
    {
      "cell_type": "code",
      "execution_count": 98,
      "metadata": {},
      "outputs": [],
      "source": [
        "slider2 = widgets.IntSlider(\n",
        "    value=0,\n",
        "    min=0,\n",
        "    max=1200,\n",
        "    step=1,\n",
        "    description='Filter by trace:',\n",
        "    readout_format='d'\n",
        ")"
      ]
    },
    {
      "cell_type": "code",
      "execution_count": 99,
      "metadata": {},
      "outputs": [
        {
          "data": {
            "application/vnd.jupyter.widget-view+json": {
              "model_id": "d1af196183084bffb23b7344c925ae3d",
              "version_major": 2,
              "version_minor": 0
            },
            "text/plain": [
              "IntSlider(value=0, description='Filter by tasks:', max=1400)"
            ]
          },
          "metadata": {},
          "output_type": "display_data"
        },
        {
          "name": "stdout",
          "output_type": "stream",
          "text": [
            "0\n"
          ]
        }
      ],
      "source": [
        "display(slider1)\n",
        "print(slider1.value)\n",
        "filter1 = slider1.value\n"
      ]
    },
    {
      "cell_type": "code",
      "execution_count": 100,
      "metadata": {},
      "outputs": [
        {
          "data": {
            "application/vnd.jupyter.widget-view+json": {
              "model_id": "857b4540869041c9bf1fd6be48570e67",
              "version_major": 2,
              "version_minor": 0
            },
            "text/plain": [
              "IntSlider(value=0, description='Filter by trace:', max=1200)"
            ]
          },
          "metadata": {},
          "output_type": "display_data"
        },
        {
          "name": "stdout",
          "output_type": "stream",
          "text": [
            "0\n"
          ]
        }
      ],
      "source": [
        "display(slider2)\n",
        "print(slider2.value)\n",
        "filter2 = slider2.value\n"
      ]
    },
    {
      "cell_type": "markdown",
      "metadata": {
        "id": "9tXPC3vKjcwW"
      },
      "source": [
        "##Wczytanie danych\n",
        "\n",
        "Wczytaj dane z pliku csv i przejrzyj je, a następnie używając funkcji z narzędzia pandas spróbuj odpowiedzieć na pytania związane z dziennikiem zdarzeń."
      ]
    },
    {
      "cell_type": "code",
      "execution_count": 101,
      "metadata": {
        "colab": {
          "base_uri": "https://localhost:8080/",
          "height": 635
        },
        "id": "IGo2-mhP7Ti2",
        "outputId": "91268c2f-14cf-47c7-a49e-329d11335aef"
      },
      "outputs": [
        {
          "data": {
            "text/html": [
              "<div>\n",
              "<style scoped>\n",
              "    .dataframe tbody tr th:only-of-type {\n",
              "        vertical-align: middle;\n",
              "    }\n",
              "\n",
              "    .dataframe tbody tr th {\n",
              "        vertical-align: top;\n",
              "    }\n",
              "\n",
              "    .dataframe thead th {\n",
              "        text-align: right;\n",
              "    }\n",
              "</style>\n",
              "<table border=\"1\" class=\"dataframe\">\n",
              "  <thead>\n",
              "    <tr style=\"text-align: right;\">\n",
              "      <th></th>\n",
              "      <th>Case ID</th>\n",
              "      <th>Activity</th>\n",
              "      <th>Start Timestamp</th>\n",
              "    </tr>\n",
              "  </thead>\n",
              "  <tbody>\n",
              "    <tr>\n",
              "      <th>0</th>\n",
              "      <td>1</td>\n",
              "      <td>b</td>\n",
              "      <td>01.04.21 22:10</td>\n",
              "    </tr>\n",
              "    <tr>\n",
              "      <th>1</th>\n",
              "      <td>1</td>\n",
              "      <td>c</td>\n",
              "      <td>01.04.21 22:11</td>\n",
              "    </tr>\n",
              "    <tr>\n",
              "      <th>2</th>\n",
              "      <td>1</td>\n",
              "      <td>d</td>\n",
              "      <td>01.04.21 22:12</td>\n",
              "    </tr>\n",
              "    <tr>\n",
              "      <th>3</th>\n",
              "      <td>1</td>\n",
              "      <td>e</td>\n",
              "      <td>01.04.21 22:13</td>\n",
              "    </tr>\n",
              "    <tr>\n",
              "      <th>4</th>\n",
              "      <td>2</td>\n",
              "      <td>b</td>\n",
              "      <td>01.04.21 22:10</td>\n",
              "    </tr>\n",
              "    <tr>\n",
              "      <th>5</th>\n",
              "      <td>2</td>\n",
              "      <td>c</td>\n",
              "      <td>01.04.21 22:11</td>\n",
              "    </tr>\n",
              "    <tr>\n",
              "      <th>6</th>\n",
              "      <td>2</td>\n",
              "      <td>e</td>\n",
              "      <td>01.04.21 22:12</td>\n",
              "    </tr>\n",
              "    <tr>\n",
              "      <th>7</th>\n",
              "      <td>2</td>\n",
              "      <td>d</td>\n",
              "      <td>01.04.21 22:13</td>\n",
              "    </tr>\n",
              "    <tr>\n",
              "      <th>8</th>\n",
              "      <td>3</td>\n",
              "      <td>a</td>\n",
              "      <td>01.04.21 22:10</td>\n",
              "    </tr>\n",
              "    <tr>\n",
              "      <th>9</th>\n",
              "      <td>3</td>\n",
              "      <td>c</td>\n",
              "      <td>01.04.21 22:11</td>\n",
              "    </tr>\n",
              "  </tbody>\n",
              "</table>\n",
              "</div>"
            ],
            "text/plain": [
              "   Case ID Activity Start Timestamp\n",
              "0        1        b  01.04.21 22:10\n",
              "1        1        c  01.04.21 22:11\n",
              "2        1        d  01.04.21 22:12\n",
              "3        1        e  01.04.21 22:13\n",
              "4        2        b  01.04.21 22:10\n",
              "5        2        c  01.04.21 22:11\n",
              "6        2        e  01.04.21 22:12\n",
              "7        2        d  01.04.21 22:13\n",
              "8        3        a  01.04.21 22:10\n",
              "9        3        c  01.04.21 22:11"
            ]
          },
          "execution_count": 101,
          "metadata": {},
          "output_type": "execute_result"
        }
      ],
      "source": [
        "df = pd.read_csv('A1.csv')\n",
        "df.head(10)"
      ]
    },
    {
      "cell_type": "markdown",
      "metadata": {
        "id": "HjBEQbCskzzJ"
      },
      "source": [
        "* Ile jest wszystkich zdarzeń w logu? "
      ]
    },
    {
      "cell_type": "markdown",
      "metadata": {
        "id": "4YPyDtV6lVX-"
      },
      "source": [
        "*   Wśród pracowników (*Resource*) możemy wyróżnić m.in. testerów i solverów. Ilu różnych testerów oraz solverów jest zaangażowanych w proces?\n",
        "\n"
      ]
    },
    {
      "cell_type": "markdown",
      "metadata": {
        "id": "w0IowrablsP7"
      },
      "source": [
        "* Które zadanie (*Activity*) zajmuje najwięcej czasu? \\\\\n",
        "(sposród wszystkich zadań, które w jakiejkolwiek instancji procesu trwało najdłużej)\n",
        "\n",
        "Podpowiedź: Przekształć kolumny czasowe do typu `datetime`, tak aby móc wykonać stosowne obliczenia czasu."
      ]
    },
    {
      "cell_type": "code",
      "execution_count": 102,
      "metadata": {
        "colab": {
          "base_uri": "https://localhost:8080/"
        },
        "id": "7Ukv479ImRFQ",
        "outputId": "aba5615c-28de-47bd-d690-c33cdc5ef355"
      },
      "outputs": [],
      "source": [
        "# df['start'] = pd.to_datetime(df['Start Timestamp'])\n",
        "# df['finish'] = pd.to_datetime(df['Complete Timestamp'])\n",
        "# type(df['start'])\n",
        "# df['duration'] = df['finish']-df['start']\n",
        "# df['duration'] = df['duration'].apply(lambda x: x.value)\n",
        "# df['duration'] = df['duration']/(10**9)\n",
        "# new_df = pd.concat([df['Activity'], df['duration']], axis=1)\n",
        "# new_df"
      ]
    },
    {
      "cell_type": "code",
      "execution_count": 103,
      "metadata": {},
      "outputs": [],
      "source": [
        "names = ['Register', 'Test Repair', 'Analyze Defect', 'End', 'Inform User', 'Archive Repair', 'Repair (Simple)', 'Repair (Complex)', 'Restart Repair']"
      ]
    },
    {
      "cell_type": "code",
      "execution_count": 104,
      "metadata": {},
      "outputs": [],
      "source": [
        "# suma = 0\n",
        "# j = 0\n",
        "# srTime = [0]*9\n",
        "# for i in range(len(names)):\n",
        "#   suma = suma - suma\n",
        "#   j = 0\n",
        "#   for g, row in new_df[['Activity','duration']].iterrows():\n",
        "#     #print(i, row['Activity'], row['duration'])\n",
        "#     if row['Activity'] == names[i]:\n",
        "#       suma += row['duration']\n",
        "#       j += 1\n",
        "#   #print(names[i])\n",
        "#   sr = (suma/j)\n",
        "#   new_sr = sr\n",
        "#   new_sr = round(new_sr)\n",
        "#   srTime[i]= new_sr\n",
        "#   #print(sr)\n",
        "#   #srTime[i].append((suma/j)) \n",
        "# avgTime = pd.Series(srTime, index=names)\n",
        "# avgTime"
      ]
    },
    {
      "cell_type": "markdown",
      "metadata": {
        "id": "-NfQxzTYmojx"
      },
      "source": [
        "## Przygotowanie danych\n",
        "\n",
        "W zależności od tego, w jaki sposób przygotujemy dane do odkrywania modelu, może to znacznie uprościć nam przetwarzanie. Na początek spróbujmy określić, w jakiej kolejności występowały zdarzenia w poszczególnych przypadkach, a zatem określimy jakie mamy w logu ślady/ścieżki (*traces*).  \n",
        "\n",
        "Uprośćmy nieco nasz log, aby łatwiej przetwarzać dane:"
      ]
    },
    {
      "cell_type": "code",
      "execution_count": 105,
      "metadata": {
        "colab": {
          "base_uri": "https://localhost:8080/",
          "height": 206
        },
        "id": "aCgaurbAl9Mz",
        "outputId": "c50f38d8-77b3-47ef-d7c3-f57b7e1c3be0"
      },
      "outputs": [
        {
          "ename": "KeyError",
          "evalue": "\"['start'] not in index\"",
          "output_type": "error",
          "traceback": [
            "\u001b[1;31m---------------------------------------------------------------------------\u001b[0m",
            "\u001b[1;31mKeyError\u001b[0m                                  Traceback (most recent call last)",
            "\u001b[1;32mc:\\Users\\Filip\\Desktop\\Studia\\1 semestr\\Modelowanie biznes\\AGH\\MIAPB\\Part1\\Copy_of_Czesc1_2022_Odkrywanie_modeli.ipynb Cell 21'\u001b[0m in \u001b[0;36m<cell line: 1>\u001b[1;34m()\u001b[0m\n\u001b[1;32m----> <a href='vscode-notebook-cell:/c%3A/Users/Filip/Desktop/Studia/1%20semestr/Modelowanie%20biznes/AGH/MIAPB/Part1/Copy_of_Czesc1_2022_Odkrywanie_modeli.ipynb#ch0000021?line=0'>1</a>\u001b[0m dfs \u001b[39m=\u001b[39m df[[\u001b[39m'\u001b[39;49m\u001b[39mCase ID\u001b[39;49m\u001b[39m'\u001b[39;49m, \u001b[39m'\u001b[39;49m\u001b[39mActivity\u001b[39;49m\u001b[39m'\u001b[39;49m, \u001b[39m'\u001b[39;49m\u001b[39mstart\u001b[39;49m\u001b[39m'\u001b[39;49m]]\n\u001b[0;32m      <a href='vscode-notebook-cell:/c%3A/Users/Filip/Desktop/Studia/1%20semestr/Modelowanie%20biznes/AGH/MIAPB/Part1/Copy_of_Czesc1_2022_Odkrywanie_modeli.ipynb#ch0000021?line=1'>2</a>\u001b[0m dfs\u001b[39m.\u001b[39mhead()\n",
            "File \u001b[1;32m~\\anaconda3\\envs\\Modelowanie\\lib\\site-packages\\pandas\\core\\frame.py:3511\u001b[0m, in \u001b[0;36mDataFrame.__getitem__\u001b[1;34m(self, key)\u001b[0m\n\u001b[0;32m   <a href='file:///c%3A/Users/Filip/anaconda3/envs/Modelowanie/lib/site-packages/pandas/core/frame.py?line=3508'>3509</a>\u001b[0m     \u001b[39mif\u001b[39;00m is_iterator(key):\n\u001b[0;32m   <a href='file:///c%3A/Users/Filip/anaconda3/envs/Modelowanie/lib/site-packages/pandas/core/frame.py?line=3509'>3510</a>\u001b[0m         key \u001b[39m=\u001b[39m \u001b[39mlist\u001b[39m(key)\n\u001b[1;32m-> <a href='file:///c%3A/Users/Filip/anaconda3/envs/Modelowanie/lib/site-packages/pandas/core/frame.py?line=3510'>3511</a>\u001b[0m     indexer \u001b[39m=\u001b[39m \u001b[39mself\u001b[39;49m\u001b[39m.\u001b[39;49mcolumns\u001b[39m.\u001b[39;49m_get_indexer_strict(key, \u001b[39m\"\u001b[39;49m\u001b[39mcolumns\u001b[39;49m\u001b[39m\"\u001b[39;49m)[\u001b[39m1\u001b[39m]\n\u001b[0;32m   <a href='file:///c%3A/Users/Filip/anaconda3/envs/Modelowanie/lib/site-packages/pandas/core/frame.py?line=3512'>3513</a>\u001b[0m \u001b[39m# take() does not accept boolean indexers\u001b[39;00m\n\u001b[0;32m   <a href='file:///c%3A/Users/Filip/anaconda3/envs/Modelowanie/lib/site-packages/pandas/core/frame.py?line=3513'>3514</a>\u001b[0m \u001b[39mif\u001b[39;00m \u001b[39mgetattr\u001b[39m(indexer, \u001b[39m\"\u001b[39m\u001b[39mdtype\u001b[39m\u001b[39m\"\u001b[39m, \u001b[39mNone\u001b[39;00m) \u001b[39m==\u001b[39m \u001b[39mbool\u001b[39m:\n",
            "File \u001b[1;32m~\\anaconda3\\envs\\Modelowanie\\lib\\site-packages\\pandas\\core\\indexes\\base.py:5782\u001b[0m, in \u001b[0;36mIndex._get_indexer_strict\u001b[1;34m(self, key, axis_name)\u001b[0m\n\u001b[0;32m   <a href='file:///c%3A/Users/Filip/anaconda3/envs/Modelowanie/lib/site-packages/pandas/core/indexes/base.py?line=5778'>5779</a>\u001b[0m \u001b[39melse\u001b[39;00m:\n\u001b[0;32m   <a href='file:///c%3A/Users/Filip/anaconda3/envs/Modelowanie/lib/site-packages/pandas/core/indexes/base.py?line=5779'>5780</a>\u001b[0m     keyarr, indexer, new_indexer \u001b[39m=\u001b[39m \u001b[39mself\u001b[39m\u001b[39m.\u001b[39m_reindex_non_unique(keyarr)\n\u001b[1;32m-> <a href='file:///c%3A/Users/Filip/anaconda3/envs/Modelowanie/lib/site-packages/pandas/core/indexes/base.py?line=5781'>5782</a>\u001b[0m \u001b[39mself\u001b[39;49m\u001b[39m.\u001b[39;49m_raise_if_missing(keyarr, indexer, axis_name)\n\u001b[0;32m   <a href='file:///c%3A/Users/Filip/anaconda3/envs/Modelowanie/lib/site-packages/pandas/core/indexes/base.py?line=5783'>5784</a>\u001b[0m keyarr \u001b[39m=\u001b[39m \u001b[39mself\u001b[39m\u001b[39m.\u001b[39mtake(indexer)\n\u001b[0;32m   <a href='file:///c%3A/Users/Filip/anaconda3/envs/Modelowanie/lib/site-packages/pandas/core/indexes/base.py?line=5784'>5785</a>\u001b[0m \u001b[39mif\u001b[39;00m \u001b[39misinstance\u001b[39m(key, Index):\n\u001b[0;32m   <a href='file:///c%3A/Users/Filip/anaconda3/envs/Modelowanie/lib/site-packages/pandas/core/indexes/base.py?line=5785'>5786</a>\u001b[0m     \u001b[39m# GH 42790 - Preserve name from an Index\u001b[39;00m\n",
            "File \u001b[1;32m~\\anaconda3\\envs\\Modelowanie\\lib\\site-packages\\pandas\\core\\indexes\\base.py:5845\u001b[0m, in \u001b[0;36mIndex._raise_if_missing\u001b[1;34m(self, key, indexer, axis_name)\u001b[0m\n\u001b[0;32m   <a href='file:///c%3A/Users/Filip/anaconda3/envs/Modelowanie/lib/site-packages/pandas/core/indexes/base.py?line=5841'>5842</a>\u001b[0m     \u001b[39mraise\u001b[39;00m \u001b[39mKeyError\u001b[39;00m(\u001b[39mf\u001b[39m\u001b[39m\"\u001b[39m\u001b[39mNone of [\u001b[39m\u001b[39m{\u001b[39;00mkey\u001b[39m}\u001b[39;00m\u001b[39m] are in the [\u001b[39m\u001b[39m{\u001b[39;00maxis_name\u001b[39m}\u001b[39;00m\u001b[39m]\u001b[39m\u001b[39m\"\u001b[39m)\n\u001b[0;32m   <a href='file:///c%3A/Users/Filip/anaconda3/envs/Modelowanie/lib/site-packages/pandas/core/indexes/base.py?line=5843'>5844</a>\u001b[0m not_found \u001b[39m=\u001b[39m \u001b[39mlist\u001b[39m(ensure_index(key)[missing_mask\u001b[39m.\u001b[39mnonzero()[\u001b[39m0\u001b[39m]]\u001b[39m.\u001b[39munique())\n\u001b[1;32m-> <a href='file:///c%3A/Users/Filip/anaconda3/envs/Modelowanie/lib/site-packages/pandas/core/indexes/base.py?line=5844'>5845</a>\u001b[0m \u001b[39mraise\u001b[39;00m \u001b[39mKeyError\u001b[39;00m(\u001b[39mf\u001b[39m\u001b[39m\"\u001b[39m\u001b[39m{\u001b[39;00mnot_found\u001b[39m}\u001b[39;00m\u001b[39m not in index\u001b[39m\u001b[39m\"\u001b[39m)\n",
            "\u001b[1;31mKeyError\u001b[0m: \"['start'] not in index\""
          ]
        }
      ],
      "source": [
        "dfs = df[['Case ID', 'Activity', 'Start Timestamp']]\n",
        "dfs.head()"
      ]
    },
    {
      "cell_type": "markdown",
      "metadata": {
        "id": "oxeyk5_YSg7p"
      },
      "source": [
        "Następnie zobaczmy, jak często wykonywane były poszczególne zadania:"
      ]
    },
    {
      "cell_type": "code",
      "execution_count": null,
      "metadata": {
        "colab": {
          "base_uri": "https://localhost:8080/",
          "height": 130
        },
        "id": "a0YKubt4rXeG",
        "outputId": "51e0abf0-a89e-4d31-8377-2546ea7aab57"
      },
      "outputs": [
        {
          "data": {
            "text/plain": [
              "a;c;d;e    1\n",
              "a;c;e;d    1\n",
              "b;c;d;e    1\n",
              "b;c;e;d    1\n",
              "Name: Activity, dtype: int64"
            ]
          },
          "execution_count": 82,
          "metadata": {},
          "output_type": "execute_result"
        }
      ],
      "source": [
        "ev_counter = dfs.Activity.value_counts()\n",
        "\n",
        "def threshold_filter(threshold, counter_dict):\n",
        "  for event, count in counter_dict.items():\n",
        "    if count < threshold:\n",
        "      print(event)\n",
        "      print(count)\n",
        "      counter_dict.pop(event)\n",
        "      dfs.drop(dfs[dfs['Activity'] == event].index, inplace=True)\n",
        "\n",
        "\n",
        "threshold_filter(filter1, ev_counter)\n",
        "ev_counter = dfs.Activity.value_counts()\n",
        "dfs.Activity.value_counts()"
      ]
    },
    {
      "cell_type": "markdown",
      "metadata": {
        "id": "ZtkuqLmQS-dA"
      },
      "source": [
        "Na bazie identyfikatora przypadu (*Case ID*) pogrupujemy wszystkie zadania w ślady (*traces*):"
      ]
    },
    {
      "cell_type": "code",
      "execution_count": null,
      "metadata": {
        "id": "YzKClaKEnBpg"
      },
      "outputs": [
        {
          "ename": "KeyError",
          "evalue": "'Case ID'",
          "output_type": "error",
          "traceback": [
            "\u001b[1;31m---------------------------------------------------------------------------\u001b[0m",
            "\u001b[1;31mKeyError\u001b[0m                                  Traceback (most recent call last)",
            "\u001b[1;32mc:\\Users\\Filip\\Desktop\\Studia\\1 semestr\\Modelowanie biznes\\AGH\\MIAPB\\Part1\\Copy_of_Czesc1_2022_Odkrywanie_modeli.ipynb Cell 25'\u001b[0m in \u001b[0;36m<cell line: 1>\u001b[1;34m()\u001b[0m\n\u001b[1;32m----> <a href='vscode-notebook-cell:/c%3A/Users/Filip/Desktop/Studia/1%20semestr/Modelowanie%20biznes/AGH/MIAPB/Part1/Copy_of_Czesc1_2022_Odkrywanie_modeli.ipynb#ch0000025?line=0'>1</a>\u001b[0m dfs \u001b[39m=\u001b[39m (dfs\n\u001b[0;32m      <a href='vscode-notebook-cell:/c%3A/Users/Filip/Desktop/Studia/1%20semestr/Modelowanie%20biznes/AGH/MIAPB/Part1/Copy_of_Czesc1_2022_Odkrywanie_modeli.ipynb#ch0000025?line=1'>2</a>\u001b[0m     \u001b[39m.\u001b[39;49msort_values(by\u001b[39m=\u001b[39;49m[\u001b[39m'\u001b[39;49m\u001b[39mCase ID\u001b[39;49m\u001b[39m'\u001b[39;49m,\u001b[39m'\u001b[39;49m\u001b[39mstart\u001b[39;49m\u001b[39m'\u001b[39;49m])\n\u001b[0;32m      <a href='vscode-notebook-cell:/c%3A/Users/Filip/Desktop/Studia/1%20semestr/Modelowanie%20biznes/AGH/MIAPB/Part1/Copy_of_Czesc1_2022_Odkrywanie_modeli.ipynb#ch0000025?line=2'>3</a>\u001b[0m     \u001b[39m.\u001b[39mgroupby([\u001b[39m'\u001b[39m\u001b[39mCase ID\u001b[39m\u001b[39m'\u001b[39m])\n\u001b[0;32m      <a href='vscode-notebook-cell:/c%3A/Users/Filip/Desktop/Studia/1%20semestr/Modelowanie%20biznes/AGH/MIAPB/Part1/Copy_of_Czesc1_2022_Odkrywanie_modeli.ipynb#ch0000025?line=3'>4</a>\u001b[0m     \u001b[39m.\u001b[39magg({\u001b[39m'\u001b[39m\u001b[39mActivity\u001b[39m\u001b[39m'\u001b[39m: \u001b[39m'\u001b[39m\u001b[39m;\u001b[39m\u001b[39m'\u001b[39m\u001b[39m.\u001b[39mjoin})\n\u001b[0;32m      <a href='vscode-notebook-cell:/c%3A/Users/Filip/Desktop/Studia/1%20semestr/Modelowanie%20biznes/AGH/MIAPB/Part1/Copy_of_Czesc1_2022_Odkrywanie_modeli.ipynb#ch0000025?line=4'>5</a>\u001b[0m )\n",
            "File \u001b[1;32m~\\anaconda3\\envs\\Modelowanie\\lib\\site-packages\\pandas\\util\\_decorators.py:311\u001b[0m, in \u001b[0;36mdeprecate_nonkeyword_arguments.<locals>.decorate.<locals>.wrapper\u001b[1;34m(*args, **kwargs)\u001b[0m\n\u001b[0;32m    <a href='file:///c%3A/Users/Filip/anaconda3/envs/Modelowanie/lib/site-packages/pandas/util/_decorators.py?line=304'>305</a>\u001b[0m \u001b[39mif\u001b[39;00m \u001b[39mlen\u001b[39m(args) \u001b[39m>\u001b[39m num_allow_args:\n\u001b[0;32m    <a href='file:///c%3A/Users/Filip/anaconda3/envs/Modelowanie/lib/site-packages/pandas/util/_decorators.py?line=305'>306</a>\u001b[0m     warnings\u001b[39m.\u001b[39mwarn(\n\u001b[0;32m    <a href='file:///c%3A/Users/Filip/anaconda3/envs/Modelowanie/lib/site-packages/pandas/util/_decorators.py?line=306'>307</a>\u001b[0m         msg\u001b[39m.\u001b[39mformat(arguments\u001b[39m=\u001b[39marguments),\n\u001b[0;32m    <a href='file:///c%3A/Users/Filip/anaconda3/envs/Modelowanie/lib/site-packages/pandas/util/_decorators.py?line=307'>308</a>\u001b[0m         \u001b[39mFutureWarning\u001b[39;00m,\n\u001b[0;32m    <a href='file:///c%3A/Users/Filip/anaconda3/envs/Modelowanie/lib/site-packages/pandas/util/_decorators.py?line=308'>309</a>\u001b[0m         stacklevel\u001b[39m=\u001b[39mstacklevel,\n\u001b[0;32m    <a href='file:///c%3A/Users/Filip/anaconda3/envs/Modelowanie/lib/site-packages/pandas/util/_decorators.py?line=309'>310</a>\u001b[0m     )\n\u001b[1;32m--> <a href='file:///c%3A/Users/Filip/anaconda3/envs/Modelowanie/lib/site-packages/pandas/util/_decorators.py?line=310'>311</a>\u001b[0m \u001b[39mreturn\u001b[39;00m func(\u001b[39m*\u001b[39margs, \u001b[39m*\u001b[39m\u001b[39m*\u001b[39mkwargs)\n",
            "File \u001b[1;32m~\\anaconda3\\envs\\Modelowanie\\lib\\site-packages\\pandas\\core\\frame.py:6289\u001b[0m, in \u001b[0;36mDataFrame.sort_values\u001b[1;34m(self, by, axis, ascending, inplace, kind, na_position, ignore_index, key)\u001b[0m\n\u001b[0;32m   <a href='file:///c%3A/Users/Filip/anaconda3/envs/Modelowanie/lib/site-packages/pandas/core/frame.py?line=6283'>6284</a>\u001b[0m     \u001b[39mraise\u001b[39;00m \u001b[39mValueError\u001b[39;00m(\n\u001b[0;32m   <a href='file:///c%3A/Users/Filip/anaconda3/envs/Modelowanie/lib/site-packages/pandas/core/frame.py?line=6284'>6285</a>\u001b[0m         \u001b[39mf\u001b[39m\u001b[39m\"\u001b[39m\u001b[39mLength of ascending (\u001b[39m\u001b[39m{\u001b[39;00m\u001b[39mlen\u001b[39m(ascending)\u001b[39m}\u001b[39;00m\u001b[39m) != length of by (\u001b[39m\u001b[39m{\u001b[39;00m\u001b[39mlen\u001b[39m(by)\u001b[39m}\u001b[39;00m\u001b[39m)\u001b[39m\u001b[39m\"\u001b[39m\n\u001b[0;32m   <a href='file:///c%3A/Users/Filip/anaconda3/envs/Modelowanie/lib/site-packages/pandas/core/frame.py?line=6285'>6286</a>\u001b[0m     )\n\u001b[0;32m   <a href='file:///c%3A/Users/Filip/anaconda3/envs/Modelowanie/lib/site-packages/pandas/core/frame.py?line=6286'>6287</a>\u001b[0m \u001b[39mif\u001b[39;00m \u001b[39mlen\u001b[39m(by) \u001b[39m>\u001b[39m \u001b[39m1\u001b[39m:\n\u001b[1;32m-> <a href='file:///c%3A/Users/Filip/anaconda3/envs/Modelowanie/lib/site-packages/pandas/core/frame.py?line=6288'>6289</a>\u001b[0m     keys \u001b[39m=\u001b[39m [\u001b[39mself\u001b[39m\u001b[39m.\u001b[39m_get_label_or_level_values(x, axis\u001b[39m=\u001b[39maxis) \u001b[39mfor\u001b[39;00m x \u001b[39min\u001b[39;00m by]\n\u001b[0;32m   <a href='file:///c%3A/Users/Filip/anaconda3/envs/Modelowanie/lib/site-packages/pandas/core/frame.py?line=6290'>6291</a>\u001b[0m     \u001b[39m# need to rewrap columns in Series to apply key function\u001b[39;00m\n\u001b[0;32m   <a href='file:///c%3A/Users/Filip/anaconda3/envs/Modelowanie/lib/site-packages/pandas/core/frame.py?line=6291'>6292</a>\u001b[0m     \u001b[39mif\u001b[39;00m key \u001b[39mis\u001b[39;00m \u001b[39mnot\u001b[39;00m \u001b[39mNone\u001b[39;00m:\n\u001b[0;32m   <a href='file:///c%3A/Users/Filip/anaconda3/envs/Modelowanie/lib/site-packages/pandas/core/frame.py?line=6292'>6293</a>\u001b[0m         \u001b[39m# error: List comprehension has incompatible type List[Series];\u001b[39;00m\n\u001b[0;32m   <a href='file:///c%3A/Users/Filip/anaconda3/envs/Modelowanie/lib/site-packages/pandas/core/frame.py?line=6293'>6294</a>\u001b[0m         \u001b[39m# expected List[ndarray]\u001b[39;00m\n",
            "File \u001b[1;32m~\\anaconda3\\envs\\Modelowanie\\lib\\site-packages\\pandas\\core\\frame.py:6289\u001b[0m, in \u001b[0;36m<listcomp>\u001b[1;34m(.0)\u001b[0m\n\u001b[0;32m   <a href='file:///c%3A/Users/Filip/anaconda3/envs/Modelowanie/lib/site-packages/pandas/core/frame.py?line=6283'>6284</a>\u001b[0m     \u001b[39mraise\u001b[39;00m \u001b[39mValueError\u001b[39;00m(\n\u001b[0;32m   <a href='file:///c%3A/Users/Filip/anaconda3/envs/Modelowanie/lib/site-packages/pandas/core/frame.py?line=6284'>6285</a>\u001b[0m         \u001b[39mf\u001b[39m\u001b[39m\"\u001b[39m\u001b[39mLength of ascending (\u001b[39m\u001b[39m{\u001b[39;00m\u001b[39mlen\u001b[39m(ascending)\u001b[39m}\u001b[39;00m\u001b[39m) != length of by (\u001b[39m\u001b[39m{\u001b[39;00m\u001b[39mlen\u001b[39m(by)\u001b[39m}\u001b[39;00m\u001b[39m)\u001b[39m\u001b[39m\"\u001b[39m\n\u001b[0;32m   <a href='file:///c%3A/Users/Filip/anaconda3/envs/Modelowanie/lib/site-packages/pandas/core/frame.py?line=6285'>6286</a>\u001b[0m     )\n\u001b[0;32m   <a href='file:///c%3A/Users/Filip/anaconda3/envs/Modelowanie/lib/site-packages/pandas/core/frame.py?line=6286'>6287</a>\u001b[0m \u001b[39mif\u001b[39;00m \u001b[39mlen\u001b[39m(by) \u001b[39m>\u001b[39m \u001b[39m1\u001b[39m:\n\u001b[1;32m-> <a href='file:///c%3A/Users/Filip/anaconda3/envs/Modelowanie/lib/site-packages/pandas/core/frame.py?line=6288'>6289</a>\u001b[0m     keys \u001b[39m=\u001b[39m [\u001b[39mself\u001b[39;49m\u001b[39m.\u001b[39;49m_get_label_or_level_values(x, axis\u001b[39m=\u001b[39;49maxis) \u001b[39mfor\u001b[39;00m x \u001b[39min\u001b[39;00m by]\n\u001b[0;32m   <a href='file:///c%3A/Users/Filip/anaconda3/envs/Modelowanie/lib/site-packages/pandas/core/frame.py?line=6290'>6291</a>\u001b[0m     \u001b[39m# need to rewrap columns in Series to apply key function\u001b[39;00m\n\u001b[0;32m   <a href='file:///c%3A/Users/Filip/anaconda3/envs/Modelowanie/lib/site-packages/pandas/core/frame.py?line=6291'>6292</a>\u001b[0m     \u001b[39mif\u001b[39;00m key \u001b[39mis\u001b[39;00m \u001b[39mnot\u001b[39;00m \u001b[39mNone\u001b[39;00m:\n\u001b[0;32m   <a href='file:///c%3A/Users/Filip/anaconda3/envs/Modelowanie/lib/site-packages/pandas/core/frame.py?line=6292'>6293</a>\u001b[0m         \u001b[39m# error: List comprehension has incompatible type List[Series];\u001b[39;00m\n\u001b[0;32m   <a href='file:///c%3A/Users/Filip/anaconda3/envs/Modelowanie/lib/site-packages/pandas/core/frame.py?line=6293'>6294</a>\u001b[0m         \u001b[39m# expected List[ndarray]\u001b[39;00m\n",
            "File \u001b[1;32m~\\anaconda3\\envs\\Modelowanie\\lib\\site-packages\\pandas\\core\\generic.py:1848\u001b[0m, in \u001b[0;36mNDFrame._get_label_or_level_values\u001b[1;34m(self, key, axis)\u001b[0m\n\u001b[0;32m   <a href='file:///c%3A/Users/Filip/anaconda3/envs/Modelowanie/lib/site-packages/pandas/core/generic.py?line=1845'>1846</a>\u001b[0m     values \u001b[39m=\u001b[39m \u001b[39mself\u001b[39m\u001b[39m.\u001b[39maxes[axis]\u001b[39m.\u001b[39mget_level_values(key)\u001b[39m.\u001b[39m_values\n\u001b[0;32m   <a href='file:///c%3A/Users/Filip/anaconda3/envs/Modelowanie/lib/site-packages/pandas/core/generic.py?line=1846'>1847</a>\u001b[0m \u001b[39melse\u001b[39;00m:\n\u001b[1;32m-> <a href='file:///c%3A/Users/Filip/anaconda3/envs/Modelowanie/lib/site-packages/pandas/core/generic.py?line=1847'>1848</a>\u001b[0m     \u001b[39mraise\u001b[39;00m \u001b[39mKeyError\u001b[39;00m(key)\n\u001b[0;32m   <a href='file:///c%3A/Users/Filip/anaconda3/envs/Modelowanie/lib/site-packages/pandas/core/generic.py?line=1849'>1850</a>\u001b[0m \u001b[39m# Check for duplicates\u001b[39;00m\n\u001b[0;32m   <a href='file:///c%3A/Users/Filip/anaconda3/envs/Modelowanie/lib/site-packages/pandas/core/generic.py?line=1850'>1851</a>\u001b[0m \u001b[39mif\u001b[39;00m values\u001b[39m.\u001b[39mndim \u001b[39m>\u001b[39m \u001b[39m1\u001b[39m:\n",
            "\u001b[1;31mKeyError\u001b[0m: 'Case ID'"
          ]
        }
      ],
      "source": [
        "dfs = (dfs\n",
        "    .sort_values(by=['Case ID','Start Timestamp'])\n",
        "    .groupby(['Case ID'])\n",
        "    .agg({'Activity': ';'.join})\n",
        ")"
      ]
    },
    {
      "cell_type": "markdown",
      "metadata": {
        "id": "ecYLVK6dTqQw"
      },
      "source": [
        "Zobaczmy zatem, jakie przykładowe ślady (instancje procesów) są w naszym logu:"
      ]
    },
    {
      "cell_type": "code",
      "execution_count": null,
      "metadata": {
        "colab": {
          "base_uri": "https://localhost:8080/",
          "height": 238
        },
        "id": "_H72Rbc6nx9-",
        "outputId": "85dcadd3-43f3-47c8-be49-c92f39607ecf"
      },
      "outputs": [
        {
          "data": {
            "text/html": [
              "<div>\n",
              "<style scoped>\n",
              "    .dataframe tbody tr th:only-of-type {\n",
              "        vertical-align: middle;\n",
              "    }\n",
              "\n",
              "    .dataframe tbody tr th {\n",
              "        vertical-align: top;\n",
              "    }\n",
              "\n",
              "    .dataframe thead th {\n",
              "        text-align: right;\n",
              "    }\n",
              "</style>\n",
              "<table border=\"1\" class=\"dataframe\">\n",
              "  <thead>\n",
              "    <tr style=\"text-align: right;\">\n",
              "      <th></th>\n",
              "      <th>Activity</th>\n",
              "    </tr>\n",
              "    <tr>\n",
              "      <th>Case ID</th>\n",
              "      <th></th>\n",
              "    </tr>\n",
              "  </thead>\n",
              "  <tbody>\n",
              "    <tr>\n",
              "      <th>1</th>\n",
              "      <td>b;c;d;e</td>\n",
              "    </tr>\n",
              "    <tr>\n",
              "      <th>2</th>\n",
              "      <td>b;c;e;d</td>\n",
              "    </tr>\n",
              "    <tr>\n",
              "      <th>3</th>\n",
              "      <td>a;c;d;e</td>\n",
              "    </tr>\n",
              "    <tr>\n",
              "      <th>4</th>\n",
              "      <td>a;c;e;d</td>\n",
              "    </tr>\n",
              "  </tbody>\n",
              "</table>\n",
              "</div>"
            ],
            "text/plain": [
              "        Activity\n",
              "Case ID         \n",
              "1        b;c;d;e\n",
              "2        b;c;e;d\n",
              "3        a;c;d;e\n",
              "4        a;c;e;d"
            ]
          },
          "execution_count": 18,
          "metadata": {},
          "output_type": "execute_result"
        }
      ],
      "source": [
        "dfs.head()\n"
      ]
    },
    {
      "cell_type": "markdown",
      "metadata": {
        "id": "WByot2ciVyjw"
      },
      "source": [
        "Aby zobaczyć, jak dokładniej wygląda taki ślad, obejrzyjmy dowolny z takich śladów:"
      ]
    },
    {
      "cell_type": "code",
      "execution_count": null,
      "metadata": {
        "colab": {
          "base_uri": "https://localhost:8080/",
          "height": 35
        },
        "id": "wGoEkI29Ua_m",
        "outputId": "66def60e-52c3-4ab4-a3e9-b9f63e90f417"
      },
      "outputs": [],
      "source": [
        "# dfs.iloc[145]['Activity']"
      ]
    },
    {
      "cell_type": "markdown",
      "metadata": {
        "id": "YNDtFeodWSRh"
      },
      "source": [
        "Ponieważ ślady w logu mogą się powtarzać, zgrupujmy je zatem w warianty i policzmy ile jest śladów każdego typu:"
      ]
    },
    {
      "cell_type": "code",
      "execution_count": null,
      "metadata": {
        "id": "Vd95LnySFCGn"
      },
      "outputs": [],
      "source": [
        "dfs['count'] = 0\n",
        "dfs = (\n",
        "    dfs.groupby('Activity', as_index=False).count()\n",
        "    .sort_values(['count'], ascending=False)\n",
        "    .reset_index(drop=True)\n",
        "    )"
      ]
    },
    {
      "cell_type": "code",
      "execution_count": null,
      "metadata": {
        "colab": {
          "base_uri": "https://localhost:8080/",
          "height": 215
        },
        "id": "9v1SMeUfW-FS",
        "outputId": "bbf7b9e3-f2c2-454c-9ac0-604e1755f5e8"
      },
      "outputs": [],
      "source": [
        "# def trace_filter(traceNO, trace_counter):\n",
        "#   for count in trace_counter:\n",
        "#     if count < traceNO:\n",
        "#       dfs.drop(dfs[dfs['count'] == count].index, inplace=True)\n",
        "\n",
        "# trace_filter(filter2, dfs['count'])\n",
        "# dfs"
      ]
    },
    {
      "cell_type": "markdown",
      "metadata": {
        "id": "Q89wtd3yXMIO"
      },
      "source": [
        "Jak wygląda najczęstszy ślad (najczęstsza ścieżka zdarzeń w procesie, czyli najpopularniejszy wariant)? "
      ]
    },
    {
      "cell_type": "markdown",
      "metadata": {
        "id": "bB-WfzCQX_zK"
      },
      "source": [
        "Ponieważ w dalszej części wygodniej będzie nam operować na wariantach w formie listy, \\\\\n",
        "dodamy nową kolumnę, która przechowa wariant w formie listy:"
      ]
    },
    {
      "cell_type": "code",
      "execution_count": null,
      "metadata": {
        "id": "50YW9bw2FD2T"
      },
      "outputs": [],
      "source": [
        "dfs['trace'] = [trace.split(';') for trace in dfs['Activity']]"
      ]
    },
    {
      "cell_type": "code",
      "execution_count": null,
      "metadata": {
        "colab": {
          "base_uri": "https://localhost:8080/",
          "height": 298
        },
        "id": "gvzMeiz8rs2p",
        "outputId": "3ed0b344-c4a2-4426-a76a-9ea2e6a013f1"
      },
      "outputs": [
        {
          "data": {
            "text/html": [
              "<div>\n",
              "<style scoped>\n",
              "    .dataframe tbody tr th:only-of-type {\n",
              "        vertical-align: middle;\n",
              "    }\n",
              "\n",
              "    .dataframe tbody tr th {\n",
              "        vertical-align: top;\n",
              "    }\n",
              "\n",
              "    .dataframe thead th {\n",
              "        text-align: right;\n",
              "    }\n",
              "</style>\n",
              "<table border=\"1\" class=\"dataframe\">\n",
              "  <thead>\n",
              "    <tr style=\"text-align: right;\">\n",
              "      <th></th>\n",
              "      <th>Activity</th>\n",
              "      <th>count</th>\n",
              "      <th>trace</th>\n",
              "    </tr>\n",
              "  </thead>\n",
              "  <tbody>\n",
              "    <tr>\n",
              "      <th>0</th>\n",
              "      <td>a;c;d;e</td>\n",
              "      <td>1</td>\n",
              "      <td>[a, c, d, e]</td>\n",
              "    </tr>\n",
              "    <tr>\n",
              "      <th>1</th>\n",
              "      <td>a;c;e;d</td>\n",
              "      <td>1</td>\n",
              "      <td>[a, c, e, d]</td>\n",
              "    </tr>\n",
              "    <tr>\n",
              "      <th>2</th>\n",
              "      <td>b;c;d;e</td>\n",
              "      <td>1</td>\n",
              "      <td>[b, c, d, e]</td>\n",
              "    </tr>\n",
              "    <tr>\n",
              "      <th>3</th>\n",
              "      <td>b;c;e;d</td>\n",
              "      <td>1</td>\n",
              "      <td>[b, c, e, d]</td>\n",
              "    </tr>\n",
              "  </tbody>\n",
              "</table>\n",
              "</div>"
            ],
            "text/plain": [
              "  Activity  count         trace\n",
              "0  a;c;d;e      1  [a, c, d, e]\n",
              "1  a;c;e;d      1  [a, c, e, d]\n",
              "2  b;c;d;e      1  [b, c, d, e]\n",
              "3  b;c;e;d      1  [b, c, e, d]"
            ]
          },
          "execution_count": 24,
          "metadata": {},
          "output_type": "execute_result"
        }
      ],
      "source": [
        "dfs.head()"
      ]
    },
    {
      "cell_type": "markdown",
      "metadata": {
        "id": "rOUN49gsZYwn"
      },
      "source": [
        "Na tak przygotowanych danych prościej będzie nam przygotować graf, który zobrazuje model procesu. \\\\\n",
        "W tym celu potrzebujemy pobrać dane z naszego obiektu `Dataframe`:"
      ]
    },
    {
      "cell_type": "code",
      "execution_count": null,
      "metadata": {
        "colab": {
          "base_uri": "https://localhost:8080/"
        },
        "id": "FrFaUnsi_Umc",
        "outputId": "f367ae9d-45ac-4e86-9440-aa45a8290923"
      },
      "outputs": [
        {
          "name": "stdout",
          "output_type": "stream",
          "text": [
            "0 1 ['a', 'c', 'd', 'e']\n",
            "1 1 ['a', 'c', 'e', 'd']\n",
            "2 1 ['b', 'c', 'd', 'e']\n",
            "3 1 ['b', 'c', 'e', 'd']\n"
          ]
        }
      ],
      "source": [
        "for i, row in dfs[['trace','count']].iterrows():\n",
        "  print(i, row['count'], row['trace'])\n",
        "  if i > 8: break # przerwanie, aby nie wyswietlalo wszystkich wierszy"
      ]
    },
    {
      "cell_type": "markdown",
      "metadata": {
        "id": "bSR2rJf_aXL6"
      },
      "source": [
        "## Odkrywanie modelu procesu\n",
        "\n",
        "Na bazie tak przygotowanych wariantów, możemy dość szybko przygotować odpowiedni graf, \\\\\n",
        "który zobrazuje nam model procesu. Graf przechowamy w słowniku `w_net` (workflow net):"
      ]
    },
    {
      "cell_type": "code",
      "execution_count": null,
      "metadata": {
        "id": "fQo7khd8OR3b"
      },
      "outputs": [],
      "source": [
        "w_net = dict()\n",
        "ev_start_set = set()\n",
        "ev_end_set = set()\n",
        "for index, row in dfs[['trace','count']].iterrows():\n",
        "  if row['trace'][0] not in ev_start_set:\n",
        "    ev_start_set.add(row['trace'][0])\n",
        "  if row['trace'][-1] not in ev_end_set:\n",
        "    ev_end_set.add(row['trace'][-1])\n",
        "  for ev_i, ev_j in pairwise(row['trace']):\n",
        "    if ev_i not in w_net.keys():\n",
        "      w_net[ev_i] = Counter()\n",
        "    w_net[ev_i][ev_j] += row['count']"
      ]
    },
    {
      "cell_type": "code",
      "execution_count": null,
      "metadata": {
        "colab": {
          "base_uri": "https://localhost:8080/"
        },
        "id": "OwIj0SaQOnip",
        "outputId": "f855850d-69d1-4e3d-ff6f-34f6fb23ea2c"
      },
      "outputs": [
        {
          "name": "stdout",
          "output_type": "stream",
          "text": [
            "Before filtering\n",
            "{'a': Counter({'c': 2}), 'c': Counter({'d': 2, 'e': 2}), 'd': Counter({'e': 2}), 'e': Counter({'d': 2}), 'b': Counter({'c': 2})}\n",
            "0\n",
            "----------------\n",
            "a : Counter({'c': 2})\n",
            "c : Counter({'d': 2, 'e': 2})\n",
            "d : Counter({'e': 2})\n",
            "e : Counter({'d': 2})\n",
            "b : Counter({'c': 2})\n",
            "------\n",
            "After filtering\n",
            "{'a': Counter({'c': 2}), 'c': Counter({'d': 2, 'e': 2}), 'd': Counter({'e': 2}), 'e': Counter({'d': 2}), 'b': Counter({'c': 2})}\n"
          ]
        }
      ],
      "source": [
        "print(\"Before filtering\")\n",
        "print(w_net)\n",
        "print(filter2)\n",
        "print(\"----------------\")\n",
        "for key, value in w_net.items():\n",
        "    cnt_dict = dict(value)\n",
        "    if len(cnt_dict) > 1:\n",
        "        order = list(cnt_dict.keys())\n",
        "        order.pop(0)\n",
        "        for key2 in order:\n",
        "            if cnt_dict[key2] < filter2:\n",
        "                cnt_dict.pop(key2)\n",
        "    value = Counter(cnt_dict)\n",
        "    print(key,\":\",value)\n",
        "    \n",
        "    w_net[key] = value\n",
        "    #print(Counter(modified))\n",
        "    # w_net[key] = Counter(modified)\n",
        "    # print(Counter(modified))\n",
        "print(\"------\")\n",
        "print(\"After filtering\")\n",
        "print(w_net)\n",
        "        "
      ]
    },
    {
      "cell_type": "code",
      "execution_count": null,
      "metadata": {
        "colab": {
          "base_uri": "https://localhost:8080/"
        },
        "id": "vaDvnteUyCaa",
        "outputId": "22d5781f-a8a4-403a-ecbd-39fa76190c2c"
      },
      "outputs": [
        {
          "data": {
            "text/plain": [
              "{'a', 'b'}"
            ]
          },
          "execution_count": 28,
          "metadata": {},
          "output_type": "execute_result"
        }
      ],
      "source": [
        "ev_start_set"
      ]
    },
    {
      "cell_type": "code",
      "execution_count": null,
      "metadata": {
        "colab": {
          "base_uri": "https://localhost:8080/"
        },
        "id": "_6x4nbmbyD-z",
        "outputId": "0e545184-e889-4045-dcb6-4d1b558132b9"
      },
      "outputs": [
        {
          "data": {
            "text/plain": [
              "{'d', 'e'}"
            ]
          },
          "execution_count": 29,
          "metadata": {},
          "output_type": "execute_result"
        }
      ],
      "source": [
        "ev_end_set"
      ]
    },
    {
      "cell_type": "markdown",
      "metadata": {
        "id": "fJeosaNLbkko"
      },
      "source": [
        "Mając tak przygotowany słownik, możemy zilustrować nasz proces przy użyciu `pygraphviz`:"
      ]
    },
    {
      "cell_type": "code",
      "execution_count": null,
      "metadata": {
        "colab": {
          "base_uri": "https://localhost:8080/",
          "height": 334
        },
        "id": "AJ3AzCQ4Ooki",
        "outputId": "9308edb8-957e-49e1-8be6-8040e1558653"
      },
      "outputs": [
        {
          "name": "stderr",
          "output_type": "stream",
          "text": [
            "C:\\Users\\Filip\\anaconda3\\envs\\Modelowanie\\lib\\site-packages\\pygraphviz\\agraph.py:1402: RuntimeWarning: Warning: Could not load \"C:\\Users\\Filip\\anaconda3\\envs\\Modelowanie\\Library\\bin\\gvplugin_pango.dll\" - It was found, so perhaps one of its dependents was not.  Try ldd.\n",
            "Warning: Could not load \"C:\\Users\\Filip\\anaconda3\\envs\\Modelowanie\\Library\\bin\\gvplugin_pango.dll\" - It was found, so perhaps one of its dependents was not.  Try ldd.\n",
            "Warning: Could not load \"C:\\Users\\Filip\\anaconda3\\envs\\Modelowanie\\Library\\bin\\gvplugin_pango.dll\" - It was found, so perhaps one of its dependents was not.  Try ldd.\n",
            "Warning: Could not load \"C:\\Users\\Filip\\anaconda3\\envs\\Modelowanie\\Library\\bin\\gvplugin_pango.dll\" - It was found, so perhaps one of its dependents was not.  Try ldd.\n",
            "Warning: Could not load \"C:\\Users\\Filip\\anaconda3\\envs\\Modelowanie\\Library\\bin\\gvplugin_pango.dll\" - It was found, so perhaps one of its dependents was not.  Try ldd.\n",
            "\n",
            "  warnings.warn(b\"\".join(errors).decode(self.encoding), RuntimeWarning)\n"
          ]
        },
        {
          "data": {
            "image/png": "[encoded data removed]",
            "text/plain": [
              "<IPython.core.display.Image object>"
            ]
          },
          "metadata": {},
          "output_type": "display_data"
        }
      ],
      "source": [
        "G = pgv.AGraph(strict=False, directed=True)\n",
        "G.graph_attr['rankdir'] = 'LR'\n",
        "G.node_attr['shape'] = 'Mrecord'\n",
        "for event, succesors in w_net.items():\n",
        "  G.add_node(event, style=\"rounded,filled\", fillcolor=\"#ffcccc\")\n",
        "  G.add_edges_from([(event, sc) for sc in succesors])\n",
        "G.draw('simple_heuristic_net.png', prog='dot')\n",
        "display(Image('simple_heuristic_net.png'))"
      ]
    },
    {
      "cell_type": "markdown",
      "metadata": {
        "id": "wrxG9Sp4dCXY"
      },
      "source": [
        "## Udoskonalanie modelu procesu \n",
        "\n",
        "Aby lepiej zobrazować proces warto dodać odpowiednie kolory dla zadań \\\\\n",
        "i zróżnicować grubości przepływów, w zależności od tego, \\\\\n",
        "jak często w logu występowało odpowiednio dane zdarzenie albo przepływ. \n",
        "\n",
        "W tym celu potrzebujemy określić minimalne i maksymalne wartości:"
      ]
    },
    {
      "cell_type": "code",
      "execution_count": null,
      "metadata": {
        "id": "yiopCYHjPvxO"
      },
      "outputs": [
        {
          "name": "stdout",
          "output_type": "stream",
          "text": [
            "[2, 2, 2, 2, 2, 2]\n"
          ]
        }
      ],
      "source": [
        "trace_counts = sorted(chain(*[c.values() for c in w_net.values()]))\n",
        "print(trace_counts)\n",
        "trace_min = trace_counts[0]\n",
        "trace_max = trace_counts[-1]\n",
        "color_min = ev_counter.min()\n",
        "color_max = ev_counter.max()"
      ]
    },
    {
      "cell_type": "markdown",
      "metadata": {
        "id": "bff_lvFafLM1"
      },
      "source": [
        "Teraz możemy do naszego modelu dodać zarówno kolory zadań, jak i grubości linii. \\\\\n",
        "Ponadto dodamy do naszego modelu zdarzenie początkowe i zmienimy sposób wyświetlania \\\\\n",
        "zarówno zdarzenia początkowego, jak i końcowego."
      ]
    },
    {
      "cell_type": "code",
      "execution_count": null,
      "metadata": {
        "colab": {
          "base_uri": "https://localhost:8080/",
          "height": 502
        },
        "id": "ZCVv1GGAQLsq",
        "outputId": "0e068cc4-6529-4b60-ac59-da887d74612c"
      },
      "outputs": [
        {
          "name": "stderr",
          "output_type": "stream",
          "text": [
            "C:\\Users\\Filip\\anaconda3\\envs\\Modelowanie\\lib\\site-packages\\pygraphviz\\agraph.py:1402: RuntimeWarning: Warning: Could not load \"C:\\Users\\Filip\\anaconda3\\envs\\Modelowanie\\Library\\bin\\gvplugin_pango.dll\" - It was found, so perhaps one of its dependents was not.  Try ldd.\n",
            "Warning: Could not load \"C:\\Users\\Filip\\anaconda3\\envs\\Modelowanie\\Library\\bin\\gvplugin_pango.dll\" - It was found, so perhaps one of its dependents was not.  Try ldd.\n",
            "Warning: Could not load \"C:\\Users\\Filip\\anaconda3\\envs\\Modelowanie\\Library\\bin\\gvplugin_pango.dll\" - It was found, so perhaps one of its dependents was not.  Try ldd.\n",
            "Warning: Could not load \"C:\\Users\\Filip\\anaconda3\\envs\\Modelowanie\\Library\\bin\\gvplugin_pango.dll\" - It was found, so perhaps one of its dependents was not.  Try ldd.\n",
            "Warning: Could not load \"C:\\Users\\Filip\\anaconda3\\envs\\Modelowanie\\Library\\bin\\gvplugin_pango.dll\" - It was found, so perhaps one of its dependents was not.  Try ldd.\n",
            "\n",
            "  warnings.warn(b\"\".join(errors).decode(self.encoding), RuntimeWarning)\n"
          ]
        },
        {
          "data": {
            "image/png": "[encoded data removed]",
            "text/plain": [
              "<IPython.core.display.Image object>"
            ]
          },
          "metadata": {},
          "output_type": "display_data"
        }
      ],
      "source": [
        " G = pgv.AGraph(strict= False, directed=True)\n",
        " G.graph_attr['rankdir'] = 'LR'\n",
        " G.node_attr['shape'] = 'Mrecord'\n",
        "\n",
        " G.add_node(\"start\", shape=\"circle\", label=\"\")\n",
        " for ev_start in ev_start_set:\n",
        "   G.add_edge(\"start\", ev_start)\n",
        "\n",
        " for event, succesors in w_net.items():\n",
        "  value = ev_counter[event]\n",
        "\n",
        "  if float(trace_max-trace_min) == 0:\n",
        "    color = int(80)\n",
        "  else:\n",
        "    color = int(float(trace_min-value)/float(trace_min-trace_max)*100.00)\n",
        "    \n",
        "  my_color = \"#ff9933\"+str(hex(color))[2:]\n",
        "  G.add_node(event, style=\"rounded,filled\", fillcolor=my_color, label=f'{event} - {value}')\n",
        "  for succesor, cnt in succesors.items():\n",
        "    if float(trace_max-trace_min) == 0:\n",
        "      G.add_edge(event, succesor, penwidth=4*cnt/10000, label=cnt)\n",
        "    else:\n",
        "      G.add_edge(event, succesor, penwidth=4*cnt/(trace_max-trace_min), label=cnt)\n",
        " G.add_node(\"end\", shape=\"circle\", label=\"\", penwidth='3')\n",
        " for ev_end in ev_end_set:\n",
        "   G.add_edge(ev_end, \"end\")\n",
        "\n",
        " G.draw('simple_heuristic_net_with_events.png', prog='dot')\n",
        " display(Image('simple_heuristic_net_with_events.png'))"
      ]
    },
    {
      "cell_type": "code",
      "execution_count": null,
      "metadata": {
        "id": "yiopCYHjPvxO"
      },
      "outputs": [],
      "source": [
        "# trace_counts = sorted(chain(*[c.values() for c in w_net.values()]))\n",
        "# trace_min = trace_counts[0]\n",
        "# trace_max = trace_counts[-1]\n",
        "# color_min = avgTime.min()\n",
        "# color_max = avgTime.max()"
      ]
    },
    {
      "cell_type": "code",
      "execution_count": null,
      "metadata": {
        "colab": {
          "base_uri": "https://localhost:8080/",
          "height": 502
        },
        "id": "ZCVv1GGAQLsq",
        "outputId": "0e068cc4-6529-4b60-ac59-da887d74612c"
      },
      "outputs": [
        {
          "ename": "NameError",
          "evalue": "name 'avgTime' is not defined",
          "output_type": "error",
          "traceback": [
            "\u001b[1;31m---------------------------------------------------------------------------\u001b[0m",
            "\u001b[1;31mNameError\u001b[0m                                 Traceback (most recent call last)",
            "\u001b[1;32mc:\\Users\\Filip\\Desktop\\Studia\\1 semestr\\Modelowanie biznes\\AGH\\MIAPB\\Part1\\Copy_of_Czesc1_2022_Odkrywanie_modeli.ipynb Cell 51'\u001b[0m in \u001b[0;36m<cell line: 9>\u001b[1;34m()\u001b[0m\n\u001b[0;32m      <a href='vscode-notebook-cell:/c%3A/Users/Filip/Desktop/Studia/1%20semestr/Modelowanie%20biznes/AGH/MIAPB/Part1/Copy_of_Czesc1_2022_Odkrywanie_modeli.ipynb#ch0000051?line=6'>7</a>\u001b[0m   G\u001b[39m.\u001b[39madd_edge(\u001b[39m\"\u001b[39m\u001b[39mstart\u001b[39m\u001b[39m\"\u001b[39m, ev_start)\n\u001b[0;32m      <a href='vscode-notebook-cell:/c%3A/Users/Filip/Desktop/Studia/1%20semestr/Modelowanie%20biznes/AGH/MIAPB/Part1/Copy_of_Czesc1_2022_Odkrywanie_modeli.ipynb#ch0000051?line=8'>9</a>\u001b[0m \u001b[39mfor\u001b[39;00m event, succesors \u001b[39min\u001b[39;00m w_net\u001b[39m.\u001b[39mitems():\n\u001b[1;32m---> <a href='vscode-notebook-cell:/c%3A/Users/Filip/Desktop/Studia/1%20semestr/Modelowanie%20biznes/AGH/MIAPB/Part1/Copy_of_Czesc1_2022_Odkrywanie_modeli.ipynb#ch0000051?line=9'>10</a>\u001b[0m  value \u001b[39m=\u001b[39m avgTime[event]\n\u001b[0;32m     <a href='vscode-notebook-cell:/c%3A/Users/Filip/Desktop/Studia/1%20semestr/Modelowanie%20biznes/AGH/MIAPB/Part1/Copy_of_Czesc1_2022_Odkrywanie_modeli.ipynb#ch0000051?line=11'>12</a>\u001b[0m  \u001b[39mif\u001b[39;00m \u001b[39mfloat\u001b[39m(color_min\u001b[39m-\u001b[39mcolor_max) \u001b[39m==\u001b[39m \u001b[39m0\u001b[39m:\n\u001b[0;32m     <a href='vscode-notebook-cell:/c%3A/Users/Filip/Desktop/Studia/1%20semestr/Modelowanie%20biznes/AGH/MIAPB/Part1/Copy_of_Czesc1_2022_Odkrywanie_modeli.ipynb#ch0000051?line=12'>13</a>\u001b[0m    color \u001b[39m=\u001b[39m \u001b[39mint\u001b[39m(\u001b[39m50\u001b[39m)\n",
            "\u001b[1;31mNameError\u001b[0m: name 'avgTime' is not defined"
          ]
        }
      ],
      "source": [
        "#  G = pgv.AGraph(strict= False, directed=True)\n",
        "#  G.graph_attr['rankdir'] = 'LR'\n",
        "#  G.node_attr['shape'] = 'Mrecord'\n",
        "\n",
        "#  G.add_node(\"start\", shape=\"circle\", label=\"\")\n",
        "#  for ev_start in ev_start_set:\n",
        "#    G.add_edge(\"start\", ev_start)\n",
        "\n",
        "#  for event, succesors in w_net.items():\n",
        "#   value = avgTime[event]\n",
        "\n",
        "#   if float(color_min-color_max) == 0:\n",
        "#     color = int(50)\n",
        "#   else:\n",
        "#     color = int(float(color_min-value)/float(color_min-color_max)*100.00)\n",
        "    \n",
        "#   my_color = \"#ff9933\"+str(hex(color))[2:]\n",
        "#   G.add_node(event, style=\"rounded,filled\", fillcolor=my_color, label=f'{event} - {value}')\n",
        "#   for succesor, cnt in succesors.items():\n",
        "#     if float(trace_max-trace_min) == 0:\n",
        "#       G.add_edge(event, succesor, penwidth=4*cnt/10000, label=cnt)\n",
        "#     else:\n",
        "#       G.add_edge(event, succesor, penwidth=4*cnt/(trace_max-trace_min)+0.1, label=cnt)\n",
        "#  G.add_node(\"end\", shape=\"circle\", label=\"\", penwidth='3')\n",
        "#  for ev_end in ev_end_set:\n",
        "#    G.add_edge(ev_end, \"end\")\n",
        "\n",
        "#  G.draw('simple_heuristic_net_with_events.png', prog='dot')\n",
        "#  display(Image('simple_heuristic_net_with_events.png'))\n",
        "\n",
        "#  print(filter1)\n",
        "#  print(filter2)"
      ]
    },
    {
      "cell_type": "markdown",
      "metadata": {
        "id": "jBoGAhEChlE5"
      },
      "source": [
        "## Ćwiczenia rozszerzające model\n",
        "\n",
        "1. Zmodyfikuj etykiety zadań w modelu, tak by dla każdego zadania oprócz nazwy wyświetlana była także liczba wystąpień odpowiadającego mu zdarzenia w logu. \n",
        "Dodaj opcję filtrowania (po zdarzeniach lub przepływach) w zależności od określonych progów, aby pokazać lub ukryć zadania lub przepływy zgodnie z wybranym progiem. Zaprezentuj modele dla wybranych progów np. 420 dla przepływów, 700 dla zdarzeń (osobno i razem). \n",
        "\n",
        "2. Dodaj możliwość ustawiania progów przez użytkownika (poprzez podanie liczby lub użycie suwaka z `ipywidgets`) i wyświetlania przefiltrowanego modelu. Przetestuj jego działanie na różnych progach, aby określić, czy model wygląda prawidłowo, w szczególności, czy jakieś zdania nie zostają odczepione od modelu lub nie są prawidłowo połączone z modelem, np. jeśli wcześniej zadanie występowało pomiędzy innymi zadaniami nie należy filtrować wszystkich przepływów, nawet jeśli są poniżej progu.\n",
        "\n",
        "3. Zmodyfikuj progowanie, tak aby w takim wypadku zachować najlepszy przepływ, aby zadanie było połączone z pozostałymi co najmniej jednym wchodzącym i co najmniej jednym wychodzącym przepływem. Zaprezentuj modele po prostej filtracji i porównaj je z modelami po poprawionej filtracji.\n",
        "\n",
        "4. Dodaj perspektywę wydajności, tzn. oblicz średni czas trwania i pokoloruj zadania zgodnie z czasem ich trwania, a przepływy odpowiedniej grubości.\n",
        "\n",
        "5. Na podstawie obserwacji otrzymanego modelu, jakie wnioski można wyciągnąć z odkrytego procesu naprawy telefonów? Pomyśl o kilku wnioskach wynikających z obserwacji modelu i dotyczących odkrytego procesu, najlepiej takich, które nie są oczywiste, czy ogólne (dotyczące dowolnych modeli procesów).  \n",
        "\n",
        "6. (*nadobowiązkowe*) Istnieją biblioteki do animowania grafów np. `GraphvizAnim`. Przy użyciu tego typu biblioteki można pokusić się o wyświetlenie animacji, jak przebiegał proces wg logu (podświetlając odpowiednie elementy). Jak może wyglądać bardzo zaawansowana animacja takiego modelu można zobaczyć w komercyjnym narzędziu [Disco](https://fluxicon.com/disco/).\n",
        "\n",
        "Zadania mogą być realizowane w parach, natomiast w sprawozdaniu należy podać wtedy imiona i nazwiska osób z pary oraz każda osoba powinna wysłać zadanie/sprawozdanie przez system MS Teams osobno. \n",
        "\n",
        "W sprawozdaniu należy umieścić odpowiednie krótkie opisy z realizacji poszczególnych punktów, zrzuty ekranu oraz kod źródłowy (istotne fragmenty kodu ze zmianami). \n",
        "\n",
        "Sprawozdanie z wykonanych ćwiczeń należy przesłać przez platformę MS Teams do 24.03.2022 w postaci:\n",
        "  - pdf z raportem o wykonaniu ćwiczeń,\n",
        "  - ipynb z wykonanymi ćwiczeniami (pdf oraz ipynb).\n"
      ]
    },
    {
      "cell_type": "markdown",
      "metadata": {
        "id": "uLPF0V6frtFE"
      },
      "source": [
        "## Dodatkowe informacje\n",
        "\n",
        "Podobne modele, do tych odkrywanych w czasie laboratorium, można odkryć i eksplorować przy użyciu np. komercyjnego oprogramowania [Disco](https://fluxicon.com/disco/). Z kolei dużo więcej algorytmów i modeli jest zaimplementowanych w oprogramowaniu open-source [ProM](http://www.promtools.org/), jednakże jego obsługa jest dość skomplikowana.\n",
        "\n",
        "Dziękuję za udział w zajęciach! \\\\\n",
        "Krzysztof Kluza \\\\\n",
        "kluza@agh.edu.pl\n"
      ]
    }
  ],
  "metadata": {
    "colab": {
      "collapsed_sections": [],
      "include_colab_link": true,
      "name": "Copy of Czesc1-2022-Odkrywanie-modeli",
      "provenance": [],
      "toc_visible": true
    },
    "kernelspec": {
      "display_name": "Python 3",
      "name": "python3"
    },
    "language_info": {
      "codemirror_mode": {
        "name": "ipython",
        "version": 3
      },
      "file_extension": ".py",
      "mimetype": "text/x-python",
      "name": "python",
      "nbconvert_exporter": "python",
      "pygments_lexer": "ipython3",
      "version": "3.9.10"
    }
  },
  "nbformat": 4,
  "nbformat_minor": 0
}
