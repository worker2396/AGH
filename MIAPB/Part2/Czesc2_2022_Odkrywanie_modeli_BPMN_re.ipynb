{
  "cells": [
    {
      "cell_type": "markdown",
      "metadata": {
        "colab_type": "text",
        "id": "view-in-github"
      },
      "source": [
        "<a href=\"https://colab.research.google.com/github/worker2396/AGH/blob/main/Czesc2_2022_Odkrywanie_modeli_BPMN.ipynb\" target=\"_parent\"><img src=\"https://colab.research.google.com/assets/colab-badge.svg\" alt=\"Open In Colab\"/></a>"
      ]
    },
    {
      "cell_type": "markdown",
      "metadata": {
        "id": "PN5EVbczW5Ux"
      },
      "source": [
        "# Odkrywanie modeli procesów w BPMN przy użyciu dostosowanego do notacji BPMN algorytmu Alpha Miner\n",
        "\n",
        "Na tym etapie projektu omówimy proste rozwiązanie z zakresu odkrywania modeli procesów -- na potrzeby zrozumienia sposobu odkrywania bram zastosujemy nieco zmieniony algorytm Alpha przystosowany do odkrywania modeli w notacji BPMN.\n",
        "\n",
        "Elementy tego rozwiązania powinny zostać zintegrowane z rozwiązaniem z poprzednich ćwiczeń."
      ]
    },
    {
      "cell_type": "markdown",
      "metadata": {
        "id": "40TVLT-Vgp0Y"
      },
      "source": [
        "## Konfiguracja środowiska\n",
        "\n",
        "Przed implementacją potrzebujemy jeszcze odpowiednie środowisko:"
      ]
    },
    {
      "cell_type": "code",
      "execution_count": 68,
      "metadata": {
        "id": "1K-DMpoLgqr4"
      },
      "outputs": [],
      "source": [
        "import pygraphviz as pgv\n",
        "from itertools import product\n",
        "from collections import defaultdict\n",
        "from typing import Dict, Set\n",
        "from IPython.display import Image, display\n",
        "import pandas as pd\n",
        "from pm4py.objects.conversion.log import converter as xes_converter\n",
        "from pm4py.objects.log.importer.xes import importer as xes_importer"
      ]
    },
    {
      "cell_type": "markdown",
      "metadata": {
        "id": "jPIEZOUwYGOd"
      },
      "source": [
        "## Przykładowy log dla zrozumienia działania algorytmu\n",
        "\n",
        "Rozważmy następujące ślady (warianty) pewnego dziennika zdarzeń:\n",
        "\n",
        "```\n",
        "a b c d e g\n",
        "a b c d f g \n",
        "a c b d e g\n",
        "a c b d f g\n",
        "```\n",
        "\n",
        "Dla takiego zbioru wariantów, w oparciu o algorytm Alpha, możemy znaleźć następujące relacje (x,y — zdarzenia):\n",
        "\n",
        "* (>) **następstwo bezpośrednie**: x>y jeśli w dowolnym wariancie bezpośrednim następstwem zdarzenia x jest zdarzenie y,\n",
        "* (→) **przyczynowość**: x→y iff x>y & not y>x,\n",
        "* (||) **potencjalna równoległość**: x||y iff x>y & y>x,\n",
        "* (#) **wybór/niepowiązanie/brak bezpośredniego następstwa**: x#y iff not x>y & not y>x.\n",
        "\n",
        "W naszej implementacji nie musimy używać bezpośrednio relacji **brak bezpośredniego następstwa**, gdyż zamiast tego wystarczy sprawdzić, czy dane zdarzenia nie są w jednej z relacji: **przyczynowość** lub **potencjalna równoległość**."
      ]
    },
    {
      "cell_type": "markdown",
      "metadata": {
        "id": "8_zGYPubYJQN"
      },
      "source": [
        "\n",
        "## Manualne określenie relacji\n",
        "\n",
        "Analogicznie jak na poprzednim laboratorium należy określić zbiory zdarzeń początkowych oraz końcowych:"
      ]
    },
    {
      "cell_type": "markdown",
      "metadata": {},
      "source": []
    },
    {
      "cell_type": "code",
      "execution_count": 69,
      "metadata": {
        "id": "TTivaKngadWM"
      },
      "outputs": [
        {
          "name": "stderr",
          "output_type": "stream",
          "text": [
            "parsing log, completed traces :: 100%|██████████| 4/4 [00:00<00:00, 3997.43it/s]"
          ]
        },
        {
          "name": "stdout",
          "output_type": "stream",
          "text": [
            "{'1': ['b', 'c', 'd', 'e'], '2': ['b', 'c', 'e', 'd'], '3': ['a', 'c', 'd', 'e'], '4': ['a', 'c', 'e', 'd']}\n",
            "{'b', 'a'}\n",
            "{'d', 'e'}\n",
            "<class 'dict'>\n"
          ]
        },
        {
          "name": "stderr",
          "output_type": "stream",
          "text": [
            "\n"
          ]
        }
      ],
      "source": [
        "file = input()\n",
        "start_set_events = set()\n",
        "end_set_events = set()\n",
        "if file.endswith('.csv'):\n",
        "    df = pd.read_csv(file)\n",
        "    data = {1: 0,\n",
        "    2: 0,\n",
        "    3: 0,\n",
        "    4: 0}\n",
        "    for case in df['Case ID']:\n",
        "        if help == case: \n",
        "            continue\n",
        "        df1 = df.loc[df['Case ID'] == case]\n",
        "        # print(df1)\n",
        "        df1 = df1[\"Activity\"].values.tolist()\n",
        "        help = case\n",
        "        data[case] = df1\n",
        "elif file.endswith('.xes'):\n",
        "    log = xes_importer.apply(file)\n",
        "    pd = xes_converter.apply(log, variant=xes_converter.TO_DATA_FRAME)\n",
        "    df = pd\n",
        "    data = {}\n",
        "    for case in df['case:concept:name']:\n",
        "        if help == case: \n",
        "                continue\n",
        "        df1 = df.loc[df['case:concept:name'] == case]\n",
        "        df1 = df1[\"Activity\"].values.tolist()\n",
        "        help = case\n",
        "        data[case] = df1\n",
        "elif file == 'test':\n",
        "    data ={1: ['a', 'b', 'c', 'd', 'e', 'h', 'i', 'k'], \n",
        "2: ['a', 'b', 'd', 'c', 'e', 'h', 'j', 'k'],\n",
        "3: ['a', 'f', 'g', 'h', 'i', 'k']}       \n",
        "\n",
        "print(data)\n",
        "\n",
        "for key, lists in data.items():\n",
        "    start_set_events.update(set(lists[0]))\n",
        "    end_set_events.update(set(lists[-1]))\n",
        "print(start_set_events)\n",
        "print(end_set_events)\n",
        "print(type(data))"
      ]
    },
    {
      "cell_type": "code",
      "execution_count": null,
      "metadata": {},
      "outputs": [],
      "source": []
    },
    {
      "cell_type": "markdown",
      "metadata": {
        "id": "IRj6b93DYJrH"
      },
      "source": [
        "Następnie określimy relacje, tak jak zdefiniowano w algorytmie Alpha:"
      ]
    },
    {
      "cell_type": "code",
      "execution_count": 70,
      "metadata": {
        "id": "ozY5O6kUahIJ"
      },
      "outputs": [
        {
          "name": "stdout",
          "output_type": "stream",
          "text": [
            "LOL\n"
          ]
        },
        {
          "data": {
            "text/plain": [
              "{'b': {'c'}, 'c': {'d', 'e'}, 'd': {'e'}, 'e': {'d'}, 'a': {'c'}}"
            ]
          },
          "execution_count": 70,
          "metadata": {},
          "output_type": "execute_result"
        }
      ],
      "source": [
        "def get_direct_succession(Data):\n",
        "    direct_s = dict()\n",
        "    value_s = []\n",
        "    for key, value in Data.items():\n",
        "        for i, l in enumerate(value):\n",
        "            if l in direct_s.keys():\n",
        "                try:\n",
        "                    direct_s[l].update(set(value[i+1]))\n",
        "                except:\n",
        "                    continue\n",
        "            else:\n",
        "                try:\n",
        "                    direct_s[l] = set(value[i+1])\n",
        "                except:\n",
        "                    print(\"LOL\")\n",
        "    return direct_s\n",
        "direct_s = get_direct_succession(data)\n",
        "direct_s"
      ]
    },
    {
      "cell_type": "markdown",
      "metadata": {
        "id": "U8esT_-zq62H"
      },
      "source": [
        "Na bazie powyższych relacji oraz poniższych wzorców postaramy się zbudować model procesu w notacji BPMN:\n",
        "![pm-alpha-patterns.png](data:image/png;base64,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)\n"
      ]
    },
    {
      "cell_type": "markdown",
      "metadata": {
        "id": "FJFdwh8RgsOP"
      },
      "source": [
        "Na potrzeby naszej implementacji możemy również zdefiniować odwróconą przyczynowość dla tych zdarzeń w relacji przyczynowości, które mają wspólną przyczynę (nie jest to część samego algorytmu alfa, ale może być pomocne jako zmienna tymczasowa przy korzystaniu z wzorców alfa mining):"
      ]
    },
    {
      "cell_type": "code",
      "execution_count": 71,
      "metadata": {
        "id": "7IdkSi0xKNUK"
      },
      "outputs": [],
      "source": [
        "def get_causality(direct_s) -> Dict[str, Set[str]]:\n",
        "    causality = defaultdict(set)\n",
        "    for ev_cause, events in direct_s.items():\n",
        "        for event in events:\n",
        "            if ev_cause not in direct_s.get(event, set()):\n",
        "                causality[ev_cause].add(event)\n",
        "    return dict(causality)"
      ]
    },
    {
      "cell_type": "code",
      "execution_count": 72,
      "metadata": {
        "colab": {
          "base_uri": "https://localhost:8080/"
        },
        "id": "rKxKEumhKYfk",
        "outputId": "5c68ae30-e992-414a-8d70-08c3e3f75f34"
      },
      "outputs": [
        {
          "data": {
            "text/plain": [
              "{'b': {'c'}, 'c': {'d', 'e'}, 'a': {'c'}}"
            ]
          },
          "execution_count": 72,
          "metadata": {},
          "output_type": "execute_result"
        }
      ],
      "source": [
        "causality = get_causality(direct_s)\n",
        "causality"
      ]
    },
    {
      "cell_type": "code",
      "execution_count": 73,
      "metadata": {},
      "outputs": [
        {
          "name": "stdout",
          "output_type": "stream",
          "text": [
            "e ('d', 'e')\n"
          ]
        },
        {
          "data": {
            "text/plain": [
              "{('d', 'e')}"
            ]
          },
          "execution_count": 73,
          "metadata": {},
          "output_type": "execute_result"
        }
      ],
      "source": [
        "keys = list()\n",
        "for key, value in direct_s.items():\n",
        "    keys.append(key)\n",
        "parallel_events = set()\n",
        "lista = list()\n",
        "# set(keys)\n",
        "keys.sort()\n",
        "for i, keyss in enumerate(keys):\n",
        "        if i < (len(keys)-1):\n",
        "            if (keys[i]) in (direct_s[keys[i+1]]) and (keys[i+1]) and (direct_s[keys[i]]):\n",
        "                tuplez = (keys[i], keys[i+1])\n",
        "\n",
        "                parallel_events.update([tuplez])\n",
        "\n",
        "listas = list(parallel_events)\n",
        "set1 = set()\n",
        "set2 = set()\n",
        "set3 = set()\n",
        "setss = [set1, set2, set3]\n",
        "for i, listass in enumerate(listas):\n",
        "    for j, vals in enumerate(listass):\n",
        "        if listass[j] in listas[i] and i != j:\n",
        "            print(listass[j], listas[i])\n",
        "            setss[i] = set(listas[i])\n",
        "\n",
        "            set1.update((setss[i]))\n",
        "parallel_events.update([tuple(set1)])\n",
        "parallel_events"
      ]
    },
    {
      "cell_type": "code",
      "execution_count": 74,
      "metadata": {
        "id": "oNgKPQCs_Et7"
      },
      "outputs": [],
      "source": [
        "def get_inv_causality(direct_s) -> Dict[str, Set[str]]:\n",
        "    inv_causality = defaultdict(set)\n",
        "    for key, values in causality.items():\n",
        "        for value in values: \n",
        "          inv_causality[value].add(key)\n",
        "    return {k: v for k, v in inv_causality.items() if len(v) > 1}"
      ]
    },
    {
      "cell_type": "code",
      "execution_count": 75,
      "metadata": {
        "colab": {
          "base_uri": "https://localhost:8080/"
        },
        "id": "5IhVfFLg7Q4W",
        "outputId": "a1ccb5d5-2741-485a-b4bb-c1dcd67c693a"
      },
      "outputs": [
        {
          "data": {
            "text/plain": [
              "{'c': {'a', 'b'}}"
            ]
          },
          "execution_count": 75,
          "metadata": {},
          "output_type": "execute_result"
        }
      ],
      "source": [
        "inv_causality = get_inv_causality(causality)\n",
        "inv_causality"
      ]
    },
    {
      "cell_type": "markdown",
      "metadata": {
        "id": "NY1RZ--Hg-lq"
      },
      "source": [
        "## Wyświetlenie prostego modelu BPMN\n",
        "\n",
        "Poniżej zaprezentowano przykładowy kod umożliwiający wyświetlenie modelu z użyciem podstawowych elementów BPMN:"
      ]
    },
    {
      "cell_type": "code",
      "execution_count": 76,
      "metadata": {
        "colab": {
          "base_uri": "https://localhost:8080/",
          "height": 204
        },
        "id": "4npmdlixbrN0",
        "outputId": "e9167cab-395e-4aed-dc3b-9c5075da62d7"
      },
      "outputs": [
        {
          "name": "stderr",
          "output_type": "stream",
          "text": [
            "C:\\Users\\Filip\\anaconda3\\envs\\Modelowanie\\lib\\site-packages\\pygraphviz\\agraph.py:1402: RuntimeWarning: Warning: Could not load \"C:\\Users\\Filip\\anaconda3\\envs\\Modelowanie\\Library\\bin\\gvplugin_pango.dll\" - It was found, so perhaps one of its dependents was not.  Try ldd.\n",
            "Warning: Could not load \"C:\\Users\\Filip\\anaconda3\\envs\\Modelowanie\\Library\\bin\\gvplugin_pango.dll\" - It was found, so perhaps one of its dependents was not.  Try ldd.\n",
            "Warning: Could not load \"C:\\Users\\Filip\\anaconda3\\envs\\Modelowanie\\Library\\bin\\gvplugin_pango.dll\" - It was found, so perhaps one of its dependents was not.  Try ldd.\n",
            "Warning: no value for width of non-ASCII character 195. Falling back to width of space character\n",
            "Warning: Could not load \"C:\\Users\\Filip\\anaconda3\\envs\\Modelowanie\\Library\\bin\\gvplugin_pango.dll\" - It was found, so perhaps one of its dependents was not.  Try ldd.\n",
            "Warning: Could not load \"C:\\Users\\Filip\\anaconda3\\envs\\Modelowanie\\Library\\bin\\gvplugin_pango.dll\" - It was found, so perhaps one of its dependents was not.  Try ldd.\n",
            "\n",
            "  warnings.warn(b\"\".join(errors).decode(self.encoding), RuntimeWarning)\n"
          ]
        },
        {
          "data": {
            "image/png": "[encoded data removed]",
            "text/plain": [
              "<IPython.core.display.Image object>"
            ]
          },
          "metadata": {},
          "output_type": "display_data"
        }
      ],
      "source": [
        "class MyGraph(pgv.AGraph):\n",
        " \n",
        "    def __init__(self, *args):\n",
        "        super(MyGraph, self).__init__(strict=False, directed=True, *args)\n",
        "        self.graph_attr['rankdir'] = 'LR'\n",
        "        self.node_attr['shape'] = 'Mrecord'\n",
        "        self.graph_attr['splines'] = 'ortho'\n",
        "        self.graph_attr['nodesep'] = '0.8'\n",
        "        self.edge_attr.update(penwidth='2')\n",
        " \n",
        "    def add_event(self, name):\n",
        "        super(MyGraph, self).add_node(name, shape=\"circle\", label=\"\")\n",
        " \n",
        "    def add_end_event(self, name):\n",
        "        super(MyGraph, self).add_node(name, shape=\"circle\", label=\"\",penwidth='3')\n",
        "\n",
        "    def add_and_gateway(self, *args):\n",
        "        super(MyGraph, self).add_node(*args, shape=\"diamond\",\n",
        "                                  width=\".7\",height=\".7\",\n",
        "                                  fixedsize=\"true\",\n",
        "                                  fontsize=\"40\",label=\"+\")\n",
        " \n",
        "    def add_xor_gateway(self, *args, **kwargs):\n",
        "        super(MyGraph, self).add_node(*args, shape=\"diamond\",\n",
        "                                  width=\".7\",height=\".7\",\n",
        "                                  fixedsize=\"true\",\n",
        "                                  fontsize=\"40\",label=\"×\")\n",
        " \n",
        "    def add_and_split_gateway(self, source, targets, *args):\n",
        "        gateway = 'ANDs '+str(source)+'->'+str(targets)        \n",
        "        self.add_and_gateway(gateway,*args)\n",
        "        super(MyGraph, self).add_edge(source, gateway)\n",
        "        for target in targets:\n",
        "            super(MyGraph, self).add_edge(gateway, target)\n",
        " \n",
        "    def add_xor_split_gateway(self, source, targets, *args):\n",
        "        gateway = 'XORs '+str(source)+'->'+str(targets) \n",
        "        self.add_xor_gateway(gateway, *args)\n",
        "        super(MyGraph, self).add_edge(source, gateway)\n",
        "        for target in targets:\n",
        "            super(MyGraph, self).add_edge(gateway, target)\n",
        " \n",
        "    def add_and_merge_gateway(self, sources, target, *args):\n",
        "        gateway = 'ANDm '+str(sources)+'->'+str(target)\n",
        "        self.add_and_gateway(gateway,*args)\n",
        "        super(MyGraph, self).add_edge(gateway,target)\n",
        "        for source in sources:\n",
        "            super(MyGraph, self).add_edge(source, gateway)\n",
        " \n",
        "    def add_xor_merge_gateway(self, sources, target, *args):\n",
        "        gateway = 'XORm '+str(sources)+'->'+str(target)\n",
        "        self.add_xor_gateway(gateway, *args)\n",
        "        super(MyGraph, self).add_edge(gateway,target)\n",
        "        for source in sources:\n",
        "            super(MyGraph, self).add_edge(source, gateway)\n",
        "\n",
        "G = MyGraph()\n",
        "\n",
        "# adding start event\n",
        "G.add_event(\"start\")\n",
        "if len(start_set_events) > 1:\n",
        "    if tuple(start_set_events) in parallel_events: \n",
        "        G.add_and_split_gateway(\"start\",start_set_events)\n",
        "    else:\n",
        "        G.add_xor_split_gateway(\"start\",start_set_events)\n",
        "else: \n",
        "    G.add_edge(\"start\",list(start_set_events)[0])\n",
        "\n",
        "# adding split gateways based on causality\n",
        "for event in causality:\n",
        "    if len(causality[event]) > 1:\n",
        "        if tuple(causality[event]) in parallel_events:        \n",
        "            G.add_and_split_gateway(event,causality[event])\n",
        "        else:\n",
        "            G.add_xor_split_gateway(event,causality[event])\n",
        " \n",
        "# adding merge gateways based on inverted causality\n",
        "for event in inv_causality:\n",
        "    if len(inv_causality[event]) > 1:\n",
        "        if tuple(inv_causality[event]) in parallel_events:\n",
        "            G.add_and_merge_gateway(inv_causality[event],event)\n",
        "        else:\n",
        "            G.add_xor_merge_gateway(inv_causality[event],event)\n",
        "    elif len(inv_causality[event]) == 1:\n",
        "        source = list(inv_causality[event])[0]\n",
        "        G.add_edge(source,event)\n",
        "\n",
        "# adding end event\n",
        "G.add_end_event(\"end\")\n",
        "if len(end_set_events) > 1:\n",
        "    if tuple(end_set_events) in parallel_events: \n",
        "        G.add_and_merge_gateway(end_set_events,\"end\")\n",
        "    else:\n",
        "        G.add_xor_merge_gateway(end_set_events,\"end\")    \n",
        "else: \n",
        "    G.add_edge(list(end_set_events)[0],\"end\")\n",
        "\n",
        "G.draw('simple_process_model.png', prog='dot')\n",
        "display(Image('simple_process_model.png'))"
      ]
    },
    {
      "cell_type": "markdown",
      "metadata": {
        "id": "wrvpFMtBsau7"
      },
      "source": [
        "## Ćwiczenia rozszerzające model\n",
        "\n",
        "1. Dopisz odpowiednie fragmenty kodu, tak aby móc uzyskać odpowiednie zbiory zdarzeń i relacje automatycznie. Sprawdź wynik dla poniższego przykładowego zbioru wariantów:\n",
        "\n",
        "```\n",
        "a b c d e h i k \n",
        "a b d c e h j k \n",
        "a f g h i k\n",
        "```\n",
        "\n",
        "```\n",
        "direct_succession = {\n",
        "    'a': {'b', 'f'},\n",
        "    'b': {'c', 'd'},\n",
        "    'c': {'d', 'e'},\n",
        "    'd': {'c', 'e'},\n",
        "    'e': {'h'},\n",
        "    'f': {'g'},\n",
        "    'g': {'h'},\n",
        "    'h': {'i', 'j'},\n",
        "    'i': {'k'},\n",
        "    'j': {'k'}\n",
        "}\n",
        "```\n",
        "2. Zastanów się nad uogólnieniem relacji na wiele zdarzeń, tzn. jak powinny być wykrywane bramy posiadające wiele przepływów wejściowych lub wiele przepływów wyjściowych, a także co w przypadku, gdy relacje dla wielu zdarzeń są różne.\n",
        "\n",
        "  * Przetestuj swoje rozwiązanie na zestawie prostszych logów (zestaw A), które zostaną udostępnione na MS Teams. W sprawozdaniu proszę zamieścić wyniki działania rozwiązania dla całego zestawu.\n",
        "\n",
        "3. Zintegruj odkrywanie relacji z dzisiejszych zajęć z minerem stworzonym w ramach poprzednich zajęć i rozszerz ich działanie. \n",
        "\n",
        "  * Przemyśl między innymi, jak powinno zachowywać się filtrowanie w przypadku wykrywanych relacji. \n",
        "\n",
        "  * Uwaga! Pamiętaj, że realne logi mogą dla algorytmu Alpha nie dawać sensownych rezultatów, ze względu na ograniczenia samego algorytmu. Ponadto przedstawiony sposób wizualizacji BPMN może być nieestetyczny w przypadku skomplikowanego układu bramek lub pętli.\n",
        "\n",
        "4. Dodaj możliwość przesłania pliku dziennika zdarzeń w celu wykrycia procesu:\n",
        "\n",
        "  * Automatyczne wykryj typ pliku logu (`csv`, `xes`) i załaduj odpowiednie dane z pliku. Plik `xes` w formacie XML można załadować np. biblioteką `opyenxes`.\n",
        "\n",
        "  * W przypadku pliku `csv`, spróbuj dopasować ID przypadku, aktywność i znacznik czasu, lub jeśli nie są one dopasowane, poproś użytkownika o określenie odpowiednich kolumn.\n",
        "\n",
        "5. Rozbuduj opracowany algorytm o wykrywanie dodatkowych relacji/konstrukcji z algorytmu Alpha+ (krótkie pętle: *self-loops* oraz *short-loops*). \n",
        "\n",
        "  * Przetestuj swoje rozwiązanie na zestawie prostszych logów (zestaw B), które zostaną udostępnione na MS Teams. W sprawozdaniu proszę zamieścić wyniki działania rozwiązania dla całego zestawu.\n",
        "\n",
        "6. (*nadobowiązkowe*) Biblioteka używana do wizualizacji ma pewne ograniczenia, więc wyświetlany model BPMN nie zawsze będzie dobrze wyglądał. Osoby zainteresowane mogą zapoznać się z możliwościami rozbudowy swojego projektu poprzez:\n",
        "\n",
        "  * Eksport diagramów BPMN w standaryzowanym formacie XML — można go zrealizować przy użyciu np. `bpmn-python` (https://github.com/KrzyHonk/bpmn-python).\n",
        "  * Przygotowanie interaktywnej wizualizacji przy użyciu np. `pyvis` (https://pyvis.readthedocs.io/en/latest/index.html) albo `bpmn-js` (https://bpmn.io/toolkit/bpmn-js/).\n",
        "\n",
        "Dzisiejszy temat jest przewidziany do realizacji przez 2 tygodnie zajęciowe, zatem kolejne zajęcia w marcu będą miały formę konsultacyjną. \n",
        "\n",
        "Zadania mogą być realizowane w parach, natomiast w sprawozdaniu należy podać wtedy imiona i nazwiska osób z pary oraz każda osoba powinna wysłać zadanie/sprawozdanie przez system MS Teams osobno. W sprawozdaniu należy umieścić odpowiednie zrzuty ekranu oraz kod źródłowy (fragment kodu ze zmianami). \n",
        "**Sprawozdanie z wykonanych ćwiczeń należy przesłać przez platformę MS Teams do 10.04.2021**. Sprawozdanie (pdf + kod w pliku py albo ipynb).\n"
      ]
    },
    {
      "cell_type": "markdown",
      "metadata": {
        "id": "_nWnYQY2ifFx"
      },
      "source": [
        "## Dodatkowe informacje\n",
        "\n",
        "W razie potrzeby dodatkowych konsultacji proszę o informację lub ewentualne pytania e-mailowo, na messengerze albo na MS Teams. \n",
        "\n",
        "Dziękuję za udział w zajęciach! \\\\\n",
        "Krzysztof Kluza \\\\\n",
        "kluza@agh.edu.pl\n"
      ]
    }
  ],
  "metadata": {
    "colab": {
      "include_colab_link": true,
      "name": "Czesc2-2022-Odkrywanie-modeli-BPMN",
      "provenance": []
    },
    "kernelspec": {
      "display_name": "Python 3",
      "name": "python3"
    },
    "language_info": {
      "name": "python",
      "version": "3.9.10"
    }
  },
  "nbformat": 4,
  "nbformat_minor": 0
}
