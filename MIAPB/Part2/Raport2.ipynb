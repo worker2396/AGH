{
 "cells": [
  {
   "cell_type": "markdown",
   "metadata": {},
   "source": [
    "# Raport do ćwiczenia realizującego część II z pfzedmiotu MiAPB #\n",
    "19.04.2022 \n",
    "Autorzy, Roman Dembrovskyi, Filip Żmijewski\n",
    "\n",
    "### Ćwiczenia ###\n",
    "1. Dopisz odpowiednie fragmenty kodu, tak aby móc uzyskać odpowiednie zbiory zdarzeń i relacje automatycznie. Sprawdź wynik dla poniższego przykładowego zbioru wariantów:"
   ]
  },
  {
   "cell_type": "code",
   "execution_count": null,
   "metadata": {},
   "outputs": [],
   "source": [
    "def get_direct_succession(Data):\n",
    "    direct_s = dict()\n",
    "    value_s = []\n",
    "    for key, value in Data.items():\n",
    "        for i, l in enumerate(value):\n",
    "            if l in direct_s.keys():\n",
    "                try:\n",
    "                    direct_s[l].update(set(value[i+1]))\n",
    "                except:\n",
    "                    continue\n",
    "            else:\n",
    "                try:\n",
    "                    direct_s[l] = set(value[i+1])\n",
    "                except:\n",
    "                    print(\"Tak\")\n",
    "    return direct_s\n",
    "direct_s = get_direct_succession(data)\n",
    "direct_s"
   ]
  },
  {
   "cell_type": "markdown",
   "metadata": {},
   "source": [
    "Powyższy kod pzowala na uzyskanie odpowiednich zbiorów zdarzeń oraz relacji automatycznych, dane przekazywane są jako argument funkcji get_direct_succession. "
   ]
  },
  {
   "cell_type": "markdown",
   "metadata": {},
   "source": [
    "{'a': {'b', 'f'},\n",
    " 'b': {'c', 'd'},\n",
    " 'c': {'d', 'e'},\n",
    " 'd': {'c', 'e'},\n",
    " 'e': {'h'},\n",
    " 'h': {'i', 'j'},\n",
    " 'i': {'k'},\n",
    " 'j': {'k'},\n",
    " 'f': {'g'},\n",
    " 'g': {'h'}}\n",
    "\n",
    " Dzięki zastosowaniu tego algorytmu udało się uzyskać poprawny wynik dla przykładowego pakietu danych. Powyższy zbiór relacji to wynik działania algorytmu, zgodny z zaprezentowanym rozwiązaniem."
   ]
  },
  {
   "cell_type": "markdown",
   "metadata": {},
   "source": [
    "2. Zastanów się nad uogólnieniem relacji na wiele zdarzeń, tzn. jak powinny być wykrywane bramy posiadające wiele przepływów wejściowych lub wiele przepływów wyjściowych, a także co w przypadku, gdy relacje dla wielu zdarzeń są różne.\n"
   ]
  },
  {
   "cell_type": "markdown",
   "metadata": {},
   "source": [
    "Poniższy kod uwzględnił pojawianie się wielu zdarzeń początkowych oraz końcowych oraz pojawianie się zdarzeń równoległych."
   ]
  },
  {
   "cell_type": "code",
   "execution_count": null,
   "metadata": {},
   "outputs": [],
   "source": [
    "for key, lists in data.items():\n",
    "    start_set_events.update(set(lists[0]))\n",
    "    end_set_events.update(set(lists[-1]))\n",
    "print(start_set_events)\n",
    "print(end_set_events)\n",
    "print(type(data))\n",
    "\n",
    "keys = list()\n",
    "for key, value in direct_s.items():\n",
    "    keys.append(key)\n",
    "parallel_events = set()\n",
    "lista = list()\n",
    "# set(keys)\n",
    "keys.sort()\n",
    "for i, keyss in enumerate(keys):\n",
    "        if i < (len(keys)-1):\n",
    "            if (keys[i]) in (direct_s[keys[i+1]]) and (keys[i+1]) and (direct_s[keys[i]]):\n",
    "                tuplez = (keys[i], keys[i+1])\n",
    "\n",
    "                parallel_events.update([tuplez])\n",
    "\n",
    "listas = list(parallel_events)\n",
    "set1 = set()\n",
    "set2 = set()\n",
    "set3 = set()\n",
    "setss = [set1, set2, set3]\n",
    "for i, listass in enumerate(listas):\n",
    "    for j, vals in enumerate(listass):\n",
    "        if listass[j] in listas[i] and i != j:\n",
    "            print(listass[j], listas[i])\n",
    "            setss[i] = set(listas[i])\n",
    "\n",
    "            set1.update((setss[i]))\n",
    "parallel_events.update([tuple(set1)])\n",
    "parallel_events"
   ]
  },
  {
   "cell_type": "markdown",
   "metadata": {},
   "source": [
    "Zastosowanie powyższego kodu pozwoliło nam na uzyskanie poprawnych wyników z zestawów A. Prezentacja uzyskanych diagramów poniżej."
   ]
  },
  {
   "cell_type": "markdown",
   "metadata": {},
   "source": [
    "<img src=2.png>\n",
    "<img src=3.png>\n",
    "<img src=4.png>\n",
    "<img src=5.png>\n",
    "<img src=9.png>\n",
    "<img src=10.png>"
   ]
  },
  {
   "cell_type": "markdown",
   "metadata": {},
   "source": [
    "3. Zintegruj odkrywanie relacji z dzisiejszych zajęć z minerem stworzonym w ramach poprzednich zajęć i rozszerz ich działanie. "
   ]
  },
  {
   "cell_type": "markdown",
   "metadata": {},
   "source": [
    "<img src=6.png>\n",
    "<img src=7.png>"
   ]
  },
  {
   "cell_type": "markdown",
   "metadata": {},
   "source": [
    "Prezentacja logów z dzisiejszych zajęć z wykorzystaniem algorytmów i filtrowania z zajęć poprzednich przebiega w sposób bardzo dobry. Założenia są zachowane, wszystkie kolory prezentowane są w sposób prawidłowy. Również istnieje możliwość korzystania z zaimplementowanych filtrów, należy jednak zwrócić szczególną uwagę na wartości jakie sa prezentowane."
   ]
  },
  {
   "cell_type": "markdown",
   "metadata": {},
   "source": [
    "Umieszczenie logów z poprzednich zajęć w programie, który stworzyliśmy również jest możliwe, aczkolwiek otrzymane rezultaty nie generują zbyt czytelnych wyników, może wynikać to ze względu na ich ogromną ilość oraz bardzo zróżnicowane zachowanie. Przedstawiony diagram jest bardzo nieestetyczny i ze wzgledu na jego wygląd nie zostanie umieszcziny w sprawozdaniu. "
   ]
  },
  {
   "cell_type": "markdown",
   "metadata": {},
   "source": [
    "4. Dodaj możliwość przesłania pliku dziennika zdarzeń w celu wykrycia procesu.\n",
    "Poniżej przedstawiamy kod, który pozwala na automatyczne załadowanie pilków w jednym z dwóch omawianych rozszerzeń."
   ]
  },
  {
   "cell_type": "code",
   "execution_count": null,
   "metadata": {},
   "outputs": [],
   "source": [
    "file = input()\n",
    "start_set_events = set()\n",
    "end_set_events = set()\n",
    "if file.endswith('.csv'):\n",
    "    df = pd.read_csv(file)\n",
    "    data = {1: 0,\n",
    "    2: 0,\n",
    "    3: 0,\n",
    "    4: 0}\n",
    "    for case in df['Case ID']:\n",
    "        if help == case: \n",
    "            continue\n",
    "        df1 = df.loc[df['Case ID'] == case]\n",
    "        # print(df1)\n",
    "        df1 = df1[\"Activity\"].values.tolist()\n",
    "        help = case\n",
    "        data[case] = df1\n",
    "elif file.endswith('.xes'):\n",
    "    log = xes_importer.apply(file)\n",
    "    pd = xes_converter.apply(log, variant=xes_converter.TO_DATA_FRAME)\n",
    "    df = pd\n",
    "    data = {}\n",
    "    for case in df['case:concept:name']:\n",
    "        if help == case: \n",
    "                continue\n",
    "        df1 = df.loc[df['case:concept:name'] == case]\n",
    "        df1 = df1[\"Activity\"].values.tolist()\n",
    "        help = case\n",
    "        data[case] = df1\n",
    "elif file == 'test':\n",
    "    data ={1: ['a', 'b', 'c', 'd', 'e', 'h', 'i', 'k'], \n",
    "2: ['a', 'b', 'd', 'c', 'e', 'h', 'j', 'k'],\n",
    "3: ['a', 'f', 'g', 'h', 'i', 'k']}"
   ]
  },
  {
   "cell_type": "markdown",
   "metadata": {},
   "source": [
    "Jako input należy zamieścić nazwe pliku. Dzięki temu rozwiązaniu bardzo proste staje się szybkie sprawdzanie konkretnych algorytmów."
   ]
  },
  {
   "cell_type": "markdown",
   "metadata": {},
   "source": [
    "5. Rozbuduj opracowany algorytm o wykrywanie dodatkowych relacji/konstrukcji z algorytmu Alpha+ (krótkie pętle: *self-loops* oraz *short-loops*). "
   ]
  },
  {
   "cell_type": "markdown",
   "metadata": {},
   "source": [
    "Zgodnie z zdaniem algorytm został rozbudowany o wykrywanie short oraz self loops. Kod przedstawiony poniżej za to odpowiada."
   ]
  },
  {
   "cell_type": "code",
   "execution_count": null,
   "metadata": {},
   "outputs": [],
   "source": [
    "self_loop = dict()\n",
    "short_loop = set()\n",
    "for key, value in data.items():\n",
    "    for i, valuee in enumerate(value):\n",
    "        if value[i-1] == value[i]:\n",
    "            self_loop[value[i]] = value[i]\n",
    "            \n",
    "\n",
    "for key, value in data.items():\n",
    "    for i, valuee in enumerate(value):\n",
    "        if value[i-3] == value[i]:\n",
    "            short_loop.update(value[i])\n",
    "        elif value[i-2] == value[i]:\n",
    "            short_loop.update(value[i])\n",
    "                      \n",
    "for elements in self_loop:\n",
    "    if elements in short_loop:\n",
    "        short_loop.remove(elements)\n",
    "\n",
    "print(self_loop, \"-insinde self-loop\")\n",
    "print(short_loop, \"-insinde short-loop\")"
   ]
  },
  {
   "cell_type": "markdown",
   "metadata": {},
   "source": [
    "W dalszej części kodu dodany został fragment odpowiedzialny za dorysowanie dodatkowych fragmentów. Skutokowało to zmianami w diagramach, niestety częśc diagramów wygląda conajmniej nieestetycznie."
   ]
  },
  {
   "cell_type": "markdown",
   "metadata": {},
   "source": [
    "<img src=11.png>\n",
    "<img src=12.png>\n",
    "<img src=13.png>\n",
    "<img src=14.png>\n",
    "<img src=15.png>\n",
    "<img src=16.png>\n",
    "<img src=17.png>\n",
    "<img src=18.png>"
   ]
  },
  {
   "cell_type": "markdown",
   "metadata": {},
   "source": [
    "6. Wnioski\n",
    "Podczas wykonywania ćwiczenia można zwrócić szczególną uwagę na to iz podstawowy Algorytm Alpha nie zawsze poprawnie radzi sobie z rozwiązaniem problemu i trzeba dokonać pewnych modyfikacji aby mu w tym \"pomóc\".\n",
    "Tak na prawde, dane otrzymane w różnej postaci przy wykorzystaniu kilku linijek kodu można dostosować do użycia w jednym i tym samym programie.\n",
    "Podczas tworzenia grafów szczególnie ważne jest zwrócenie uwagi na odpowiedni dobór bramek w schemacie i ewentualne zabezpieczenie różnych ewentualności z wykorzystanim programu.\n",
    "Znacznym problemem okzało się rysowanie diagramów w środowisku VSC, niestety w trakcie tworzenia projektu nie udało nam się zlokalizować problemu daltego tekst na diagramach jest troche przesunięty."
   ]
  }
 ],
 "metadata": {
  "language_info": {
   "name": "python"
  },
  "orig_nbformat": 4
 },
 "nbformat": 4,
 "nbformat_minor": 2
}
